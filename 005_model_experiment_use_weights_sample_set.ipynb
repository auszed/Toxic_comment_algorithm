{
  "cells": [
    {
      "cell_type": "code",
      "execution_count": 1,
      "metadata": {
        "colab": {
          "base_uri": "https://localhost:8080/"
        },
        "id": "dvLOfLRZpgRH",
        "outputId": "13f71017-2a4e-4dcb-a08a-734e49cac8ea"
      },
      "outputs": [
        {
          "output_type": "stream",
          "name": "stdout",
          "text": [
            "Mounted at /content/drive\n"
          ]
        }
      ],
      "source": [
        "from google.colab import drive\n",
        "import os\n",
        "drive.mount('/content/drive')\n",
        "\n",
        "enable_code_paths = True\n",
        "\n",
        "if enable_code_paths:\n",
        "    URL_path = \"/content/drive/MyDrive/Code/Data_science_Turing_college/Colabs/14_002_NLP/dataset/clean_dataset.csv\"\n",
        "    URL_path_save = \"/content/drive/MyDrive/Code/Data_science_Turing_college/Colabs/14_002_NLP/model\"\n",
        "    URL_helper =\"/content/drive/MyDrive/Code/Data_science_Turing_college/Colabs/14_002_NLP/helper/\"\n",
        "else :\n",
        "    URL_path = \"/content/drive/MyDrive/turing_college_experiments/14_NLP/helper\"\n",
        "    URL_path_save = \"/content/drive/MyDrive/turing_college_experiments/14_NLP/model\"\n",
        "    URL_helper = \"/content/drive/MyDrive/turing_college_experiments/14_NLP/helper\"\n",
        "import sys\n",
        "sys.path.append(URL_helper)\n",
        "\n",
        "from colab_helper import proportion_balance_classes"
      ]
    },
    {
      "cell_type": "markdown",
      "metadata": {
        "id": "jqwzvkjkjHm1"
      },
      "source": [
        "Now we will be installing all the modules that are required"
      ]
    },
    {
      "cell_type": "code",
      "execution_count": 2,
      "metadata": {
        "colab": {
          "base_uri": "https://localhost:8080/"
        },
        "id": "vXrIe3d7jLD-",
        "outputId": "8f854ac0-5ec4-47ea-9497-9b6e58b51162"
      },
      "outputs": [
        {
          "output_type": "stream",
          "name": "stdout",
          "text": [
            "Collecting torchinfo\n",
            "  Downloading torchinfo-1.8.0-py3-none-any.whl.metadata (21 kB)\n",
            "Downloading torchinfo-1.8.0-py3-none-any.whl (23 kB)\n",
            "Installing collected packages: torchinfo\n",
            "Successfully installed torchinfo-1.8.0\n"
          ]
        }
      ],
      "source": [
        "!pip install torchinfo"
      ]
    },
    {
      "cell_type": "markdown",
      "metadata": {
        "id": "PHsefh5QojqZ"
      },
      "source": [
        "We will be exploring the Bert model and see if we could find any good performance"
      ]
    },
    {
      "cell_type": "code",
      "execution_count": 3,
      "metadata": {
        "colab": {
          "base_uri": "https://localhost:8080/",
          "height": 132
        },
        "id": "pzM1_ykHaFur",
        "outputId": "4652288e-f6f8-4900-ccd1-84d1027a47cd"
      },
      "outputs": [
        {
          "output_type": "stream",
          "name": "stderr",
          "text": [
            "/usr/local/lib/python3.10/dist-packages/torch_xla/__init__.py:253: UserWarning: `tensorflow` can conflict with `torch-xla`. Prefer `tensorflow-cpu` when using PyTorch/XLA. To silence this warning, `pip uninstall -y tensorflow && pip install tensorflow-cpu`. If you are in a notebook environment such as Colab or Kaggle, restart your notebook runtime afterwards.\n",
            "  warnings.warn(\n"
          ]
        },
        {
          "output_type": "execute_result",
          "data": {
            "text/plain": [
              "[(0.21176470588235294, 0.807843137254902, 0.5411764705882353),\n",
              " (0.4549019607843137, 0.21176470588235294, 0.9607843137254902),\n",
              " (0.21568627450980393, 0.21176470588235294, 0.9568627450980393),\n",
              " (0.21176470588235294, 0.6823529411764706, 0.9607843137254902),\n",
              " (0.7019607843137254, 0.21176470588235294, 0.9607843137254902),\n",
              " (0.9725490196078431, 0.08627450980392157, 0.3686274509803922),\n",
              " (0.21176470588235294, 0.4392156862745098, 0.6039215686274509),\n",
              " (0.21176470588235294, 0.4470588235294118, 0.9607843137254902),\n",
              " (0.47843137254901963, 0.807843137254902, 0.36470588235294116)]"
            ],
            "text/html": [
              "<svg  width=\"495\" height=\"55\"><rect x=\"0\" y=\"0\" width=\"55\" height=\"55\" style=\"fill:#36ce8a;stroke-width:2;stroke:rgb(255,255,255)\"/><rect x=\"55\" y=\"0\" width=\"55\" height=\"55\" style=\"fill:#7436f5;stroke-width:2;stroke:rgb(255,255,255)\"/><rect x=\"110\" y=\"0\" width=\"55\" height=\"55\" style=\"fill:#3736f4;stroke-width:2;stroke:rgb(255,255,255)\"/><rect x=\"165\" y=\"0\" width=\"55\" height=\"55\" style=\"fill:#36aef5;stroke-width:2;stroke:rgb(255,255,255)\"/><rect x=\"220\" y=\"0\" width=\"55\" height=\"55\" style=\"fill:#b336f5;stroke-width:2;stroke:rgb(255,255,255)\"/><rect x=\"275\" y=\"0\" width=\"55\" height=\"55\" style=\"fill:#f8165e;stroke-width:2;stroke:rgb(255,255,255)\"/><rect x=\"330\" y=\"0\" width=\"55\" height=\"55\" style=\"fill:#36709a;stroke-width:2;stroke:rgb(255,255,255)\"/><rect x=\"385\" y=\"0\" width=\"55\" height=\"55\" style=\"fill:#3672f5;stroke-width:2;stroke:rgb(255,255,255)\"/><rect x=\"440\" y=\"0\" width=\"55\" height=\"55\" style=\"fill:#7ace5d;stroke-width:2;stroke:rgb(255,255,255)\"/></svg>"
            ]
          },
          "metadata": {},
          "execution_count": 3
        }
      ],
      "source": [
        "# Main Libraries\n",
        "import numpy as np\n",
        "import pandas as pd\n",
        "import time\n",
        "from tqdm import tqdm\n",
        "\n",
        "# PyTorch Libraries\n",
        "import torch\n",
        "from torch.utils.data import Dataset, DataLoader, RandomSampler, SequentialSampler\n",
        "from torchinfo import summary  # Model summary tool for PyTorch\n",
        "\n",
        "# Transformers Library (for BERT and related utilities)\n",
        "from transformers import BertTokenizer, BertModel, BertConfig\n",
        "\n",
        "# Evaluation and Metrics\n",
        "from sklearn import metrics\n",
        "from sklearn.metrics import accuracy_score, recall_score\n",
        "from sklearn.model_selection import train_test_split\n",
        "\n",
        "# Visualization Libraries\n",
        "import matplotlib.pyplot as plt\n",
        "from matplotlib.colors import LinearSegmentedColormap\n",
        "import seaborn as sns\n",
        "import plotly.graph_objects as go\n",
        "\n",
        "from torch import cuda\n",
        "device = 'cuda' if cuda.is_available() else 'cpu'\n",
        "\n",
        "# colorama\n",
        "custom_colors = ['#36CE8A', \"#7436F5\",\"#3736F4\",   \"#36AEF5\", \"#B336F5\", \"#f8165e\", \"#36709A\",  \"#3672F5\", \"#7ACE5D\"]\n",
        "gradient_colors = [ \"#36CE8A\", '#7436F5']\n",
        "color_palette_custom  = sns.set_palette(custom_colors)\n",
        "theme_color = sns.color_palette(color_palette_custom, 9)\n",
        "cmap_theme = LinearSegmentedColormap.from_list('custom_colormap', gradient_colors)\n",
        "theme_color"
      ]
    },
    {
      "cell_type": "code",
      "source": [
        "dataframe = pd.read_csv(URL_path)\n",
        "# dataframe[\"not_toxic\"] = ((dataframe.iloc[:, 1:] == 0).all(axis=1)).astype(int)\n",
        "dataframe.head()\n"
      ],
      "metadata": {
        "colab": {
          "base_uri": "https://localhost:8080/",
          "height": 206
        },
        "id": "Cj6N-JVvmmN_",
        "outputId": "e5c60d88-d446-46d5-e9cf-d89e9012e66a"
      },
      "execution_count": 4,
      "outputs": [
        {
          "output_type": "execute_result",
          "data": {
            "text/plain": [
              "                                        comment_text  toxic  severe_toxic  \\\n",
              "0  ExplanationWhy the edits made under my usernam...      0             0   \n",
              "1  D'aww! He matches this background colour I'm s...      0             0   \n",
              "2  Hey man, I'm really not trying to edit war. It...      0             0   \n",
              "3  \"MoreI can't make any real suggestions on impr...      0             0   \n",
              "4  You, sir, are my hero. Any chance you remember...      0             0   \n",
              "\n",
              "   obscene  threat  insult  identity_hate  \n",
              "0        0       0       0              0  \n",
              "1        0       0       0              0  \n",
              "2        0       0       0              0  \n",
              "3        0       0       0              0  \n",
              "4        0       0       0              0  "
            ],
            "text/html": [
              "\n",
              "  <div id=\"df-0dcd856b-cc37-41ce-96aa-d523e85ba0bd\" class=\"colab-df-container\">\n",
              "    <div>\n",
              "<style scoped>\n",
              "    .dataframe tbody tr th:only-of-type {\n",
              "        vertical-align: middle;\n",
              "    }\n",
              "\n",
              "    .dataframe tbody tr th {\n",
              "        vertical-align: top;\n",
              "    }\n",
              "\n",
              "    .dataframe thead th {\n",
              "        text-align: right;\n",
              "    }\n",
              "</style>\n",
              "<table border=\"1\" class=\"dataframe\">\n",
              "  <thead>\n",
              "    <tr style=\"text-align: right;\">\n",
              "      <th></th>\n",
              "      <th>comment_text</th>\n",
              "      <th>toxic</th>\n",
              "      <th>severe_toxic</th>\n",
              "      <th>obscene</th>\n",
              "      <th>threat</th>\n",
              "      <th>insult</th>\n",
              "      <th>identity_hate</th>\n",
              "    </tr>\n",
              "  </thead>\n",
              "  <tbody>\n",
              "    <tr>\n",
              "      <th>0</th>\n",
              "      <td>ExplanationWhy the edits made under my usernam...</td>\n",
              "      <td>0</td>\n",
              "      <td>0</td>\n",
              "      <td>0</td>\n",
              "      <td>0</td>\n",
              "      <td>0</td>\n",
              "      <td>0</td>\n",
              "    </tr>\n",
              "    <tr>\n",
              "      <th>1</th>\n",
              "      <td>D'aww! He matches this background colour I'm s...</td>\n",
              "      <td>0</td>\n",
              "      <td>0</td>\n",
              "      <td>0</td>\n",
              "      <td>0</td>\n",
              "      <td>0</td>\n",
              "      <td>0</td>\n",
              "    </tr>\n",
              "    <tr>\n",
              "      <th>2</th>\n",
              "      <td>Hey man, I'm really not trying to edit war. It...</td>\n",
              "      <td>0</td>\n",
              "      <td>0</td>\n",
              "      <td>0</td>\n",
              "      <td>0</td>\n",
              "      <td>0</td>\n",
              "      <td>0</td>\n",
              "    </tr>\n",
              "    <tr>\n",
              "      <th>3</th>\n",
              "      <td>\"MoreI can't make any real suggestions on impr...</td>\n",
              "      <td>0</td>\n",
              "      <td>0</td>\n",
              "      <td>0</td>\n",
              "      <td>0</td>\n",
              "      <td>0</td>\n",
              "      <td>0</td>\n",
              "    </tr>\n",
              "    <tr>\n",
              "      <th>4</th>\n",
              "      <td>You, sir, are my hero. Any chance you remember...</td>\n",
              "      <td>0</td>\n",
              "      <td>0</td>\n",
              "      <td>0</td>\n",
              "      <td>0</td>\n",
              "      <td>0</td>\n",
              "      <td>0</td>\n",
              "    </tr>\n",
              "  </tbody>\n",
              "</table>\n",
              "</div>\n",
              "    <div class=\"colab-df-buttons\">\n",
              "\n",
              "  <div class=\"colab-df-container\">\n",
              "    <button class=\"colab-df-convert\" onclick=\"convertToInteractive('df-0dcd856b-cc37-41ce-96aa-d523e85ba0bd')\"\n",
              "            title=\"Convert this dataframe to an interactive table.\"\n",
              "            style=\"display:none;\">\n",
              "\n",
              "  <svg xmlns=\"http://www.w3.org/2000/svg\" height=\"24px\" viewBox=\"0 -960 960 960\">\n",
              "    <path d=\"M120-120v-720h720v720H120Zm60-500h600v-160H180v160Zm220 220h160v-160H400v160Zm0 220h160v-160H400v160ZM180-400h160v-160H180v160Zm440 0h160v-160H620v160ZM180-180h160v-160H180v160Zm440 0h160v-160H620v160Z\"/>\n",
              "  </svg>\n",
              "    </button>\n",
              "\n",
              "  <style>\n",
              "    .colab-df-container {\n",
              "      display:flex;\n",
              "      gap: 12px;\n",
              "    }\n",
              "\n",
              "    .colab-df-convert {\n",
              "      background-color: #E8F0FE;\n",
              "      border: none;\n",
              "      border-radius: 50%;\n",
              "      cursor: pointer;\n",
              "      display: none;\n",
              "      fill: #1967D2;\n",
              "      height: 32px;\n",
              "      padding: 0 0 0 0;\n",
              "      width: 32px;\n",
              "    }\n",
              "\n",
              "    .colab-df-convert:hover {\n",
              "      background-color: #E2EBFA;\n",
              "      box-shadow: 0px 1px 2px rgba(60, 64, 67, 0.3), 0px 1px 3px 1px rgba(60, 64, 67, 0.15);\n",
              "      fill: #174EA6;\n",
              "    }\n",
              "\n",
              "    .colab-df-buttons div {\n",
              "      margin-bottom: 4px;\n",
              "    }\n",
              "\n",
              "    [theme=dark] .colab-df-convert {\n",
              "      background-color: #3B4455;\n",
              "      fill: #D2E3FC;\n",
              "    }\n",
              "\n",
              "    [theme=dark] .colab-df-convert:hover {\n",
              "      background-color: #434B5C;\n",
              "      box-shadow: 0px 1px 3px 1px rgba(0, 0, 0, 0.15);\n",
              "      filter: drop-shadow(0px 1px 2px rgba(0, 0, 0, 0.3));\n",
              "      fill: #FFFFFF;\n",
              "    }\n",
              "  </style>\n",
              "\n",
              "    <script>\n",
              "      const buttonEl =\n",
              "        document.querySelector('#df-0dcd856b-cc37-41ce-96aa-d523e85ba0bd button.colab-df-convert');\n",
              "      buttonEl.style.display =\n",
              "        google.colab.kernel.accessAllowed ? 'block' : 'none';\n",
              "\n",
              "      async function convertToInteractive(key) {\n",
              "        const element = document.querySelector('#df-0dcd856b-cc37-41ce-96aa-d523e85ba0bd');\n",
              "        const dataTable =\n",
              "          await google.colab.kernel.invokeFunction('convertToInteractive',\n",
              "                                                    [key], {});\n",
              "        if (!dataTable) return;\n",
              "\n",
              "        const docLinkHtml = 'Like what you see? Visit the ' +\n",
              "          '<a target=\"_blank\" href=https://colab.research.google.com/notebooks/data_table.ipynb>data table notebook</a>'\n",
              "          + ' to learn more about interactive tables.';\n",
              "        element.innerHTML = '';\n",
              "        dataTable['output_type'] = 'display_data';\n",
              "        await google.colab.output.renderOutput(dataTable, element);\n",
              "        const docLink = document.createElement('div');\n",
              "        docLink.innerHTML = docLinkHtml;\n",
              "        element.appendChild(docLink);\n",
              "      }\n",
              "    </script>\n",
              "  </div>\n",
              "\n",
              "\n",
              "<div id=\"df-6acaa3ba-9a35-4b3b-832b-3fdc571c21eb\">\n",
              "  <button class=\"colab-df-quickchart\" onclick=\"quickchart('df-6acaa3ba-9a35-4b3b-832b-3fdc571c21eb')\"\n",
              "            title=\"Suggest charts\"\n",
              "            style=\"display:none;\">\n",
              "\n",
              "<svg xmlns=\"http://www.w3.org/2000/svg\" height=\"24px\"viewBox=\"0 0 24 24\"\n",
              "     width=\"24px\">\n",
              "    <g>\n",
              "        <path d=\"M19 3H5c-1.1 0-2 .9-2 2v14c0 1.1.9 2 2 2h14c1.1 0 2-.9 2-2V5c0-1.1-.9-2-2-2zM9 17H7v-7h2v7zm4 0h-2V7h2v10zm4 0h-2v-4h2v4z\"/>\n",
              "    </g>\n",
              "</svg>\n",
              "  </button>\n",
              "\n",
              "<style>\n",
              "  .colab-df-quickchart {\n",
              "      --bg-color: #E8F0FE;\n",
              "      --fill-color: #1967D2;\n",
              "      --hover-bg-color: #E2EBFA;\n",
              "      --hover-fill-color: #174EA6;\n",
              "      --disabled-fill-color: #AAA;\n",
              "      --disabled-bg-color: #DDD;\n",
              "  }\n",
              "\n",
              "  [theme=dark] .colab-df-quickchart {\n",
              "      --bg-color: #3B4455;\n",
              "      --fill-color: #D2E3FC;\n",
              "      --hover-bg-color: #434B5C;\n",
              "      --hover-fill-color: #FFFFFF;\n",
              "      --disabled-bg-color: #3B4455;\n",
              "      --disabled-fill-color: #666;\n",
              "  }\n",
              "\n",
              "  .colab-df-quickchart {\n",
              "    background-color: var(--bg-color);\n",
              "    border: none;\n",
              "    border-radius: 50%;\n",
              "    cursor: pointer;\n",
              "    display: none;\n",
              "    fill: var(--fill-color);\n",
              "    height: 32px;\n",
              "    padding: 0;\n",
              "    width: 32px;\n",
              "  }\n",
              "\n",
              "  .colab-df-quickchart:hover {\n",
              "    background-color: var(--hover-bg-color);\n",
              "    box-shadow: 0 1px 2px rgba(60, 64, 67, 0.3), 0 1px 3px 1px rgba(60, 64, 67, 0.15);\n",
              "    fill: var(--button-hover-fill-color);\n",
              "  }\n",
              "\n",
              "  .colab-df-quickchart-complete:disabled,\n",
              "  .colab-df-quickchart-complete:disabled:hover {\n",
              "    background-color: var(--disabled-bg-color);\n",
              "    fill: var(--disabled-fill-color);\n",
              "    box-shadow: none;\n",
              "  }\n",
              "\n",
              "  .colab-df-spinner {\n",
              "    border: 2px solid var(--fill-color);\n",
              "    border-color: transparent;\n",
              "    border-bottom-color: var(--fill-color);\n",
              "    animation:\n",
              "      spin 1s steps(1) infinite;\n",
              "  }\n",
              "\n",
              "  @keyframes spin {\n",
              "    0% {\n",
              "      border-color: transparent;\n",
              "      border-bottom-color: var(--fill-color);\n",
              "      border-left-color: var(--fill-color);\n",
              "    }\n",
              "    20% {\n",
              "      border-color: transparent;\n",
              "      border-left-color: var(--fill-color);\n",
              "      border-top-color: var(--fill-color);\n",
              "    }\n",
              "    30% {\n",
              "      border-color: transparent;\n",
              "      border-left-color: var(--fill-color);\n",
              "      border-top-color: var(--fill-color);\n",
              "      border-right-color: var(--fill-color);\n",
              "    }\n",
              "    40% {\n",
              "      border-color: transparent;\n",
              "      border-right-color: var(--fill-color);\n",
              "      border-top-color: var(--fill-color);\n",
              "    }\n",
              "    60% {\n",
              "      border-color: transparent;\n",
              "      border-right-color: var(--fill-color);\n",
              "    }\n",
              "    80% {\n",
              "      border-color: transparent;\n",
              "      border-right-color: var(--fill-color);\n",
              "      border-bottom-color: var(--fill-color);\n",
              "    }\n",
              "    90% {\n",
              "      border-color: transparent;\n",
              "      border-bottom-color: var(--fill-color);\n",
              "    }\n",
              "  }\n",
              "</style>\n",
              "\n",
              "  <script>\n",
              "    async function quickchart(key) {\n",
              "      const quickchartButtonEl =\n",
              "        document.querySelector('#' + key + ' button');\n",
              "      quickchartButtonEl.disabled = true;  // To prevent multiple clicks.\n",
              "      quickchartButtonEl.classList.add('colab-df-spinner');\n",
              "      try {\n",
              "        const charts = await google.colab.kernel.invokeFunction(\n",
              "            'suggestCharts', [key], {});\n",
              "      } catch (error) {\n",
              "        console.error('Error during call to suggestCharts:', error);\n",
              "      }\n",
              "      quickchartButtonEl.classList.remove('colab-df-spinner');\n",
              "      quickchartButtonEl.classList.add('colab-df-quickchart-complete');\n",
              "    }\n",
              "    (() => {\n",
              "      let quickchartButtonEl =\n",
              "        document.querySelector('#df-6acaa3ba-9a35-4b3b-832b-3fdc571c21eb button');\n",
              "      quickchartButtonEl.style.display =\n",
              "        google.colab.kernel.accessAllowed ? 'block' : 'none';\n",
              "    })();\n",
              "  </script>\n",
              "</div>\n",
              "\n",
              "    </div>\n",
              "  </div>\n"
            ],
            "application/vnd.google.colaboratory.intrinsic+json": {
              "type": "dataframe",
              "variable_name": "dataframe"
            }
          },
          "metadata": {},
          "execution_count": 4
        }
      ]
    },
    {
      "cell_type": "code",
      "source": [
        "target_y =dataframe.iloc[:,1:].sum()\n",
        "\n",
        "weights_list = target_y.tolist()\n",
        "weights = torch.tensor(weights_list, dtype=torch.float32)\n",
        "normalized_weights = weights / weights.sum()\n",
        "print(normalized_weights)\n",
        "\n",
        "print(f\"total samples {dataframe.shape[0]}\")\n",
        "proportion_balance_classes(target_y.index, target_y.values)"
      ],
      "metadata": {
        "colab": {
          "base_uri": "https://localhost:8080/",
          "height": 431
        },
        "id": "nZa6_W7urWOz",
        "outputId": "9ecbfb57-17f2-4ae3-cac7-4c54a570e279"
      },
      "execution_count": 5,
      "outputs": [
        {
          "output_type": "stream",
          "name": "stdout",
          "text": [
            "tensor([0.4357, 0.0435, 0.2409, 0.0137, 0.2262, 0.0400])\n",
            "total samples 144790\n"
          ]
        },
        {
          "output_type": "display_data",
          "data": {
            "text/plain": [
              "<Figure size 1500x400 with 1 Axes>"
            ],
            "image/png": "[encoded data removed]"
          },
          "metadata": {}
        }
      ]
    },
    {
      "cell_type": "markdown",
      "source": [
        "In this approach, we’ll use class weights without including all samples from the dataset, aiming to achieve better results by working with a subset of the data."
      ],
      "metadata": {
        "id": "-bTvH8JoroIb"
      }
    },
    {
      "cell_type": "markdown",
      "source": [
        "Now that we had a smaller dataset with all the data around the same balance, we will try to"
      ],
      "metadata": {
        "id": "5Is7RySLwAJe"
      }
    },
    {
      "cell_type": "code",
      "execution_count": 6,
      "metadata": {
        "colab": {
          "base_uri": "https://localhost:8080/",
          "height": 206
        },
        "id": "AEWjV_abofg8",
        "outputId": "866ed8cf-c562-4afc-82e3-401c9627570d"
      },
      "outputs": [
        {
          "output_type": "execute_result",
          "data": {
            "text/plain": [
              "                                        comment_text                list\n",
              "0  ExplanationWhy the edits made under my usernam...  [0, 0, 0, 0, 0, 0]\n",
              "1  D'aww! He matches this background colour I'm s...  [0, 0, 0, 0, 0, 0]\n",
              "2  Hey man, I'm really not trying to edit war. It...  [0, 0, 0, 0, 0, 0]\n",
              "3  \"MoreI can't make any real suggestions on impr...  [0, 0, 0, 0, 0, 0]\n",
              "4  You, sir, are my hero. Any chance you remember...  [0, 0, 0, 0, 0, 0]"
            ],
            "text/html": [
              "\n",
              "  <div id=\"df-ee261a55-c918-4023-8531-4d42ae64f1e6\" class=\"colab-df-container\">\n",
              "    <div>\n",
              "<style scoped>\n",
              "    .dataframe tbody tr th:only-of-type {\n",
              "        vertical-align: middle;\n",
              "    }\n",
              "\n",
              "    .dataframe tbody tr th {\n",
              "        vertical-align: top;\n",
              "    }\n",
              "\n",
              "    .dataframe thead th {\n",
              "        text-align: right;\n",
              "    }\n",
              "</style>\n",
              "<table border=\"1\" class=\"dataframe\">\n",
              "  <thead>\n",
              "    <tr style=\"text-align: right;\">\n",
              "      <th></th>\n",
              "      <th>comment_text</th>\n",
              "      <th>list</th>\n",
              "    </tr>\n",
              "  </thead>\n",
              "  <tbody>\n",
              "    <tr>\n",
              "      <th>0</th>\n",
              "      <td>ExplanationWhy the edits made under my usernam...</td>\n",
              "      <td>[0, 0, 0, 0, 0, 0]</td>\n",
              "    </tr>\n",
              "    <tr>\n",
              "      <th>1</th>\n",
              "      <td>D'aww! He matches this background colour I'm s...</td>\n",
              "      <td>[0, 0, 0, 0, 0, 0]</td>\n",
              "    </tr>\n",
              "    <tr>\n",
              "      <th>2</th>\n",
              "      <td>Hey man, I'm really not trying to edit war. It...</td>\n",
              "      <td>[0, 0, 0, 0, 0, 0]</td>\n",
              "    </tr>\n",
              "    <tr>\n",
              "      <th>3</th>\n",
              "      <td>\"MoreI can't make any real suggestions on impr...</td>\n",
              "      <td>[0, 0, 0, 0, 0, 0]</td>\n",
              "    </tr>\n",
              "    <tr>\n",
              "      <th>4</th>\n",
              "      <td>You, sir, are my hero. Any chance you remember...</td>\n",
              "      <td>[0, 0, 0, 0, 0, 0]</td>\n",
              "    </tr>\n",
              "  </tbody>\n",
              "</table>\n",
              "</div>\n",
              "    <div class=\"colab-df-buttons\">\n",
              "\n",
              "  <div class=\"colab-df-container\">\n",
              "    <button class=\"colab-df-convert\" onclick=\"convertToInteractive('df-ee261a55-c918-4023-8531-4d42ae64f1e6')\"\n",
              "            title=\"Convert this dataframe to an interactive table.\"\n",
              "            style=\"display:none;\">\n",
              "\n",
              "  <svg xmlns=\"http://www.w3.org/2000/svg\" height=\"24px\" viewBox=\"0 -960 960 960\">\n",
              "    <path d=\"M120-120v-720h720v720H120Zm60-500h600v-160H180v160Zm220 220h160v-160H400v160Zm0 220h160v-160H400v160ZM180-400h160v-160H180v160Zm440 0h160v-160H620v160ZM180-180h160v-160H180v160Zm440 0h160v-160H620v160Z\"/>\n",
              "  </svg>\n",
              "    </button>\n",
              "\n",
              "  <style>\n",
              "    .colab-df-container {\n",
              "      display:flex;\n",
              "      gap: 12px;\n",
              "    }\n",
              "\n",
              "    .colab-df-convert {\n",
              "      background-color: #E8F0FE;\n",
              "      border: none;\n",
              "      border-radius: 50%;\n",
              "      cursor: pointer;\n",
              "      display: none;\n",
              "      fill: #1967D2;\n",
              "      height: 32px;\n",
              "      padding: 0 0 0 0;\n",
              "      width: 32px;\n",
              "    }\n",
              "\n",
              "    .colab-df-convert:hover {\n",
              "      background-color: #E2EBFA;\n",
              "      box-shadow: 0px 1px 2px rgba(60, 64, 67, 0.3), 0px 1px 3px 1px rgba(60, 64, 67, 0.15);\n",
              "      fill: #174EA6;\n",
              "    }\n",
              "\n",
              "    .colab-df-buttons div {\n",
              "      margin-bottom: 4px;\n",
              "    }\n",
              "\n",
              "    [theme=dark] .colab-df-convert {\n",
              "      background-color: #3B4455;\n",
              "      fill: #D2E3FC;\n",
              "    }\n",
              "\n",
              "    [theme=dark] .colab-df-convert:hover {\n",
              "      background-color: #434B5C;\n",
              "      box-shadow: 0px 1px 3px 1px rgba(0, 0, 0, 0.15);\n",
              "      filter: drop-shadow(0px 1px 2px rgba(0, 0, 0, 0.3));\n",
              "      fill: #FFFFFF;\n",
              "    }\n",
              "  </style>\n",
              "\n",
              "    <script>\n",
              "      const buttonEl =\n",
              "        document.querySelector('#df-ee261a55-c918-4023-8531-4d42ae64f1e6 button.colab-df-convert');\n",
              "      buttonEl.style.display =\n",
              "        google.colab.kernel.accessAllowed ? 'block' : 'none';\n",
              "\n",
              "      async function convertToInteractive(key) {\n",
              "        const element = document.querySelector('#df-ee261a55-c918-4023-8531-4d42ae64f1e6');\n",
              "        const dataTable =\n",
              "          await google.colab.kernel.invokeFunction('convertToInteractive',\n",
              "                                                    [key], {});\n",
              "        if (!dataTable) return;\n",
              "\n",
              "        const docLinkHtml = 'Like what you see? Visit the ' +\n",
              "          '<a target=\"_blank\" href=https://colab.research.google.com/notebooks/data_table.ipynb>data table notebook</a>'\n",
              "          + ' to learn more about interactive tables.';\n",
              "        element.innerHTML = '';\n",
              "        dataTable['output_type'] = 'display_data';\n",
              "        await google.colab.output.renderOutput(dataTable, element);\n",
              "        const docLink = document.createElement('div');\n",
              "        docLink.innerHTML = docLinkHtml;\n",
              "        element.appendChild(docLink);\n",
              "      }\n",
              "    </script>\n",
              "  </div>\n",
              "\n",
              "\n",
              "<div id=\"df-c16fdce6-7e87-4b44-bd40-5f240282c072\">\n",
              "  <button class=\"colab-df-quickchart\" onclick=\"quickchart('df-c16fdce6-7e87-4b44-bd40-5f240282c072')\"\n",
              "            title=\"Suggest charts\"\n",
              "            style=\"display:none;\">\n",
              "\n",
              "<svg xmlns=\"http://www.w3.org/2000/svg\" height=\"24px\"viewBox=\"0 0 24 24\"\n",
              "     width=\"24px\">\n",
              "    <g>\n",
              "        <path d=\"M19 3H5c-1.1 0-2 .9-2 2v14c0 1.1.9 2 2 2h14c1.1 0 2-.9 2-2V5c0-1.1-.9-2-2-2zM9 17H7v-7h2v7zm4 0h-2V7h2v10zm4 0h-2v-4h2v4z\"/>\n",
              "    </g>\n",
              "</svg>\n",
              "  </button>\n",
              "\n",
              "<style>\n",
              "  .colab-df-quickchart {\n",
              "      --bg-color: #E8F0FE;\n",
              "      --fill-color: #1967D2;\n",
              "      --hover-bg-color: #E2EBFA;\n",
              "      --hover-fill-color: #174EA6;\n",
              "      --disabled-fill-color: #AAA;\n",
              "      --disabled-bg-color: #DDD;\n",
              "  }\n",
              "\n",
              "  [theme=dark] .colab-df-quickchart {\n",
              "      --bg-color: #3B4455;\n",
              "      --fill-color: #D2E3FC;\n",
              "      --hover-bg-color: #434B5C;\n",
              "      --hover-fill-color: #FFFFFF;\n",
              "      --disabled-bg-color: #3B4455;\n",
              "      --disabled-fill-color: #666;\n",
              "  }\n",
              "\n",
              "  .colab-df-quickchart {\n",
              "    background-color: var(--bg-color);\n",
              "    border: none;\n",
              "    border-radius: 50%;\n",
              "    cursor: pointer;\n",
              "    display: none;\n",
              "    fill: var(--fill-color);\n",
              "    height: 32px;\n",
              "    padding: 0;\n",
              "    width: 32px;\n",
              "  }\n",
              "\n",
              "  .colab-df-quickchart:hover {\n",
              "    background-color: var(--hover-bg-color);\n",
              "    box-shadow: 0 1px 2px rgba(60, 64, 67, 0.3), 0 1px 3px 1px rgba(60, 64, 67, 0.15);\n",
              "    fill: var(--button-hover-fill-color);\n",
              "  }\n",
              "\n",
              "  .colab-df-quickchart-complete:disabled,\n",
              "  .colab-df-quickchart-complete:disabled:hover {\n",
              "    background-color: var(--disabled-bg-color);\n",
              "    fill: var(--disabled-fill-color);\n",
              "    box-shadow: none;\n",
              "  }\n",
              "\n",
              "  .colab-df-spinner {\n",
              "    border: 2px solid var(--fill-color);\n",
              "    border-color: transparent;\n",
              "    border-bottom-color: var(--fill-color);\n",
              "    animation:\n",
              "      spin 1s steps(1) infinite;\n",
              "  }\n",
              "\n",
              "  @keyframes spin {\n",
              "    0% {\n",
              "      border-color: transparent;\n",
              "      border-bottom-color: var(--fill-color);\n",
              "      border-left-color: var(--fill-color);\n",
              "    }\n",
              "    20% {\n",
              "      border-color: transparent;\n",
              "      border-left-color: var(--fill-color);\n",
              "      border-top-color: var(--fill-color);\n",
              "    }\n",
              "    30% {\n",
              "      border-color: transparent;\n",
              "      border-left-color: var(--fill-color);\n",
              "      border-top-color: var(--fill-color);\n",
              "      border-right-color: var(--fill-color);\n",
              "    }\n",
              "    40% {\n",
              "      border-color: transparent;\n",
              "      border-right-color: var(--fill-color);\n",
              "      border-top-color: var(--fill-color);\n",
              "    }\n",
              "    60% {\n",
              "      border-color: transparent;\n",
              "      border-right-color: var(--fill-color);\n",
              "    }\n",
              "    80% {\n",
              "      border-color: transparent;\n",
              "      border-right-color: var(--fill-color);\n",
              "      border-bottom-color: var(--fill-color);\n",
              "    }\n",
              "    90% {\n",
              "      border-color: transparent;\n",
              "      border-bottom-color: var(--fill-color);\n",
              "    }\n",
              "  }\n",
              "</style>\n",
              "\n",
              "  <script>\n",
              "    async function quickchart(key) {\n",
              "      const quickchartButtonEl =\n",
              "        document.querySelector('#' + key + ' button');\n",
              "      quickchartButtonEl.disabled = true;  // To prevent multiple clicks.\n",
              "      quickchartButtonEl.classList.add('colab-df-spinner');\n",
              "      try {\n",
              "        const charts = await google.colab.kernel.invokeFunction(\n",
              "            'suggestCharts', [key], {});\n",
              "      } catch (error) {\n",
              "        console.error('Error during call to suggestCharts:', error);\n",
              "      }\n",
              "      quickchartButtonEl.classList.remove('colab-df-spinner');\n",
              "      quickchartButtonEl.classList.add('colab-df-quickchart-complete');\n",
              "    }\n",
              "    (() => {\n",
              "      let quickchartButtonEl =\n",
              "        document.querySelector('#df-c16fdce6-7e87-4b44-bd40-5f240282c072 button');\n",
              "      quickchartButtonEl.style.display =\n",
              "        google.colab.kernel.accessAllowed ? 'block' : 'none';\n",
              "    })();\n",
              "  </script>\n",
              "</div>\n",
              "\n",
              "    </div>\n",
              "  </div>\n"
            ],
            "application/vnd.google.colaboratory.intrinsic+json": {
              "type": "dataframe",
              "variable_name": "dataframe_clean"
            }
          },
          "metadata": {},
          "execution_count": 6
        }
      ],
      "source": [
        "dataframe['list'] = dataframe[dataframe.columns[1:]].values.tolist()\n",
        "dataframe_clean = dataframe[['comment_text', 'list']].copy()\n",
        "dataframe_clean.head()"
      ]
    },
    {
      "cell_type": "markdown",
      "source": [
        "# Dataset Parameters and model selection\n",
        "- **MAX_LEN**: Maximum length of the tokenized sequences\n",
        "- **TRAIN_BATCH_SIZE**: Batch size for the training set\n",
        "- **VALID_BATCH_SIZE**: Batch size for the validation set\n",
        "\n",
        "\n",
        "Then we select the BERT model"
      ],
      "metadata": {
        "id": "U3JoEZ6WU2dD"
      }
    },
    {
      "cell_type": "code",
      "source": [
        "MAX_LEN = 256\n",
        "TRAIN_BATCH_SIZE = 8\n",
        "VALID_BATCH_SIZE = 4\n",
        "\n",
        "tokenizer = BertTokenizer.from_pretrained('bert-base-uncased')"
      ],
      "metadata": {
        "colab": {
          "base_uri": "https://localhost:8080/"
        },
        "id": "S2rO82OqU-iT",
        "outputId": "7973f224-2c81-407d-881e-54d61a236691"
      },
      "execution_count": 40,
      "outputs": [
        {
          "output_type": "stream",
          "name": "stderr",
          "text": [
            "/usr/local/lib/python3.10/dist-packages/transformers/tokenization_utils_base.py:1601: FutureWarning: `clean_up_tokenization_spaces` was not set. It will be set to `True` by default. This behavior will be depracted in transformers v4.45, and will be then set to `False` by default. For more details check this issue: https://github.com/huggingface/transformers/issues/31884\n",
            "  warnings.warn(\n"
          ]
        }
      ]
    },
    {
      "cell_type": "code",
      "execution_count": 8,
      "metadata": {
        "id": "KccUTKu7qrY-"
      },
      "outputs": [],
      "source": [
        "class CustomDataset(Dataset):\n",
        "    \"\"\"Tokenize the dataset for using it in the model\"\"\"\n",
        "    def __init__(self, dataframe, tokenizer, max_len):\n",
        "        self.tokenizer = tokenizer\n",
        "        self.data = dataframe\n",
        "        self.comment_text = dataframe.comment_text\n",
        "        self.targets = self.data.list\n",
        "        self.max_len = max_len\n",
        "\n",
        "    def __len__(self):\n",
        "        return len(self.comment_text)\n",
        "\n",
        "    def __getitem__(self, index):\n",
        "        comment_text = str(self.comment_text[index])\n",
        "        comment_text = \" \".join(comment_text.split())\n",
        "\n",
        "        inputs = self.tokenizer.encode_plus(\n",
        "            comment_text,\n",
        "            None,\n",
        "            add_special_tokens=True,\n",
        "            max_length=self.max_len,\n",
        "            pad_to_max_length=True,\n",
        "            return_token_type_ids=True\n",
        "        )\n",
        "\n",
        "        ids = inputs['input_ids']\n",
        "        mask = inputs['attention_mask']\n",
        "        token_type_ids = inputs[\"token_type_ids\"]\n",
        "\n",
        "        values_return = {\n",
        "                        'ids': torch.tensor(ids, dtype=torch.int64),\n",
        "                        'mask': torch.tensor(mask, dtype=torch.int64),\n",
        "                        'token_type_ids': torch.tensor(token_type_ids, dtype=torch.int64),\n",
        "                        'targets': torch.tensor(self.targets[index], dtype=torch.float)\n",
        "                         }\n",
        "\n",
        "        return values_return"
      ]
    },
    {
      "cell_type": "markdown",
      "metadata": {
        "id": "moU59XMl7gD8"
      },
      "source": [
        "# split and dataloader\n",
        "\n",
        "We divided the dataset into 90% for training and 10% for validation in order to assess potential improvements in performance.\n"
      ]
    },
    {
      "cell_type": "code",
      "source": [
        "train_size = 0.05\n",
        "dataframe_clean=dataframe_clean.sample(frac=train_size,random_state=42)"
      ],
      "metadata": {
        "id": "cw_OWqGmqaaM"
      },
      "execution_count": 9,
      "outputs": []
    },
    {
      "cell_type": "code",
      "execution_count": 10,
      "metadata": {
        "colab": {
          "base_uri": "https://localhost:8080/"
        },
        "id": "H6wam_oyr45X",
        "outputId": "adaf0599-a9e6-4c90-b796-5e7092d60461"
      },
      "outputs": [
        {
          "output_type": "stream",
          "name": "stdout",
          "text": [
            "FULL Dataset: (7240, 2)\n",
            "TRAIN Dataset: (6516, 2)\n",
            "TEST Dataset: (724, 2)\n"
          ]
        }
      ],
      "source": [
        "# split\n",
        "train_size = 0.9\n",
        "train_dataset=dataframe_clean.sample(frac=train_size,random_state=42)\n",
        "test_dataset=dataframe_clean.drop(train_dataset.index).reset_index(drop=True)\n",
        "train_dataset = train_dataset.reset_index(drop=True)\n",
        "\n",
        "print(\"FULL Dataset: {}\".format(dataframe_clean.shape))\n",
        "print(\"TRAIN Dataset: {}\".format(train_dataset.shape))\n",
        "print(\"TEST Dataset: {}\".format(test_dataset.shape))\n",
        "\n",
        "# transforming the dataset\n",
        "training_set = CustomDataset(train_dataset, tokenizer, MAX_LEN)\n",
        "testing_set = CustomDataset(test_dataset, tokenizer, MAX_LEN)\n",
        "\n",
        "# dataloader\n",
        "train_params = {'batch_size': TRAIN_BATCH_SIZE,\n",
        "                'shuffle': True,\n",
        "                'num_workers': 0\n",
        "                }\n",
        "\n",
        "test_params = {'batch_size': VALID_BATCH_SIZE,\n",
        "                'shuffle': True,\n",
        "                'num_workers': 0\n",
        "                }\n",
        "\n",
        "training_loader = DataLoader(training_set, **train_params)\n",
        "testing_loader = DataLoader(testing_set, **test_params)"
      ]
    },
    {
      "cell_type": "markdown",
      "source": [
        "----------"
      ],
      "metadata": {
        "id": "vnhZo2lLEExI"
      }
    },
    {
      "cell_type": "markdown",
      "metadata": {
        "id": "4ESe7yXL8VVM"
      },
      "source": [
        "# Fine tune the model"
      ]
    },
    {
      "cell_type": "code",
      "execution_count": 11,
      "metadata": {
        "colab": {
          "base_uri": "https://localhost:8080/",
          "height": 485,
          "referenced_widgets": [
            "f2ab30a549ef4c24af109498a4119acc",
            "bc6ef25fb9134117a50a1ecc241cc11a",
            "acce8092cbaf45098c1812c095c27608",
            "623bc1382c944a889a8a227d5212f74a",
            "05cafa1734554bac97f155eb9ca47403",
            "51b5489046114a76bc2dbaf9dc5de348",
            "a93c44f1cae34722b276b3350b4d1116",
            "037a9f3843a3432cb393554f62eb41af",
            "7ca00665c95d463988fa891aa014d06b",
            "ba28cc9232614e03b7b65838c1b5dbd8",
            "24bb247703da4fd3b884cb455e039a69"
          ]
        },
        "id": "oqvb0eSq8bKC",
        "outputId": "4f025b1d-1cfe-42e0-d038-bb3bfb19e9ee"
      },
      "outputs": [
        {
          "output_type": "display_data",
          "data": {
            "text/plain": [
              "model.safetensors:   0%|          | 0.00/440M [00:00<?, ?B/s]"
            ],
            "application/vnd.jupyter.widget-view+json": {
              "version_major": 2,
              "version_minor": 0,
              "model_id": "f2ab30a549ef4c24af109498a4119acc"
            }
          },
          "metadata": {}
        },
        {
          "output_type": "execute_result",
          "data": {
            "text/plain": [
              "================================================================================\n",
              "Layer (type:depth-idx)                                  Param #\n",
              "================================================================================\n",
              "BertClass                                               --\n",
              "├─BertModel: 1-1                                        --\n",
              "│    └─BertEmbeddings: 2-1                              --\n",
              "│    │    └─Embedding: 3-1                              (23,440,896)\n",
              "│    │    └─Embedding: 3-2                              (393,216)\n",
              "│    │    └─Embedding: 3-3                              (1,536)\n",
              "│    │    └─LayerNorm: 3-4                              (1,536)\n",
              "│    │    └─Dropout: 3-5                                --\n",
              "│    └─BertEncoder: 2-2                                 --\n",
              "│    │    └─ModuleList: 3-6                             85,054,464\n",
              "│    └─BertPooler: 2-3                                  --\n",
              "│    │    └─Linear: 3-7                                 (590,592)\n",
              "│    │    └─Tanh: 3-8                                   --\n",
              "├─Linear: 1-2                                           196,864\n",
              "├─Dropout: 1-3                                          --\n",
              "├─Linear: 1-4                                           1,542\n",
              "================================================================================\n",
              "Total params: 109,680,646\n",
              "Trainable params: 7,286,278\n",
              "Non-trainable params: 102,394,368\n",
              "================================================================================"
            ]
          },
          "metadata": {},
          "execution_count": 11
        }
      ],
      "source": [
        "class BertClass(torch.nn.Module):\n",
        "    def __init__(self):\n",
        "        super(BertClass, self).__init__()\n",
        "        self.l1 = BertModel.from_pretrained('bert-base-uncased')\n",
        "        self.l2 = torch.nn.Linear(768, 256)\n",
        "        self.l3 = torch.nn.Dropout(0.3)\n",
        "        # because we are trying to predict 6 classes\n",
        "        self.l4 = torch.nn.Linear(256, 6)\n",
        "\n",
        "        # freeze the layers\n",
        "        for param in self.l1.parameters():\n",
        "            param.requires_grad = False\n",
        "        for param in self.l1.encoder.layer[-1].parameters():\n",
        "            param.requires_grad = True\n",
        "\n",
        "        # name of the layers\n",
        "        self.layer_names = {\n",
        "            'bert_model': self.l1,\n",
        "            'reducing_size': self.l2,\n",
        "            'dropout': self.l3,\n",
        "            'output_layer': self.l4,\n",
        "        }\n",
        "\n",
        "    def forward(self, ids, mask, token_type_ids):\n",
        "\n",
        "        assert isinstance(ids, torch.Tensor), f\"Expected tensor, got {type(ids)} for ids\"\n",
        "        assert isinstance(mask, torch.Tensor), f\"Expected tensor, got {type(mask)} for mask\"\n",
        "        assert isinstance(token_type_ids, torch.Tensor), f\"Expected tensor, got {type(token_type_ids)} for token_type_ids\"\n",
        "\n",
        "        output_1 = self.l1(ids, attention_mask=mask, token_type_ids=token_type_ids)\n",
        "        output_1 = output_1[1]\n",
        "        output_2 = self.l2(output_1)\n",
        "        output_3 = self.l3(output_2)\n",
        "        output = self.l4(output_3)\n",
        "        # print(output_3.shape)\n",
        "        # print(output.shape)\n",
        "        return output\n",
        "\n",
        "model_bert = BertClass()\n",
        "model_bert.to(device)\n",
        "\n",
        "summary(model_bert)"
      ]
    },
    {
      "cell_type": "markdown",
      "source": [
        "We will be looking now the freezing layers to undestand which once the model need to be trainable"
      ],
      "metadata": {
        "id": "-qtg1hGpbH9X"
      }
    },
    {
      "cell_type": "code",
      "source": [
        "def get_freeze_status_df(model):\n",
        "    \"\"\" Returns a DataFrame indicating whether each layer is trainable or frozen. \"\"\"\n",
        "    freeze_status = []\n",
        "    for name, param in model.named_parameters():\n",
        "        freeze_status.append({\n",
        "            'Layer Name': name,\n",
        "            'Trainable': param.requires_grad\n",
        "        })\n",
        "\n",
        "    return pd.DataFrame(freeze_status)\n",
        "\n",
        "# Call the function\n",
        "freeze_status_df = get_freeze_status_df(model_bert)\n",
        "freeze_status_df[freeze_status_df[\"Trainable\"] == True ]"
      ],
      "metadata": {
        "colab": {
          "base_uri": "https://localhost:8080/",
          "height": 676
        },
        "id": "tsFI5ClEY56g",
        "outputId": "37e9c7e7-614e-42f1-8ad1-ebe21b9302c3"
      },
      "execution_count": 12,
      "outputs": [
        {
          "output_type": "execute_result",
          "data": {
            "text/plain": [
              "                                            Layer Name  Trainable\n",
              "181    l1.encoder.layer.11.attention.self.query.weight       True\n",
              "182      l1.encoder.layer.11.attention.self.query.bias       True\n",
              "183      l1.encoder.layer.11.attention.self.key.weight       True\n",
              "184        l1.encoder.layer.11.attention.self.key.bias       True\n",
              "185    l1.encoder.layer.11.attention.self.value.weight       True\n",
              "186      l1.encoder.layer.11.attention.self.value.bias       True\n",
              "187  l1.encoder.layer.11.attention.output.dense.weight       True\n",
              "188    l1.encoder.layer.11.attention.output.dense.bias       True\n",
              "189  l1.encoder.layer.11.attention.output.LayerNorm...       True\n",
              "190  l1.encoder.layer.11.attention.output.LayerNorm...       True\n",
              "191      l1.encoder.layer.11.intermediate.dense.weight       True\n",
              "192        l1.encoder.layer.11.intermediate.dense.bias       True\n",
              "193            l1.encoder.layer.11.output.dense.weight       True\n",
              "194              l1.encoder.layer.11.output.dense.bias       True\n",
              "195        l1.encoder.layer.11.output.LayerNorm.weight       True\n",
              "196          l1.encoder.layer.11.output.LayerNorm.bias       True\n",
              "199                                          l2.weight       True\n",
              "200                                            l2.bias       True\n",
              "201                                          l4.weight       True\n",
              "202                                            l4.bias       True"
            ],
            "text/html": [
              "\n",
              "  <div id=\"df-88f84e0e-2a27-4c0a-b14c-9633862014c4\" class=\"colab-df-container\">\n",
              "    <div>\n",
              "<style scoped>\n",
              "    .dataframe tbody tr th:only-of-type {\n",
              "        vertical-align: middle;\n",
              "    }\n",
              "\n",
              "    .dataframe tbody tr th {\n",
              "        vertical-align: top;\n",
              "    }\n",
              "\n",
              "    .dataframe thead th {\n",
              "        text-align: right;\n",
              "    }\n",
              "</style>\n",
              "<table border=\"1\" class=\"dataframe\">\n",
              "  <thead>\n",
              "    <tr style=\"text-align: right;\">\n",
              "      <th></th>\n",
              "      <th>Layer Name</th>\n",
              "      <th>Trainable</th>\n",
              "    </tr>\n",
              "  </thead>\n",
              "  <tbody>\n",
              "    <tr>\n",
              "      <th>181</th>\n",
              "      <td>l1.encoder.layer.11.attention.self.query.weight</td>\n",
              "      <td>True</td>\n",
              "    </tr>\n",
              "    <tr>\n",
              "      <th>182</th>\n",
              "      <td>l1.encoder.layer.11.attention.self.query.bias</td>\n",
              "      <td>True</td>\n",
              "    </tr>\n",
              "    <tr>\n",
              "      <th>183</th>\n",
              "      <td>l1.encoder.layer.11.attention.self.key.weight</td>\n",
              "      <td>True</td>\n",
              "    </tr>\n",
              "    <tr>\n",
              "      <th>184</th>\n",
              "      <td>l1.encoder.layer.11.attention.self.key.bias</td>\n",
              "      <td>True</td>\n",
              "    </tr>\n",
              "    <tr>\n",
              "      <th>185</th>\n",
              "      <td>l1.encoder.layer.11.attention.self.value.weight</td>\n",
              "      <td>True</td>\n",
              "    </tr>\n",
              "    <tr>\n",
              "      <th>186</th>\n",
              "      <td>l1.encoder.layer.11.attention.self.value.bias</td>\n",
              "      <td>True</td>\n",
              "    </tr>\n",
              "    <tr>\n",
              "      <th>187</th>\n",
              "      <td>l1.encoder.layer.11.attention.output.dense.weight</td>\n",
              "      <td>True</td>\n",
              "    </tr>\n",
              "    <tr>\n",
              "      <th>188</th>\n",
              "      <td>l1.encoder.layer.11.attention.output.dense.bias</td>\n",
              "      <td>True</td>\n",
              "    </tr>\n",
              "    <tr>\n",
              "      <th>189</th>\n",
              "      <td>l1.encoder.layer.11.attention.output.LayerNorm...</td>\n",
              "      <td>True</td>\n",
              "    </tr>\n",
              "    <tr>\n",
              "      <th>190</th>\n",
              "      <td>l1.encoder.layer.11.attention.output.LayerNorm...</td>\n",
              "      <td>True</td>\n",
              "    </tr>\n",
              "    <tr>\n",
              "      <th>191</th>\n",
              "      <td>l1.encoder.layer.11.intermediate.dense.weight</td>\n",
              "      <td>True</td>\n",
              "    </tr>\n",
              "    <tr>\n",
              "      <th>192</th>\n",
              "      <td>l1.encoder.layer.11.intermediate.dense.bias</td>\n",
              "      <td>True</td>\n",
              "    </tr>\n",
              "    <tr>\n",
              "      <th>193</th>\n",
              "      <td>l1.encoder.layer.11.output.dense.weight</td>\n",
              "      <td>True</td>\n",
              "    </tr>\n",
              "    <tr>\n",
              "      <th>194</th>\n",
              "      <td>l1.encoder.layer.11.output.dense.bias</td>\n",
              "      <td>True</td>\n",
              "    </tr>\n",
              "    <tr>\n",
              "      <th>195</th>\n",
              "      <td>l1.encoder.layer.11.output.LayerNorm.weight</td>\n",
              "      <td>True</td>\n",
              "    </tr>\n",
              "    <tr>\n",
              "      <th>196</th>\n",
              "      <td>l1.encoder.layer.11.output.LayerNorm.bias</td>\n",
              "      <td>True</td>\n",
              "    </tr>\n",
              "    <tr>\n",
              "      <th>199</th>\n",
              "      <td>l2.weight</td>\n",
              "      <td>True</td>\n",
              "    </tr>\n",
              "    <tr>\n",
              "      <th>200</th>\n",
              "      <td>l2.bias</td>\n",
              "      <td>True</td>\n",
              "    </tr>\n",
              "    <tr>\n",
              "      <th>201</th>\n",
              "      <td>l4.weight</td>\n",
              "      <td>True</td>\n",
              "    </tr>\n",
              "    <tr>\n",
              "      <th>202</th>\n",
              "      <td>l4.bias</td>\n",
              "      <td>True</td>\n",
              "    </tr>\n",
              "  </tbody>\n",
              "</table>\n",
              "</div>\n",
              "    <div class=\"colab-df-buttons\">\n",
              "\n",
              "  <div class=\"colab-df-container\">\n",
              "    <button class=\"colab-df-convert\" onclick=\"convertToInteractive('df-88f84e0e-2a27-4c0a-b14c-9633862014c4')\"\n",
              "            title=\"Convert this dataframe to an interactive table.\"\n",
              "            style=\"display:none;\">\n",
              "\n",
              "  <svg xmlns=\"http://www.w3.org/2000/svg\" height=\"24px\" viewBox=\"0 -960 960 960\">\n",
              "    <path d=\"M120-120v-720h720v720H120Zm60-500h600v-160H180v160Zm220 220h160v-160H400v160Zm0 220h160v-160H400v160ZM180-400h160v-160H180v160Zm440 0h160v-160H620v160ZM180-180h160v-160H180v160Zm440 0h160v-160H620v160Z\"/>\n",
              "  </svg>\n",
              "    </button>\n",
              "\n",
              "  <style>\n",
              "    .colab-df-container {\n",
              "      display:flex;\n",
              "      gap: 12px;\n",
              "    }\n",
              "\n",
              "    .colab-df-convert {\n",
              "      background-color: #E8F0FE;\n",
              "      border: none;\n",
              "      border-radius: 50%;\n",
              "      cursor: pointer;\n",
              "      display: none;\n",
              "      fill: #1967D2;\n",
              "      height: 32px;\n",
              "      padding: 0 0 0 0;\n",
              "      width: 32px;\n",
              "    }\n",
              "\n",
              "    .colab-df-convert:hover {\n",
              "      background-color: #E2EBFA;\n",
              "      box-shadow: 0px 1px 2px rgba(60, 64, 67, 0.3), 0px 1px 3px 1px rgba(60, 64, 67, 0.15);\n",
              "      fill: #174EA6;\n",
              "    }\n",
              "\n",
              "    .colab-df-buttons div {\n",
              "      margin-bottom: 4px;\n",
              "    }\n",
              "\n",
              "    [theme=dark] .colab-df-convert {\n",
              "      background-color: #3B4455;\n",
              "      fill: #D2E3FC;\n",
              "    }\n",
              "\n",
              "    [theme=dark] .colab-df-convert:hover {\n",
              "      background-color: #434B5C;\n",
              "      box-shadow: 0px 1px 3px 1px rgba(0, 0, 0, 0.15);\n",
              "      filter: drop-shadow(0px 1px 2px rgba(0, 0, 0, 0.3));\n",
              "      fill: #FFFFFF;\n",
              "    }\n",
              "  </style>\n",
              "\n",
              "    <script>\n",
              "      const buttonEl =\n",
              "        document.querySelector('#df-88f84e0e-2a27-4c0a-b14c-9633862014c4 button.colab-df-convert');\n",
              "      buttonEl.style.display =\n",
              "        google.colab.kernel.accessAllowed ? 'block' : 'none';\n",
              "\n",
              "      async function convertToInteractive(key) {\n",
              "        const element = document.querySelector('#df-88f84e0e-2a27-4c0a-b14c-9633862014c4');\n",
              "        const dataTable =\n",
              "          await google.colab.kernel.invokeFunction('convertToInteractive',\n",
              "                                                    [key], {});\n",
              "        if (!dataTable) return;\n",
              "\n",
              "        const docLinkHtml = 'Like what you see? Visit the ' +\n",
              "          '<a target=\"_blank\" href=https://colab.research.google.com/notebooks/data_table.ipynb>data table notebook</a>'\n",
              "          + ' to learn more about interactive tables.';\n",
              "        element.innerHTML = '';\n",
              "        dataTable['output_type'] = 'display_data';\n",
              "        await google.colab.output.renderOutput(dataTable, element);\n",
              "        const docLink = document.createElement('div');\n",
              "        docLink.innerHTML = docLinkHtml;\n",
              "        element.appendChild(docLink);\n",
              "      }\n",
              "    </script>\n",
              "  </div>\n",
              "\n",
              "\n",
              "<div id=\"df-59862e1c-6991-484f-8baf-baaa62a40a44\">\n",
              "  <button class=\"colab-df-quickchart\" onclick=\"quickchart('df-59862e1c-6991-484f-8baf-baaa62a40a44')\"\n",
              "            title=\"Suggest charts\"\n",
              "            style=\"display:none;\">\n",
              "\n",
              "<svg xmlns=\"http://www.w3.org/2000/svg\" height=\"24px\"viewBox=\"0 0 24 24\"\n",
              "     width=\"24px\">\n",
              "    <g>\n",
              "        <path d=\"M19 3H5c-1.1 0-2 .9-2 2v14c0 1.1.9 2 2 2h14c1.1 0 2-.9 2-2V5c0-1.1-.9-2-2-2zM9 17H7v-7h2v7zm4 0h-2V7h2v10zm4 0h-2v-4h2v4z\"/>\n",
              "    </g>\n",
              "</svg>\n",
              "  </button>\n",
              "\n",
              "<style>\n",
              "  .colab-df-quickchart {\n",
              "      --bg-color: #E8F0FE;\n",
              "      --fill-color: #1967D2;\n",
              "      --hover-bg-color: #E2EBFA;\n",
              "      --hover-fill-color: #174EA6;\n",
              "      --disabled-fill-color: #AAA;\n",
              "      --disabled-bg-color: #DDD;\n",
              "  }\n",
              "\n",
              "  [theme=dark] .colab-df-quickchart {\n",
              "      --bg-color: #3B4455;\n",
              "      --fill-color: #D2E3FC;\n",
              "      --hover-bg-color: #434B5C;\n",
              "      --hover-fill-color: #FFFFFF;\n",
              "      --disabled-bg-color: #3B4455;\n",
              "      --disabled-fill-color: #666;\n",
              "  }\n",
              "\n",
              "  .colab-df-quickchart {\n",
              "    background-color: var(--bg-color);\n",
              "    border: none;\n",
              "    border-radius: 50%;\n",
              "    cursor: pointer;\n",
              "    display: none;\n",
              "    fill: var(--fill-color);\n",
              "    height: 32px;\n",
              "    padding: 0;\n",
              "    width: 32px;\n",
              "  }\n",
              "\n",
              "  .colab-df-quickchart:hover {\n",
              "    background-color: var(--hover-bg-color);\n",
              "    box-shadow: 0 1px 2px rgba(60, 64, 67, 0.3), 0 1px 3px 1px rgba(60, 64, 67, 0.15);\n",
              "    fill: var(--button-hover-fill-color);\n",
              "  }\n",
              "\n",
              "  .colab-df-quickchart-complete:disabled,\n",
              "  .colab-df-quickchart-complete:disabled:hover {\n",
              "    background-color: var(--disabled-bg-color);\n",
              "    fill: var(--disabled-fill-color);\n",
              "    box-shadow: none;\n",
              "  }\n",
              "\n",
              "  .colab-df-spinner {\n",
              "    border: 2px solid var(--fill-color);\n",
              "    border-color: transparent;\n",
              "    border-bottom-color: var(--fill-color);\n",
              "    animation:\n",
              "      spin 1s steps(1) infinite;\n",
              "  }\n",
              "\n",
              "  @keyframes spin {\n",
              "    0% {\n",
              "      border-color: transparent;\n",
              "      border-bottom-color: var(--fill-color);\n",
              "      border-left-color: var(--fill-color);\n",
              "    }\n",
              "    20% {\n",
              "      border-color: transparent;\n",
              "      border-left-color: var(--fill-color);\n",
              "      border-top-color: var(--fill-color);\n",
              "    }\n",
              "    30% {\n",
              "      border-color: transparent;\n",
              "      border-left-color: var(--fill-color);\n",
              "      border-top-color: var(--fill-color);\n",
              "      border-right-color: var(--fill-color);\n",
              "    }\n",
              "    40% {\n",
              "      border-color: transparent;\n",
              "      border-right-color: var(--fill-color);\n",
              "      border-top-color: var(--fill-color);\n",
              "    }\n",
              "    60% {\n",
              "      border-color: transparent;\n",
              "      border-right-color: var(--fill-color);\n",
              "    }\n",
              "    80% {\n",
              "      border-color: transparent;\n",
              "      border-right-color: var(--fill-color);\n",
              "      border-bottom-color: var(--fill-color);\n",
              "    }\n",
              "    90% {\n",
              "      border-color: transparent;\n",
              "      border-bottom-color: var(--fill-color);\n",
              "    }\n",
              "  }\n",
              "</style>\n",
              "\n",
              "  <script>\n",
              "    async function quickchart(key) {\n",
              "      const quickchartButtonEl =\n",
              "        document.querySelector('#' + key + ' button');\n",
              "      quickchartButtonEl.disabled = true;  // To prevent multiple clicks.\n",
              "      quickchartButtonEl.classList.add('colab-df-spinner');\n",
              "      try {\n",
              "        const charts = await google.colab.kernel.invokeFunction(\n",
              "            'suggestCharts', [key], {});\n",
              "      } catch (error) {\n",
              "        console.error('Error during call to suggestCharts:', error);\n",
              "      }\n",
              "      quickchartButtonEl.classList.remove('colab-df-spinner');\n",
              "      quickchartButtonEl.classList.add('colab-df-quickchart-complete');\n",
              "    }\n",
              "    (() => {\n",
              "      let quickchartButtonEl =\n",
              "        document.querySelector('#df-59862e1c-6991-484f-8baf-baaa62a40a44 button');\n",
              "      quickchartButtonEl.style.display =\n",
              "        google.colab.kernel.accessAllowed ? 'block' : 'none';\n",
              "    })();\n",
              "  </script>\n",
              "</div>\n",
              "\n",
              "    </div>\n",
              "  </div>\n"
            ],
            "application/vnd.google.colaboratory.intrinsic+json": {
              "type": "dataframe",
              "summary": "{\n  \"name\": \"freeze_status_df[freeze_status_df[\\\"Trainable\\\"] == True ]\",\n  \"rows\": 20,\n  \"fields\": [\n    {\n      \"column\": \"Layer Name\",\n      \"properties\": {\n        \"dtype\": \"string\",\n        \"num_unique_values\": 20,\n        \"samples\": [\n          \"l1.encoder.layer.11.attention.self.query.weight\",\n          \"l2.bias\",\n          \"l1.encoder.layer.11.output.LayerNorm.bias\"\n        ],\n        \"semantic_type\": \"\",\n        \"description\": \"\"\n      }\n    },\n    {\n      \"column\": \"Trainable\",\n      \"properties\": {\n        \"dtype\": \"boolean\",\n        \"num_unique_values\": 1,\n        \"samples\": [\n          true\n        ],\n        \"semantic_type\": \"\",\n        \"description\": \"\"\n      }\n    }\n  ]\n}"
            }
          },
          "metadata": {},
          "execution_count": 12
        }
      ]
    },
    {
      "cell_type": "markdown",
      "source": [
        " # Parameters model\n",
        "\n",
        "In this case, we selected 256 as the maximum token length because values above this threshold represent only about 5% of the data, making them statistically insignificant. Removing these outliers helps streamline training and improve efficiency. For this iteration, we will use training and validation batches of 8 and 4, with an initial learning rate set at 1e-04. The first model we will be testing is BERT."
      ],
      "metadata": {
        "id": "UHOyswj5RbQv"
      }
    },
    {
      "cell_type": "code",
      "source": [
        "EPOCHS = 5\n",
        "LEARNING_RATE = 1e-04\n",
        "tokenizer = BertTokenizer.from_pretrained('bert-base-uncased')\n",
        "\n",
        "# name of the model to save\n",
        "model_name_to_save = \"005_model_bert\""
      ],
      "metadata": {
        "colab": {
          "base_uri": "https://localhost:8080/"
        },
        "id": "y_2-gozTRZm4",
        "outputId": "9c0e1a72-ec5e-4c23-e0b5-b50bb67e5307"
      },
      "execution_count": 13,
      "outputs": [
        {
          "output_type": "stream",
          "name": "stderr",
          "text": [
            "/usr/local/lib/python3.10/dist-packages/transformers/tokenization_utils_base.py:1601: FutureWarning: `clean_up_tokenization_spaces` was not set. It will be set to `True` by default. This behavior will be depracted in transformers v4.45, and will be then set to `False` by default. For more details check this issue: https://github.com/huggingface/transformers/issues/31884\n",
            "  warnings.warn(\n"
          ]
        }
      ]
    },
    {
      "cell_type": "markdown",
      "metadata": {
        "id": "jlqTV4ZKb1q9"
      },
      "source": [
        "# train the model"
      ]
    },
    {
      "cell_type": "code",
      "execution_count": 14,
      "metadata": {
        "id": "WGfr9UhXUmpR"
      },
      "outputs": [],
      "source": [
        "# Loss function\n",
        "loss_fun_object = torch.nn.BCEWithLogitsLoss(pos_weight=normalized_weights)\n",
        "def loss_fn(outputs, targets):\n",
        "    return loss_fun_object(outputs, targets)\n",
        "\n",
        "# Optimizer\n",
        "param_groups = [\n",
        "    {'params': model_bert.l1.parameters(), 'lr': LEARNING_RATE * 0.1},\n",
        "    {'params': model_bert.l3.parameters(), 'lr': LEARNING_RATE},\n",
        "]\n",
        "\n",
        "# Create the optimizer using AdamW with parameter groups\n",
        "optimizer = torch.optim.AdamW(param_groups, weight_decay=0.001)\n",
        "\n",
        "# Store loss, accuracy, and recall\n",
        "def calculate_accuracy(outputs, targets):\n",
        "    preds = torch.sigmoid(outputs)  # Apply sigmoid to get probabilities\n",
        "    preds = preds.round()  # Round to get binary predictions\n",
        "    return (preds == targets).float().mean()  # Calculate accuracy\n",
        "\n",
        "def calculate_recall(outputs, targets):\n",
        "    preds = torch.sigmoid(outputs)  # Apply sigmoid to get probabilities\n",
        "    preds = preds.round()  # Round to get binary predictions\n",
        "    true_positives = (preds * targets).sum()  # TP\n",
        "    false_negatives = ((1 - preds) * targets).sum()  # FN\n",
        "    recall = true_positives / (true_positives + false_negatives + 1e-10)  # Add epsilon to avoid division by zero\n",
        "    return recall.item()\n",
        "\n",
        "# Initialize history lists\n",
        "loss_history = []\n",
        "accuracy_history = []\n",
        "recall_history = []\n",
        "\n",
        "# Training function\n",
        "def train(epoch, model, dataset_loader, device):\n",
        "    \"\"\" Train the model \"\"\"\n",
        "    model.train()\n",
        "    running_loss = 0.0\n",
        "    running_accuracy = 0.0\n",
        "    running_recall = 0.0\n",
        "    total_samples = 0\n",
        "\n",
        "    # Iterate through the batches\n",
        "    for _, data in tqdm(enumerate(dataset_loader, 0), total=len(dataset_loader)):\n",
        "        ids = data['ids'].to(device, dtype=torch.int64)\n",
        "        mask = data['mask'].to(device, dtype=torch.int8)\n",
        "        token_type_ids = data['token_type_ids'].to(device, dtype=torch.int64)\n",
        "        targets = data['targets'].to(device, dtype=torch.float32)  # Use float for BCEWithLogitsLoss\n",
        "\n",
        "        # Forward pass\n",
        "        outputs = model(ids, mask, token_type_ids)\n",
        "\n",
        "        # Compute loss and backpropagate\n",
        "        optimizer.zero_grad()\n",
        "        loss = loss_fn(outputs, targets)\n",
        "        loss.backward()\n",
        "        optimizer.step()\n",
        "\n",
        "        # Update running loss and accuracy\n",
        "        running_loss += loss.item() * ids.size(0)  # Scale by batch size\n",
        "        running_accuracy += calculate_accuracy(outputs, targets).item() * ids.size(0)\n",
        "        running_recall += calculate_recall(outputs, targets) * ids.size(0)\n",
        "        total_samples += ids.size(0)\n",
        "\n",
        "    # Compute epoch-level metrics\n",
        "    epoch_loss = running_loss / total_samples\n",
        "    epoch_accuracy = running_accuracy / total_samples\n",
        "    epoch_recall = running_recall / total_samples  # Compute average recall over the epoch\n",
        "    loss_history.append(epoch_loss)\n",
        "    accuracy_history.append(epoch_accuracy)\n",
        "    recall_history.append(epoch_recall)\n",
        "\n",
        "    print(f\"Epoch {epoch} - Training Loss: {epoch_loss:.4f}, Training Accuracy: {epoch_accuracy:.4f}, Training Recall: {epoch_recall:.4f}\")\n",
        "    return model, loss_history, accuracy_history, recall_history"
      ]
    },
    {
      "cell_type": "markdown",
      "source": [
        "We will use fewer epochs than in previous experiments, but we will monitor their performance closely."
      ],
      "metadata": {
        "id": "cpsyvuaZQuUm"
      }
    },
    {
      "cell_type": "markdown",
      "metadata": {
        "id": "9bTlNQqkiUTh"
      },
      "source": [
        "# Validation set"
      ]
    },
    {
      "cell_type": "code",
      "source": [
        "loss_values = []\n",
        "accuracy_values = []\n",
        "recall_values = []  # Initialize a list to store recall values\n",
        "\n",
        "def validation(epoch, model, dataloader, device, loss_fun, threshold_target=0.5):\n",
        "    model.eval()  # Set model to evaluation mode\n",
        "    fin_targets = []\n",
        "    fin_outputs = []\n",
        "    total_loss = 0.0\n",
        "    total_samples = 0\n",
        "\n",
        "    with torch.no_grad():\n",
        "        for _, data in tqdm(enumerate(dataloader, 0), total=len(dataloader)):\n",
        "            ids = data['ids'].to(device, dtype=torch.long)\n",
        "            mask = data['mask'].to(device, dtype=torch.long)\n",
        "            token_type_ids = data['token_type_ids'].to(device, dtype=torch.long)\n",
        "            targets = data['targets'].to(device, dtype=torch.float)\n",
        "\n",
        "            outputs = model(ids, mask, token_type_ids)\n",
        "            loss = loss_fun(outputs, targets)  # Calculate loss\n",
        "            total_loss += loss.item() * ids.size(0)\n",
        "            total_samples += ids.size(0)\n",
        "\n",
        "            fin_targets.extend(targets.cpu().detach().numpy().tolist())\n",
        "            fin_outputs.extend(torch.sigmoid(outputs).cpu().detach().numpy().tolist())\n",
        "\n",
        "    # Calculate average loss over the entire validation set\n",
        "    avg_loss = total_loss / total_samples\n",
        "    fin_outputs = (np.array(fin_outputs) > threshold_target).astype(int)\n",
        "    fin_targets = np.array(fin_targets)\n",
        "\n",
        "    accuracy = accuracy_score(fin_targets, fin_outputs)\n",
        "    recall = recall_score(fin_targets, fin_outputs, average='macro')\n",
        "\n",
        "    loss_values.append(avg_loss)\n",
        "    accuracy_values.append(accuracy)\n",
        "    recall_values.append(recall)  # Append recall to the list\n",
        "\n",
        "    print(f\"Epoch {epoch} - Validation Loss: {avg_loss:.4f}, Validation Accuracy: {accuracy:.4f}, Validation Recall: {recall:.4f}\")\n",
        "    return fin_outputs, fin_targets, loss_values, accuracy_values, recall_values\n"
      ],
      "metadata": {
        "id": "aMvv1QKA8s7O"
      },
      "execution_count": 15,
      "outputs": []
    },
    {
      "cell_type": "markdown",
      "source": [
        "# Epochs\n",
        "We will run multiple iterations and observe how the model responds as training progresses."
      ],
      "metadata": {
        "id": "qOPD-sw1RyAe"
      }
    },
    {
      "cell_type": "code",
      "source": [
        "for epoch in range(EPOCHS):\n",
        "\n",
        "    print(\"===Training===\")\n",
        "    start_time = time.time()\n",
        "    print(f'The training_loader: {len(training_loader)}')\n",
        "\n",
        "    # Entrenamiento del modelo\n",
        "    model_bert, loss_history_train, accuracy_history_train, recall_history_train = train(epoch, model_bert, training_loader, device)\n",
        "\n",
        "    end_time = time.time()\n",
        "    epoch_duration = end_time - start_time\n",
        "    print(f'Epoch {epoch + 1}/{EPOCHS} completed in {epoch_duration:.2f} seconds.')\n",
        "    print(\"Loss History:\", loss_history_train)\n",
        "    print(\"Accuracy History:\", accuracy_history_train)\n",
        "    print(\"Recall History:\", recall_history_train)  # Mostrar historial de recall\n",
        "\n",
        "    print(\"===Testing===\")\n",
        "    print(f'The testing_loader: {len(testing_loader)}')\n",
        "\n",
        "    # Validación del modelo\n",
        "    outputs, targets, loss_history_valid, accuracy_history_valid, recall_history_valid = validation(epoch, model_bert, testing_loader, device, loss_fun_object)\n",
        "\n",
        "    print(\"Loss History:\", loss_history_valid)\n",
        "    print(\"Accuracy History:\", accuracy_history_valid)\n",
        "    print(\"Recall History:\", recall_history_valid)  # Mostrar historial de recall\n",
        "\n",
        "    end_time = time.time()\n",
        "    epoch_duration = end_time - start_time\n",
        "    print(f'Epoch {epoch + 1}/{EPOCHS} completed in {epoch_duration:.2f} seconds.')\n"
      ],
      "metadata": {
        "colab": {
          "base_uri": "https://localhost:8080/"
        },
        "id": "Xwg4aeNvXpYZ",
        "outputId": "48a518ea-83a9-448d-846c-4ee400bb7964"
      },
      "execution_count": 16,
      "outputs": [
        {
          "output_type": "stream",
          "name": "stdout",
          "text": [
            "===Training===\n",
            "The training_loader: 815\n"
          ]
        },
        {
          "output_type": "stream",
          "name": "stderr",
          "text": [
            "\r  0%|          | 0/815 [00:00<?, ?it/s]Truncation was not explicitly activated but `max_length` is provided a specific value, please use `truncation=True` to explicitly truncate examples to max length. Defaulting to 'longest_first' truncation strategy. If you encode pairs of sequences (GLUE-style) with the tokenizer you can select this strategy more precisely by providing a specific strategy to `truncation`.\n",
            "/usr/local/lib/python3.10/dist-packages/transformers/tokenization_utils_base.py:2870: FutureWarning: The `pad_to_max_length` argument is deprecated and will be removed in a future version, use `padding=True` or `padding='longest'` to pad to the longest sequence in the batch, or use `padding='max_length'` to pad to a max length. In this case, you can give a specific length with `max_length` (e.g. `max_length=45`) or leave max_length to None to pad to the maximal input size of the model (e.g. 512 for Bert).\n",
            "  warnings.warn(\n",
            "100%|██████████| 815/815 [03:57<00:00,  3.44it/s]\n"
          ]
        },
        {
          "output_type": "stream",
          "name": "stdout",
          "text": [
            "Epoch 0 - Training Loss: 0.4485, Training Accuracy: 0.9241, Training Recall: 0.0223\n",
            "Epoch 1/5 completed in 237.21 seconds.\n",
            "Loss History: [0.448495057333167]\n",
            "Accuracy History: [0.9240843065316287]\n",
            "Recall History: [0.022330868328327487]\n",
            "===Testing===\n",
            "The testing_loader: 181\n"
          ]
        },
        {
          "output_type": "stream",
          "name": "stderr",
          "text": [
            "100%|██████████| 181/181 [00:23<00:00,  7.65it/s]\n",
            "/usr/local/lib/python3.10/dist-packages/sklearn/metrics/_classification.py:1531: UndefinedMetricWarning: Recall is ill-defined and being set to 0.0 in labels with no true samples. Use `zero_division` parameter to control this behavior.\n",
            "  _warn_prf(average, modifier, f\"{metric.capitalize()} is\", len(result))\n"
          ]
        },
        {
          "output_type": "stream",
          "name": "stdout",
          "text": [
            "Epoch 0 - Validation Loss: 0.3877, Validation Accuracy: 0.8950, Validation Recall: 0.0000\n",
            "Loss History: [0.3876939076745049]\n",
            "Accuracy History: [0.8950276243093923]\n",
            "Recall History: [0.0]\n",
            "Epoch 1/5 completed in 260.91 seconds.\n",
            "===Training===\n",
            "The training_loader: 815\n"
          ]
        },
        {
          "output_type": "stream",
          "name": "stderr",
          "text": [
            "\r  0%|          | 0/815 [00:00<?, ?it/s]/usr/local/lib/python3.10/dist-packages/transformers/tokenization_utils_base.py:2870: FutureWarning: The `pad_to_max_length` argument is deprecated and will be removed in a future version, use `padding=True` or `padding='longest'` to pad to the longest sequence in the batch, or use `padding='max_length'` to pad to a max length. In this case, you can give a specific length with `max_length` (e.g. `max_length=45`) or leave max_length to None to pad to the maximal input size of the model (e.g. 512 for Bert).\n",
            "  warnings.warn(\n",
            "100%|██████████| 815/815 [04:02<00:00,  3.36it/s]\n"
          ]
        },
        {
          "output_type": "stream",
          "name": "stdout",
          "text": [
            "Epoch 1 - Training Loss: 0.3965, Training Accuracy: 0.9620, Training Recall: 0.0000\n",
            "Epoch 2/5 completed in 242.27 seconds.\n",
            "Loss History: [0.448495057333167, 0.39652412981618174]\n",
            "Accuracy History: [0.9240843065316287, 0.9619909983020827]\n",
            "Recall History: [0.022330868328327487, 0.0]\n",
            "===Testing===\n",
            "The testing_loader: 181\n"
          ]
        },
        {
          "output_type": "stream",
          "name": "stderr",
          "text": [
            "100%|██████████| 181/181 [00:24<00:00,  7.33it/s]\n",
            "/usr/local/lib/python3.10/dist-packages/sklearn/metrics/_classification.py:1531: UndefinedMetricWarning: Recall is ill-defined and being set to 0.0 in labels with no true samples. Use `zero_division` parameter to control this behavior.\n",
            "  _warn_prf(average, modifier, f\"{metric.capitalize()} is\", len(result))\n"
          ]
        },
        {
          "output_type": "stream",
          "name": "stdout",
          "text": [
            "Epoch 1 - Validation Loss: 0.3823, Validation Accuracy: 0.8950, Validation Recall: 0.0000\n",
            "Loss History: [0.3876939076745049, 0.38234271693624844]\n",
            "Accuracy History: [0.8950276243093923, 0.8950276243093923]\n",
            "Recall History: [0.0, 0.0]\n",
            "Epoch 2/5 completed in 266.98 seconds.\n",
            "===Training===\n",
            "The training_loader: 815\n"
          ]
        },
        {
          "output_type": "stream",
          "name": "stderr",
          "text": [
            "\r  0%|          | 0/815 [00:00<?, ?it/s]/usr/local/lib/python3.10/dist-packages/transformers/tokenization_utils_base.py:2870: FutureWarning: The `pad_to_max_length` argument is deprecated and will be removed in a future version, use `padding=True` or `padding='longest'` to pad to the longest sequence in the batch, or use `padding='max_length'` to pad to a max length. In this case, you can give a specific length with `max_length` (e.g. `max_length=45`) or leave max_length to None to pad to the maximal input size of the model (e.g. 512 for Bert).\n",
            "  warnings.warn(\n",
            "100%|██████████| 815/815 [03:57<00:00,  3.43it/s]\n"
          ]
        },
        {
          "output_type": "stream",
          "name": "stdout",
          "text": [
            "Epoch 2 - Training Loss: 0.3915, Training Accuracy: 0.9620, Training Recall: 0.0000\n",
            "Epoch 3/5 completed in 237.53 seconds.\n",
            "Loss History: [0.448495057333167, 0.39652412981618174, 0.39149960039436194]\n",
            "Accuracy History: [0.9240843065316287, 0.9619909983020827, 0.9619909982289032]\n",
            "Recall History: [0.022330868328327487, 0.0, 0.0]\n",
            "===Testing===\n",
            "The testing_loader: 181\n"
          ]
        },
        {
          "output_type": "stream",
          "name": "stderr",
          "text": [
            "100%|██████████| 181/181 [00:23<00:00,  7.60it/s]\n",
            "/usr/local/lib/python3.10/dist-packages/sklearn/metrics/_classification.py:1531: UndefinedMetricWarning: Recall is ill-defined and being set to 0.0 in labels with no true samples. Use `zero_division` parameter to control this behavior.\n",
            "  _warn_prf(average, modifier, f\"{metric.capitalize()} is\", len(result))\n"
          ]
        },
        {
          "output_type": "stream",
          "name": "stdout",
          "text": [
            "Epoch 2 - Validation Loss: 0.3784, Validation Accuracy: 0.8950, Validation Recall: 0.0000\n",
            "Loss History: [0.3876939076745049, 0.38234271693624844, 0.3784460901226128]\n",
            "Accuracy History: [0.8950276243093923, 0.8950276243093923, 0.8950276243093923]\n",
            "Recall History: [0.0, 0.0, 0.0]\n",
            "Epoch 3/5 completed in 261.35 seconds.\n",
            "===Training===\n",
            "The training_loader: 815\n"
          ]
        },
        {
          "output_type": "stream",
          "name": "stderr",
          "text": [
            "\r  0%|          | 0/815 [00:00<?, ?it/s]/usr/local/lib/python3.10/dist-packages/transformers/tokenization_utils_base.py:2870: FutureWarning: The `pad_to_max_length` argument is deprecated and will be removed in a future version, use `padding=True` or `padding='longest'` to pad to the longest sequence in the batch, or use `padding='max_length'` to pad to a max length. In this case, you can give a specific length with `max_length` (e.g. `max_length=45`) or leave max_length to None to pad to the maximal input size of the model (e.g. 512 for Bert).\n",
            "  warnings.warn(\n",
            "100%|██████████| 815/815 [03:56<00:00,  3.45it/s]\n"
          ]
        },
        {
          "output_type": "stream",
          "name": "stdout",
          "text": [
            "Epoch 3 - Training Loss: 0.3871, Training Accuracy: 0.9620, Training Recall: 0.0007\n",
            "Epoch 4/5 completed in 236.26 seconds.\n",
            "Loss History: [0.448495057333167, 0.39652412981618174, 0.39149960039436194, 0.38712848934240324]\n",
            "Accuracy History: [0.9240843065316287, 0.9619909983020827, 0.9619909982289032, 0.9620421537963652]\n",
            "Recall History: [0.022330868328327487, 0.0, 0.0, 0.0007161858112552987]\n",
            "===Testing===\n",
            "The testing_loader: 181\n"
          ]
        },
        {
          "output_type": "stream",
          "name": "stderr",
          "text": [
            "100%|██████████| 181/181 [00:23<00:00,  7.71it/s]\n",
            "/usr/local/lib/python3.10/dist-packages/sklearn/metrics/_classification.py:1531: UndefinedMetricWarning: Recall is ill-defined and being set to 0.0 in labels with no true samples. Use `zero_division` parameter to control this behavior.\n",
            "  _warn_prf(average, modifier, f\"{metric.capitalize()} is\", len(result))\n"
          ]
        },
        {
          "output_type": "stream",
          "name": "stdout",
          "text": [
            "Epoch 3 - Validation Loss: 0.3741, Validation Accuracy: 0.8964, Validation Recall: 0.0046\n",
            "Loss History: [0.3876939076745049, 0.38234271693624844, 0.3784460901226128, 0.37412524602031183]\n",
            "Accuracy History: [0.8950276243093923, 0.8950276243093923, 0.8950276243093923, 0.8964088397790055]\n",
            "Recall History: [0.0, 0.0, 0.0, 0.0045662100456621]\n",
            "Epoch 4/5 completed in 259.76 seconds.\n",
            "===Training===\n",
            "The training_loader: 815\n"
          ]
        },
        {
          "output_type": "stream",
          "name": "stderr",
          "text": [
            "\r  0%|          | 0/815 [00:00<?, ?it/s]/usr/local/lib/python3.10/dist-packages/transformers/tokenization_utils_base.py:2870: FutureWarning: The `pad_to_max_length` argument is deprecated and will be removed in a future version, use `padding=True` or `padding='longest'` to pad to the longest sequence in the batch, or use `padding='max_length'` to pad to a max length. In this case, you can give a specific length with `max_length` (e.g. `max_length=45`) or leave max_length to None to pad to the maximal input size of the model (e.g. 512 for Bert).\n",
            "  warnings.warn(\n",
            "100%|██████████| 815/815 [03:59<00:00,  3.40it/s]\n"
          ]
        },
        {
          "output_type": "stream",
          "name": "stdout",
          "text": [
            "Epoch 4 - Training Loss: 0.3821, Training Accuracy: 0.9664, Training Recall: 0.0575\n",
            "Epoch 5/5 completed in 239.52 seconds.\n",
            "Loss History: [0.448495057333167, 0.39652412981618174, 0.39149960039436194, 0.38712848934240324, 0.3820521037881546]\n",
            "Accuracy History: [0.9240843065316287, 0.9619909983020827, 0.9619909982289032, 0.9620421537963652, 0.9664415814087682]\n",
            "Recall History: [0.022330868328327487, 0.0, 0.0, 0.0007161858112552987, 0.057494749854209604]\n",
            "===Testing===\n",
            "The testing_loader: 181\n"
          ]
        },
        {
          "output_type": "stream",
          "name": "stderr",
          "text": [
            "100%|██████████| 181/181 [00:23<00:00,  7.68it/s]"
          ]
        },
        {
          "output_type": "stream",
          "name": "stdout",
          "text": [
            "Epoch 4 - Validation Loss: 0.3691, Validation Accuracy: 0.9006, Validation Recall: 0.0859\n",
            "Loss History: [0.3876939076745049, 0.38234271693624844, 0.3784460901226128, 0.37412524602031183, 0.36909201741218567]\n",
            "Accuracy History: [0.8950276243093923, 0.8950276243093923, 0.8950276243093923, 0.8964088397790055, 0.9005524861878453]\n",
            "Recall History: [0.0, 0.0, 0.0, 0.0045662100456621, 0.08590698854317841]\n",
            "Epoch 5/5 completed in 263.10 seconds.\n"
          ]
        },
        {
          "output_type": "stream",
          "name": "stderr",
          "text": [
            "\n",
            "/usr/local/lib/python3.10/dist-packages/sklearn/metrics/_classification.py:1531: UndefinedMetricWarning: Recall is ill-defined and being set to 0.0 in labels with no true samples. Use `zero_division` parameter to control this behavior.\n",
            "  _warn_prf(average, modifier, f\"{metric.capitalize()} is\", len(result))\n"
          ]
        }
      ]
    },
    {
      "cell_type": "code",
      "source": [
        "epochs = range(1, len(loss_history_train) + 1)\n",
        "\n",
        "plt.figure(figsize=(18, 6))  # Aumentar el tamaño de la figura para tres subgráficas\n",
        "\n",
        "# Plot Loss\n",
        "plt.subplot(1, 3, 1)\n",
        "plt.plot(epochs, loss_history_train, label=\"Training Loss\", marker='o')\n",
        "plt.plot(epochs, loss_history_valid, label=\"Validation Loss\", marker='o')\n",
        "plt.xlabel(\"Epochs\")\n",
        "plt.ylabel(\"Loss\")\n",
        "plt.title(\"Loss vs Epochs\")\n",
        "plt.legend()\n",
        "plt.grid(True)\n",
        "\n",
        "# Plot Accuracy\n",
        "plt.subplot(1, 3, 2)\n",
        "plt.plot(epochs, accuracy_history_train, label=\"Training Accuracy\", marker='o')\n",
        "plt.plot(epochs, accuracy_history_valid, label=\"Validation Accuracy\", marker='o')\n",
        "plt.xlabel(\"Epochs\")\n",
        "plt.ylabel(\"Accuracy\")\n",
        "plt.title(\"Accuracy vs Epochs\")\n",
        "plt.legend()\n",
        "plt.grid(True)\n",
        "\n",
        "# Plot Recall\n",
        "plt.subplot(1, 3, 3)\n",
        "plt.plot(epochs, recall_history_train, label=\"Training Recall\", marker='o')\n",
        "plt.plot(epochs, recall_history_valid, label=\"Validation Recall\", marker='o')\n",
        "plt.xlabel(\"Epochs\")\n",
        "plt.ylabel(\"Recall\")\n",
        "plt.title(\"Recall vs Epochs\")\n",
        "plt.legend()\n",
        "plt.grid(True)\n",
        "\n",
        "plt.tight_layout()\n",
        "plt.show()\n"
      ],
      "metadata": {
        "id": "_1s_RXaZCMIV",
        "colab": {
          "base_uri": "https://localhost:8080/",
          "height": 411
        },
        "outputId": "23b46804-8dc3-4ad4-efa4-69a1398f08f6"
      },
      "execution_count": 17,
      "outputs": [
        {
          "output_type": "display_data",
          "data": {
            "text/plain": [
              "<Figure size 1800x600 with 3 Axes>"
            ],
            "image/png": "[encoded data removed]"
          },
          "metadata": {}
        }
      ]
    },
    {
      "cell_type": "code",
      "source": [
        "report = metrics.classification_report(targets, outputs, output_dict=True)\n",
        "report_df = pd.DataFrame(report).transpose()\n",
        "report_df\n",
        "\n",
        "#   outputs, targets,\n",
        "class_names = dataframe.iloc[:,1:-1].columns.tolist()\n",
        "\n",
        "for i in range(len(class_names)):\n",
        "    report_df.rename(index={str(i): class_names[i]}, inplace=True)\n",
        "\n",
        "# Plot heatmap\n",
        "plt.figure(figsize=(10, 6))\n",
        "sns.heatmap(report_df.iloc[:-1, :-1], annot=True, cmap=\"YlGnBu\", cbar=True, fmt=\".2f\")\n",
        "plt.title(\"Classification Report Heatmap\")\n",
        "plt.show()\n"
      ],
      "metadata": {
        "id": "nIeyrwECIcTV",
        "colab": {
          "base_uri": "https://localhost:8080/",
          "height": 783
        },
        "outputId": "79e34b05-bd33-4348-8dc9-68f7ffb60fb7"
      },
      "execution_count": 21,
      "outputs": [
        {
          "output_type": "stream",
          "name": "stderr",
          "text": [
            "/usr/local/lib/python3.10/dist-packages/sklearn/metrics/_classification.py:1531: UndefinedMetricWarning: Precision is ill-defined and being set to 0.0 in labels with no predicted samples. Use `zero_division` parameter to control this behavior.\n",
            "  _warn_prf(average, modifier, f\"{metric.capitalize()} is\", len(result))\n",
            "/usr/local/lib/python3.10/dist-packages/sklearn/metrics/_classification.py:1531: UndefinedMetricWarning: Recall is ill-defined and being set to 0.0 in labels with no true samples. Use `zero_division` parameter to control this behavior.\n",
            "  _warn_prf(average, modifier, f\"{metric.capitalize()} is\", len(result))\n",
            "/usr/local/lib/python3.10/dist-packages/sklearn/metrics/_classification.py:1531: UndefinedMetricWarning: F-score is ill-defined and being set to 0.0 in labels with no true nor predicted samples. Use `zero_division` parameter to control this behavior.\n",
            "  _warn_prf(average, modifier, f\"{metric.capitalize()} is\", len(result))\n",
            "/usr/local/lib/python3.10/dist-packages/sklearn/metrics/_classification.py:1531: UndefinedMetricWarning: Precision is ill-defined and being set to 0.0 in samples with no predicted labels. Use `zero_division` parameter to control this behavior.\n",
            "  _warn_prf(average, modifier, f\"{metric.capitalize()} is\", len(result))\n",
            "/usr/local/lib/python3.10/dist-packages/sklearn/metrics/_classification.py:1531: UndefinedMetricWarning: Recall is ill-defined and being set to 0.0 in samples with no true labels. Use `zero_division` parameter to control this behavior.\n",
            "  _warn_prf(average, modifier, f\"{metric.capitalize()} is\", len(result))\n",
            "/usr/local/lib/python3.10/dist-packages/sklearn/metrics/_classification.py:1531: UndefinedMetricWarning: F-score is ill-defined and being set to 0.0 in samples with no true nor predicted labels. Use `zero_division` parameter to control this behavior.\n",
            "  _warn_prf(average, modifier, f\"{metric.capitalize()} is\", len(result))\n"
          ]
        },
        {
          "output_type": "display_data",
          "data": {
            "text/plain": [
              "<Figure size 1000x600 with 2 Axes>"
            ],
            "image/png": "[encoded data removed]"
          },
          "metadata": {}
        }
      ]
    },
    {
      "cell_type": "code",
      "source": [
        "from sklearn.metrics import multilabel_confusion_matrix, ConfusionMatrixDisplay\n",
        "\n",
        "# Calculate confusion matrices for each class\n",
        "conf_matrices = multilabel_confusion_matrix(targets, outputs)\n",
        "\n",
        "# Plot each confusion matrix\n",
        "for i, conf_matrix in enumerate(conf_matrices):\n",
        "    display = ConfusionMatrixDisplay(conf_matrix, display_labels=[f\"Not Class {i}\", f\"Class {i}\"])\n",
        "    fig, ax = plt.subplots(figsize=(5, 5))\n",
        "    display.plot(ax=ax)\n",
        "    plt.title(f'Confusion Matrix for Class {i}')\n",
        "    plt.show()"
      ],
      "metadata": {
        "id": "gM3ykuEzHI1X",
        "colab": {
          "base_uri": "https://localhost:8080/",
          "height": 1000
        },
        "outputId": "c3060122-ae81-4d3c-8971-78fe0c8d9a00"
      },
      "execution_count": 22,
      "outputs": [
        {
          "output_type": "display_data",
          "data": {
            "text/plain": [
              "<Figure size 500x500 with 2 Axes>"
            ],
            "image/png": "[encoded data removed]"
          },
          "metadata": {}
        },
        {
          "output_type": "display_data",
          "data": {
            "text/plain": [
              "<Figure size 500x500 with 2 Axes>"
            ],
            "image/png": "[encoded data removed]"
          },
          "metadata": {}
        },
        {
          "output_type": "display_data",
          "data": {
            "text/plain": [
              "<Figure size 500x500 with 2 Axes>"
            ],
            "image/png": "[encoded data removed]"
          },
          "metadata": {}
        },
        {
          "output_type": "display_data",
          "data": {
            "text/plain": [
              "<Figure size 500x500 with 2 Axes>"
            ],
            "image/png": "[encoded data removed]"
          },
          "metadata": {}
        },
        {
          "output_type": "display_data",
          "data": {
            "text/plain": [
              "<Figure size 500x500 with 2 Axes>"
            ],
            "image/png": "[encoded data removed]"
          },
          "metadata": {}
        },
        {
          "output_type": "display_data",
          "data": {
            "text/plain": [
              "<Figure size 500x500 with 2 Axes>"
            ],
            "image/png": "[encoded data removed]"
          },
          "metadata": {}
        }
      ]
    },
    {
      "cell_type": "markdown",
      "source": [
        "The model performs well for certain classes like toxic and insult, with relatively higher precision and recall, but struggles with others, notably identity_hate and severe_toxic, where it achieves low or even zero scores. This suggests the model has difficulty identifying nuances in some categories, potentially due to class imbalance or insufficient feature learning."
      ],
      "metadata": {
        "id": "S-Zh4WOGIx4s"
      }
    },
    {
      "cell_type": "markdown",
      "source": [
        "# Export the model\n",
        "We will be exporting the model"
      ],
      "metadata": {
        "id": "IMC2OGXhklRT"
      }
    },
    {
      "cell_type": "code",
      "source": [
        "torch.save(model_bert, f'{URL_path_save}/{model_name_to_save}.pth')\n",
        "tokenizer.save_pretrained(f'{URL_path_save}/{model_name_to_save}_token.pth')"
      ],
      "metadata": {
        "id": "FsRWF4OLTTm-",
        "colab": {
          "base_uri": "https://localhost:8080/"
        },
        "outputId": "4d65551a-3bb3-407b-b245-d1e16a4bcb1c"
      },
      "execution_count": 49,
      "outputs": [
        {
          "output_type": "execute_result",
          "data": {
            "text/plain": [
              "('/content/drive/MyDrive/Code/Data_science_Turing_college/Colabs/14_002_NLP/model/005_model_bert_token.pth/tokenizer_config.json',\n",
              " '/content/drive/MyDrive/Code/Data_science_Turing_college/Colabs/14_002_NLP/model/005_model_bert_token.pth/special_tokens_map.json',\n",
              " '/content/drive/MyDrive/Code/Data_science_Turing_college/Colabs/14_002_NLP/model/005_model_bert_token.pth/vocab.txt',\n",
              " '/content/drive/MyDrive/Code/Data_science_Turing_college/Colabs/14_002_NLP/model/005_model_bert_token.pth/added_tokens.json')"
            ]
          },
          "metadata": {},
          "execution_count": 49
        }
      ]
    },
    {
      "cell_type": "markdown",
      "source": [
        "# Load the model"
      ],
      "metadata": {
        "id": "cfL3D7JflXen"
      }
    },
    {
      "cell_type": "code",
      "source": [
        "from transformers import BertTokenizer, BertForSequenceClassification\n",
        "import torch\n",
        "\n",
        "# Load the model's state dictionary\n",
        "# model_state_dict = torch.load(f'{URL_path_save}/{model_name_to_save}.pth')\n",
        "model_state_dict = torch.load(f'{URL_path_save}/{model_name_to_save}.pth', map_location=torch.device('cpu'))\n",
        "model_bert_load = BertForSequenceClassification.from_pretrained(pretrained_model_name_or_path='bert-base-uncased', num_labels=6)\n",
        "tokenizer_load = BertTokenizer.from_pretrained(f'{URL_path_save}/{model_name_to_save}_token.pth')"
      ],
      "metadata": {
        "id": "nD1WjU3gla1X",
        "colab": {
          "base_uri": "https://localhost:8080/"
        },
        "outputId": "8f863faa-920c-4794-c77e-a31e5d372587"
      },
      "execution_count": 61,
      "outputs": [
        {
          "output_type": "stream",
          "name": "stderr",
          "text": [
            "<ipython-input-61-d3e532d797cb>:6: FutureWarning: You are using `torch.load` with `weights_only=False` (the current default value), which uses the default pickle module implicitly. It is possible to construct malicious pickle data which will execute arbitrary code during unpickling (See https://github.com/pytorch/pytorch/blob/main/SECURITY.md#untrusted-models for more details). In a future release, the default value for `weights_only` will be flipped to `True`. This limits the functions that could be executed during unpickling. Arbitrary objects will no longer be allowed to be loaded via this mode unless they are explicitly allowlisted by the user via `torch.serialization.add_safe_globals`. We recommend you start setting `weights_only=True` for any use case where you don't have full control of the loaded file. Please open an issue on GitHub for any issues related to this experimental feature.\n",
            "  model_state_dict = torch.load(f'{URL_path_save}/{model_name_to_save}.pth', map_location=torch.device('cpu'))\n",
            "Some weights of BertForSequenceClassification were not initialized from the model checkpoint at bert-base-uncased and are newly initialized: ['classifier.bias', 'classifier.weight']\n",
            "You should probably TRAIN this model on a down-stream task to be able to use it for predictions and inference.\n"
          ]
        }
      ]
    },
    {
      "cell_type": "markdown",
      "source": [
        "# Example prediction\n",
        "We will plot an example of a prediction to see how it performs"
      ],
      "metadata": {
        "id": "PTOzq0HCB_ak"
      }
    },
    {
      "cell_type": "code",
      "source": [
        "# extract the data\n",
        "sample_1 = dataframe[dataframe[\"toxic\"] == 1]\n",
        "sample_2 = dataframe[dataframe[\"toxic\"] == 0]\n",
        "\n",
        "precition_value_1 = sample_1.iloc[0,1:-1]\n",
        "precition_value_2 = sample_2.iloc[0,1:-1]\n",
        "\n",
        "sample_1 = sample_1.iloc[0,0]\n",
        "sample_2 = sample_2.iloc[0,0]\n",
        "\n",
        "def prediction_function_single_text(sample, model,tokenizer, precition_value):\n",
        "    inputs = tokenizer(sample, return_tensors='pt', padding=True, truncation=True)\n",
        "\n",
        "    with torch.no_grad():\n",
        "        outputs = model(**inputs)\n",
        "        logits = outputs.logits\n",
        "        predicted_class = torch.argmax(logits, dim=-1)\n",
        "\n",
        "    # Display the result\n",
        "    print(f\"Input Text: {sample}\")\n",
        "    print(f\"Predicted Class: {predicted_class.item()}\")\n",
        "    print(f\"Real_values: \\n {precition_value} \")\n"
      ],
      "metadata": {
        "id": "XXk0jrC5CgjT"
      },
      "execution_count": 68,
      "outputs": []
    },
    {
      "cell_type": "code",
      "source": [
        "model_bert_load.eval()\n",
        "prediction_function_single_text(sample_1, model_bert_load, tokenizer_load, precition_value_1)"
      ],
      "metadata": {
        "colab": {
          "base_uri": "https://localhost:8080/"
        },
        "id": "kizHRHSbI58-",
        "outputId": "c55c659d-5b12-4dd2-9538-cb6a1758fa5e"
      },
      "execution_count": 67,
      "outputs": [
        {
          "output_type": "stream",
          "name": "stdout",
          "text": [
            "Input Text: COCKSUCKER BEFORE YOU PISS AROUND ON MY WORK\n",
            "Predicted Class: 1\n",
            "Real_values: \n",
            " toxic            1\n",
            "severe_toxic     1\n",
            "obscene          1\n",
            "threat           0\n",
            "insult           1\n",
            "identity_hate    0\n",
            "Name: 6, dtype: object \n"
          ]
        }
      ]
    },
    {
      "cell_type": "code",
      "source": [
        "prediction_function_single_text(sample_2, model_bert_load, tokenizer_load, precition_value_2)"
      ],
      "metadata": {
        "colab": {
          "base_uri": "https://localhost:8080/"
        },
        "id": "03nDRT8kCEql",
        "outputId": "08cfcbc5-35df-46d7-c946-8892b176f111"
      },
      "execution_count": 69,
      "outputs": [
        {
          "output_type": "stream",
          "name": "stdout",
          "text": [
            "Input Text: ExplanationWhy the edits made under my username Hardcore Metallica Fan were reverted? They weren't vandalisms, just closure on some GAs after I voted at New York Dolls FAC. And please don't remove the template from the talk page since I'm retired now.89.205.38.27\n",
            "Predicted Class: 1\n",
            "Real_values: \n",
            " toxic            0\n",
            "severe_toxic     0\n",
            "obscene          0\n",
            "threat           0\n",
            "insult           0\n",
            "identity_hate    0\n",
            "Name: 0, dtype: object \n"
          ]
        }
      ]
    },
    {
      "cell_type": "markdown",
      "source": [
        "Seems that its not predicting correctly those 2 examples"
      ],
      "metadata": {
        "id": "R0oSu2xZJCBO"
      }
    },
    {
      "cell_type": "markdown",
      "source": [
        "# Summary\n",
        "\n",
        "Probably there are several things that we could improve, in this case  we will try to make make a test with the full sample, because in this itereations we was making a small sample to understand how it works the whole process we can extract that the results were not good, but we will try with the whole data to see if we could get any improvment in the pertfomenace"
      ],
      "metadata": {
        "id": "80nkXE0Mm9z3"
      }
    }
  ],
  "metadata": {
    "accelerator": "TPU",
    "colab": {
      "gpuType": "V28",
      "provenance": []
    },
    "kernelspec": {
      "display_name": "Python 3",
      "name": "python3"
    },
    "language_info": {
      "name": "python"
    },
    "widgets": {
      "application/vnd.jupyter.widget-state+json": {
        "f2ab30a549ef4c24af109498a4119acc": {
          "model_module": "@jupyter-widgets/controls",
          "model_name": "HBoxModel",
          "model_module_version": "1.5.0",
          "state": {
            "_dom_classes": [],
            "_model_module": "@jupyter-widgets/controls",
            "_model_module_version": "1.5.0",
            "_model_name": "HBoxModel",
            "_view_count": null,
            "_view_module": "@jupyter-widgets/controls",
            "_view_module_version": "1.5.0",
            "_view_name": "HBoxView",
            "box_style": "",
            "children": [
              "IPY_MODEL_bc6ef25fb9134117a50a1ecc241cc11a",
              "IPY_MODEL_acce8092cbaf45098c1812c095c27608",
              "IPY_MODEL_623bc1382c944a889a8a227d5212f74a"
            ],
            "layout": "IPY_MODEL_05cafa1734554bac97f155eb9ca47403"
          }
        },
        "bc6ef25fb9134117a50a1ecc241cc11a": {
          "model_module": "@jupyter-widgets/controls",
          "model_name": "HTMLModel",
          "model_module_version": "1.5.0",
          "state": {
            "_dom_classes": [],
            "_model_module": "@jupyter-widgets/controls",
            "_model_module_version": "1.5.0",
            "_model_name": "HTMLModel",
            "_view_count": null,
            "_view_module": "@jupyter-widgets/controls",
            "_view_module_version": "1.5.0",
            "_view_name": "HTMLView",
            "description": "",
            "description_tooltip": null,
            "layout": "IPY_MODEL_51b5489046114a76bc2dbaf9dc5de348",
            "placeholder": "​",
            "style": "IPY_MODEL_a93c44f1cae34722b276b3350b4d1116",
            "value": "model.safetensors: 100%"
          }
        },
        "acce8092cbaf45098c1812c095c27608": {
          "model_module": "@jupyter-widgets/controls",
          "model_name": "FloatProgressModel",
          "model_module_version": "1.5.0",
          "state": {
            "_dom_classes": [],
            "_model_module": "@jupyter-widgets/controls",
            "_model_module_version": "1.5.0",
            "_model_name": "FloatProgressModel",
            "_view_count": null,
            "_view_module": "@jupyter-widgets/controls",
            "_view_module_version": "1.5.0",
            "_view_name": "ProgressView",
            "bar_style": "success",
            "description": "",
            "description_tooltip": null,
            "layout": "IPY_MODEL_037a9f3843a3432cb393554f62eb41af",
            "max": 440449768,
            "min": 0,
            "orientation": "horizontal",
            "style": "IPY_MODEL_7ca00665c95d463988fa891aa014d06b",
            "value": 440449768
          }
        },
        "623bc1382c944a889a8a227d5212f74a": {
          "model_module": "@jupyter-widgets/controls",
          "model_name": "HTMLModel",
          "model_module_version": "1.5.0",
          "state": {
            "_dom_classes": [],
            "_model_module": "@jupyter-widgets/controls",
            "_model_module_version": "1.5.0",
            "_model_name": "HTMLModel",
            "_view_count": null,
            "_view_module": "@jupyter-widgets/controls",
            "_view_module_version": "1.5.0",
            "_view_name": "HTMLView",
            "description": "",
            "description_tooltip": null,
            "layout": "IPY_MODEL_ba28cc9232614e03b7b65838c1b5dbd8",
            "placeholder": "​",
            "style": "IPY_MODEL_24bb247703da4fd3b884cb455e039a69",
            "value": " 440M/440M [00:02&lt;00:00, 241MB/s]"
          }
        },
        "05cafa1734554bac97f155eb9ca47403": {
          "model_module": "@jupyter-widgets/base",
          "model_name": "LayoutModel",
          "model_module_version": "1.2.0",
          "state": {
            "_model_module": "@jupyter-widgets/base",
            "_model_module_version": "1.2.0",
            "_model_name": "LayoutModel",
            "_view_count": null,
            "_view_module": "@jupyter-widgets/base",
            "_view_module_version": "1.2.0",
            "_view_name": "LayoutView",
            "align_content": null,
            "align_items": null,
            "align_self": null,
            "border": null,
            "bottom": null,
            "display": null,
            "flex": null,
            "flex_flow": null,
            "grid_area": null,
            "grid_auto_columns": null,
            "grid_auto_flow": null,
            "grid_auto_rows": null,
            "grid_column": null,
            "grid_gap": null,
            "grid_row": null,
            "grid_template_areas": null,
            "grid_template_columns": null,
            "grid_template_rows": null,
            "height": null,
            "justify_content": null,
            "justify_items": null,
            "left": null,
            "margin": null,
            "max_height": null,
            "max_width": null,
            "min_height": null,
            "min_width": null,
            "object_fit": null,
            "object_position": null,
            "order": null,
            "overflow": null,
            "overflow_x": null,
            "overflow_y": null,
            "padding": null,
            "right": null,
            "top": null,
            "visibility": null,
            "width": null
          }
        },
        "51b5489046114a76bc2dbaf9dc5de348": {
          "model_module": "@jupyter-widgets/base",
          "model_name": "LayoutModel",
          "model_module_version": "1.2.0",
          "state": {
            "_model_module": "@jupyter-widgets/base",
            "_model_module_version": "1.2.0",
            "_model_name": "LayoutModel",
            "_view_count": null,
            "_view_module": "@jupyter-widgets/base",
            "_view_module_version": "1.2.0",
            "_view_name": "LayoutView",
            "align_content": null,
            "align_items": null,
            "align_self": null,
            "border": null,
            "bottom": null,
            "display": null,
            "flex": null,
            "flex_flow": null,
            "grid_area": null,
            "grid_auto_columns": null,
            "grid_auto_flow": null,
            "grid_auto_rows": null,
            "grid_column": null,
            "grid_gap": null,
            "grid_row": null,
            "grid_template_areas": null,
            "grid_template_columns": null,
            "grid_template_rows": null,
            "height": null,
            "justify_content": null,
            "justify_items": null,
            "left": null,
            "margin": null,
            "max_height": null,
            "max_width": null,
            "min_height": null,
            "min_width": null,
            "object_fit": null,
            "object_position": null,
            "order": null,
            "overflow": null,
            "overflow_x": null,
            "overflow_y": null,
            "padding": null,
            "right": null,
            "top": null,
            "visibility": null,
            "width": null
          }
        },
        "a93c44f1cae34722b276b3350b4d1116": {
          "model_module": "@jupyter-widgets/controls",
          "model_name": "DescriptionStyleModel",
          "model_module_version": "1.5.0",
          "state": {
            "_model_module": "@jupyter-widgets/controls",
            "_model_module_version": "1.5.0",
            "_model_name": "DescriptionStyleModel",
            "_view_count": null,
            "_view_module": "@jupyter-widgets/base",
            "_view_module_version": "1.2.0",
            "_view_name": "StyleView",
            "description_width": ""
          }
        },
        "037a9f3843a3432cb393554f62eb41af": {
          "model_module": "@jupyter-widgets/base",
          "model_name": "LayoutModel",
          "model_module_version": "1.2.0",
          "state": {
            "_model_module": "@jupyter-widgets/base",
            "_model_module_version": "1.2.0",
            "_model_name": "LayoutModel",
            "_view_count": null,
            "_view_module": "@jupyter-widgets/base",
            "_view_module_version": "1.2.0",
            "_view_name": "LayoutView",
            "align_content": null,
            "align_items": null,
            "align_self": null,
            "border": null,
            "bottom": null,
            "display": null,
            "flex": null,
            "flex_flow": null,
            "grid_area": null,
            "grid_auto_columns": null,
            "grid_auto_flow": null,
            "grid_auto_rows": null,
            "grid_column": null,
            "grid_gap": null,
            "grid_row": null,
            "grid_template_areas": null,
            "grid_template_columns": null,
            "grid_template_rows": null,
            "height": null,
            "justify_content": null,
            "justify_items": null,
            "left": null,
            "margin": null,
            "max_height": null,
            "max_width": null,
            "min_height": null,
            "min_width": null,
            "object_fit": null,
            "object_position": null,
            "order": null,
            "overflow": null,
            "overflow_x": null,
            "overflow_y": null,
            "padding": null,
            "right": null,
            "top": null,
            "visibility": null,
            "width": null
          }
        },
        "7ca00665c95d463988fa891aa014d06b": {
          "model_module": "@jupyter-widgets/controls",
          "model_name": "ProgressStyleModel",
          "model_module_version": "1.5.0",
          "state": {
            "_model_module": "@jupyter-widgets/controls",
            "_model_module_version": "1.5.0",
            "_model_name": "ProgressStyleModel",
            "_view_count": null,
            "_view_module": "@jupyter-widgets/base",
            "_view_module_version": "1.2.0",
            "_view_name": "StyleView",
            "bar_color": null,
            "description_width": ""
          }
        },
        "ba28cc9232614e03b7b65838c1b5dbd8": {
          "model_module": "@jupyter-widgets/base",
          "model_name": "LayoutModel",
          "model_module_version": "1.2.0",
          "state": {
            "_model_module": "@jupyter-widgets/base",
            "_model_module_version": "1.2.0",
            "_model_name": "LayoutModel",
            "_view_count": null,
            "_view_module": "@jupyter-widgets/base",
            "_view_module_version": "1.2.0",
            "_view_name": "LayoutView",
            "align_content": null,
            "align_items": null,
            "align_self": null,
            "border": null,
            "bottom": null,
            "display": null,
            "flex": null,
            "flex_flow": null,
            "grid_area": null,
            "grid_auto_columns": null,
            "grid_auto_flow": null,
            "grid_auto_rows": null,
            "grid_column": null,
            "grid_gap": null,
            "grid_row": null,
            "grid_template_areas": null,
            "grid_template_columns": null,
            "grid_template_rows": null,
            "height": null,
            "justify_content": null,
            "justify_items": null,
            "left": null,
            "margin": null,
            "max_height": null,
            "max_width": null,
            "min_height": null,
            "min_width": null,
            "object_fit": null,
            "object_position": null,
            "order": null,
            "overflow": null,
            "overflow_x": null,
            "overflow_y": null,
            "padding": null,
            "right": null,
            "top": null,
            "visibility": null,
            "width": null
          }
        },
        "24bb247703da4fd3b884cb455e039a69": {
          "model_module": "@jupyter-widgets/controls",
          "model_name": "DescriptionStyleModel",
          "model_module_version": "1.5.0",
          "state": {
            "_model_module": "@jupyter-widgets/controls",
            "_model_module_version": "1.5.0",
            "_model_name": "DescriptionStyleModel",
            "_view_count": null,
            "_view_module": "@jupyter-widgets/base",
            "_view_module_version": "1.2.0",
            "_view_name": "StyleView",
            "description_width": ""
          }
        }
      }
    }
  },
  "nbformat": 4,
  "nbformat_minor": 0
}