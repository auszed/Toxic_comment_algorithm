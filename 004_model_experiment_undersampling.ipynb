{
  "cells": [
    {
      "cell_type": "code",
      "execution_count": null,
      "metadata": {
        "colab": {
          "base_uri": "https://localhost:8080/"
        },
        "id": "dvLOfLRZpgRH",
        "outputId": "3ac49903-8c01-48bb-bd80-95a87cb32237"
      },
      "outputs": [
        {
          "output_type": "stream",
          "name": "stdout",
          "text": [
            "Drive already mounted at /content/drive; to attempt to forcibly remount, call drive.mount(\"/content/drive\", force_remount=True).\n"
          ]
        }
      ],
      "source": [
        "from google.colab import drive\n",
        "import os\n",
        "drive.mount('/content/drive')\n",
        "\n",
        "enable_code_paths = False\n",
        "\n",
        "if enable_code_paths:\n",
        "    URL_path = \"/content/drive/MyDrive/turing_college_experiments/14_NLP/dataset/clean_dataset.csv\"\n",
        "    URL_path_save = \"/content/drive/MyDrive/turing_college_experiments/14_NLP/dataset/14_002_NLP/model\"\n",
        "else :\n",
        "    URL_path = \"/content/drive/MyDrive/turing_college_experiments/14_NLP/helper\"\n",
        "    URL_path_save = \"/content/drive/MyDrive/turing_college_experiments/14_NLP/model\"\n",
        "\n",
        "import sys\n",
        "helpers_path = \"/content/drive/MyDrive/turing_college_experiments/14_NLP/helper\"\n",
        "sys.path.append(helpers_path)\n",
        "\n",
        "from colab_helper import proportion_balance_classes"
      ]
    },
    {
      "cell_type": "markdown",
      "metadata": {
        "id": "jqwzvkjkjHm1"
      },
      "source": [
        "Now we will be installing all the modules that are required"
      ]
    },
    {
      "cell_type": "code",
      "execution_count": null,
      "metadata": {
        "colab": {
          "base_uri": "https://localhost:8080/"
        },
        "id": "vXrIe3d7jLD-",
        "outputId": "953597fc-24a1-429a-ef73-8a733867bef7"
      },
      "outputs": [
        {
          "output_type": "stream",
          "name": "stdout",
          "text": [
            "Requirement already satisfied: torchinfo in /usr/local/lib/python3.10/dist-packages (1.8.0)\n"
          ]
        }
      ],
      "source": [
        "!pip install torchinfo"
      ]
    },
    {
      "cell_type": "markdown",
      "metadata": {
        "id": "PHsefh5QojqZ"
      },
      "source": [
        "We will be exploring the Bert model and see if we could find any good performance"
      ]
    },
    {
      "cell_type": "code",
      "execution_count": null,
      "metadata": {
        "colab": {
          "base_uri": "https://localhost:8080/",
          "height": 76
        },
        "id": "pzM1_ykHaFur",
        "outputId": "32bcef2c-845c-4364-f3ab-eae38369d73b"
      },
      "outputs": [
        {
          "output_type": "execute_result",
          "data": {
            "text/plain": [
              "[(0.21176470588235294, 0.807843137254902, 0.5411764705882353),\n",
              " (0.4549019607843137, 0.21176470588235294, 0.9607843137254902),\n",
              " (0.21568627450980393, 0.21176470588235294, 0.9568627450980393),\n",
              " (0.21176470588235294, 0.6823529411764706, 0.9607843137254902),\n",
              " (0.7019607843137254, 0.21176470588235294, 0.9607843137254902),\n",
              " (0.9725490196078431, 0.08627450980392157, 0.3686274509803922),\n",
              " (0.21176470588235294, 0.4392156862745098, 0.6039215686274509),\n",
              " (0.21176470588235294, 0.4470588235294118, 0.9607843137254902),\n",
              " (0.47843137254901963, 0.807843137254902, 0.36470588235294116)]"
            ],
            "text/html": [
              "<svg  width=\"495\" height=\"55\"><rect x=\"0\" y=\"0\" width=\"55\" height=\"55\" style=\"fill:#36ce8a;stroke-width:2;stroke:rgb(255,255,255)\"/><rect x=\"55\" y=\"0\" width=\"55\" height=\"55\" style=\"fill:#7436f5;stroke-width:2;stroke:rgb(255,255,255)\"/><rect x=\"110\" y=\"0\" width=\"55\" height=\"55\" style=\"fill:#3736f4;stroke-width:2;stroke:rgb(255,255,255)\"/><rect x=\"165\" y=\"0\" width=\"55\" height=\"55\" style=\"fill:#36aef5;stroke-width:2;stroke:rgb(255,255,255)\"/><rect x=\"220\" y=\"0\" width=\"55\" height=\"55\" style=\"fill:#b336f5;stroke-width:2;stroke:rgb(255,255,255)\"/><rect x=\"275\" y=\"0\" width=\"55\" height=\"55\" style=\"fill:#f8165e;stroke-width:2;stroke:rgb(255,255,255)\"/><rect x=\"330\" y=\"0\" width=\"55\" height=\"55\" style=\"fill:#36709a;stroke-width:2;stroke:rgb(255,255,255)\"/><rect x=\"385\" y=\"0\" width=\"55\" height=\"55\" style=\"fill:#3672f5;stroke-width:2;stroke:rgb(255,255,255)\"/><rect x=\"440\" y=\"0\" width=\"55\" height=\"55\" style=\"fill:#7ace5d;stroke-width:2;stroke:rgb(255,255,255)\"/></svg>"
            ]
          },
          "metadata": {},
          "execution_count": 102
        }
      ],
      "source": [
        "# main libraries\n",
        "import numpy as np\n",
        "import pandas as pd\n",
        "import time\n",
        "from tqdm import tqdm\n",
        "\n",
        "# PyTorch Libraries\n",
        "import torch\n",
        "from torch.utils.data import Dataset, DataLoader, RandomSampler, SequentialSampler\n",
        "from torchinfo import summary  # Model summary tool for PyTorch\n",
        "\n",
        "# Transformers Library (for BERT and related utilities)\n",
        "from transformers import BertTokenizer, BertModel, BertConfig\n",
        "\n",
        "# Evaluation and Metrics\n",
        "from sklearn import metrics\n",
        "\n",
        "# Visualization Libraries\n",
        "import matplotlib.pyplot as plt\n",
        "from matplotlib.colors import LinearSegmentedColormap\n",
        "import seaborn as sns\n",
        "import plotly.graph_objects as go\n",
        "\n",
        "from torch import cuda\n",
        "device = 'cuda' if cuda.is_available() else 'cpu'\n",
        "\n",
        "# colorama\n",
        "custom_colors = ['#36CE8A', \"#7436F5\",\"#3736F4\",   \"#36AEF5\", \"#B336F5\", \"#f8165e\", \"#36709A\",  \"#3672F5\", \"#7ACE5D\"]\n",
        "gradient_colors = [ \"#36CE8A\", '#7436F5']\n",
        "color_palette_custom  = sns.set_palette(custom_colors)\n",
        "theme_color = sns.color_palette(color_palette_custom, 9)\n",
        "cmap_theme = LinearSegmentedColormap.from_list('custom_colormap', gradient_colors)\n",
        "theme_color"
      ]
    },
    {
      "cell_type": "code",
      "source": [
        "dataframe = pd.read_csv(URL_path)\n",
        "dataframe[\"not_toxic\"] = ((dataframe.iloc[:, 1:] == 0).all(axis=1)).astype(int)\n",
        "dataframe.head()\n"
      ],
      "metadata": {
        "colab": {
          "base_uri": "https://localhost:8080/",
          "height": 206
        },
        "id": "Cj6N-JVvmmN_",
        "outputId": "8835435e-0f22-4e57-db55-9274037c59f2"
      },
      "execution_count": null,
      "outputs": [
        {
          "output_type": "execute_result",
          "data": {
            "text/plain": [
              "                                        comment_text  toxic  severe_toxic  \\\n",
              "0  ExplanationWhy the edits made under my usernam...      0             0   \n",
              "1  D'aww! He matches this background colour I'm s...      0             0   \n",
              "2  Hey man, I'm really not trying to edit war. It...      0             0   \n",
              "3  \"MoreI can't make any real suggestions on impr...      0             0   \n",
              "4  You, sir, are my hero. Any chance you remember...      0             0   \n",
              "\n",
              "   obscene  threat  insult  identity_hate  not_toxic  \n",
              "0        0       0       0              0          1  \n",
              "1        0       0       0              0          1  \n",
              "2        0       0       0              0          1  \n",
              "3        0       0       0              0          1  \n",
              "4        0       0       0              0          1  "
            ],
            "text/html": [
              "\n",
              "  <div id=\"df-cfc45618-94bd-467b-914d-c8fd0709b638\" class=\"colab-df-container\">\n",
              "    <div>\n",
              "<style scoped>\n",
              "    .dataframe tbody tr th:only-of-type {\n",
              "        vertical-align: middle;\n",
              "    }\n",
              "\n",
              "    .dataframe tbody tr th {\n",
              "        vertical-align: top;\n",
              "    }\n",
              "\n",
              "    .dataframe thead th {\n",
              "        text-align: right;\n",
              "    }\n",
              "</style>\n",
              "<table border=\"1\" class=\"dataframe\">\n",
              "  <thead>\n",
              "    <tr style=\"text-align: right;\">\n",
              "      <th></th>\n",
              "      <th>comment_text</th>\n",
              "      <th>toxic</th>\n",
              "      <th>severe_toxic</th>\n",
              "      <th>obscene</th>\n",
              "      <th>threat</th>\n",
              "      <th>insult</th>\n",
              "      <th>identity_hate</th>\n",
              "      <th>not_toxic</th>\n",
              "    </tr>\n",
              "  </thead>\n",
              "  <tbody>\n",
              "    <tr>\n",
              "      <th>0</th>\n",
              "      <td>ExplanationWhy the edits made under my usernam...</td>\n",
              "      <td>0</td>\n",
              "      <td>0</td>\n",
              "      <td>0</td>\n",
              "      <td>0</td>\n",
              "      <td>0</td>\n",
              "      <td>0</td>\n",
              "      <td>1</td>\n",
              "    </tr>\n",
              "    <tr>\n",
              "      <th>1</th>\n",
              "      <td>D'aww! He matches this background colour I'm s...</td>\n",
              "      <td>0</td>\n",
              "      <td>0</td>\n",
              "      <td>0</td>\n",
              "      <td>0</td>\n",
              "      <td>0</td>\n",
              "      <td>0</td>\n",
              "      <td>1</td>\n",
              "    </tr>\n",
              "    <tr>\n",
              "      <th>2</th>\n",
              "      <td>Hey man, I'm really not trying to edit war. It...</td>\n",
              "      <td>0</td>\n",
              "      <td>0</td>\n",
              "      <td>0</td>\n",
              "      <td>0</td>\n",
              "      <td>0</td>\n",
              "      <td>0</td>\n",
              "      <td>1</td>\n",
              "    </tr>\n",
              "    <tr>\n",
              "      <th>3</th>\n",
              "      <td>\"MoreI can't make any real suggestions on impr...</td>\n",
              "      <td>0</td>\n",
              "      <td>0</td>\n",
              "      <td>0</td>\n",
              "      <td>0</td>\n",
              "      <td>0</td>\n",
              "      <td>0</td>\n",
              "      <td>1</td>\n",
              "    </tr>\n",
              "    <tr>\n",
              "      <th>4</th>\n",
              "      <td>You, sir, are my hero. Any chance you remember...</td>\n",
              "      <td>0</td>\n",
              "      <td>0</td>\n",
              "      <td>0</td>\n",
              "      <td>0</td>\n",
              "      <td>0</td>\n",
              "      <td>0</td>\n",
              "      <td>1</td>\n",
              "    </tr>\n",
              "  </tbody>\n",
              "</table>\n",
              "</div>\n",
              "    <div class=\"colab-df-buttons\">\n",
              "\n",
              "  <div class=\"colab-df-container\">\n",
              "    <button class=\"colab-df-convert\" onclick=\"convertToInteractive('df-cfc45618-94bd-467b-914d-c8fd0709b638')\"\n",
              "            title=\"Convert this dataframe to an interactive table.\"\n",
              "            style=\"display:none;\">\n",
              "\n",
              "  <svg xmlns=\"http://www.w3.org/2000/svg\" height=\"24px\" viewBox=\"0 -960 960 960\">\n",
              "    <path d=\"M120-120v-720h720v720H120Zm60-500h600v-160H180v160Zm220 220h160v-160H400v160Zm0 220h160v-160H400v160ZM180-400h160v-160H180v160Zm440 0h160v-160H620v160ZM180-180h160v-160H180v160Zm440 0h160v-160H620v160Z\"/>\n",
              "  </svg>\n",
              "    </button>\n",
              "\n",
              "  <style>\n",
              "    .colab-df-container {\n",
              "      display:flex;\n",
              "      gap: 12px;\n",
              "    }\n",
              "\n",
              "    .colab-df-convert {\n",
              "      background-color: #E8F0FE;\n",
              "      border: none;\n",
              "      border-radius: 50%;\n",
              "      cursor: pointer;\n",
              "      display: none;\n",
              "      fill: #1967D2;\n",
              "      height: 32px;\n",
              "      padding: 0 0 0 0;\n",
              "      width: 32px;\n",
              "    }\n",
              "\n",
              "    .colab-df-convert:hover {\n",
              "      background-color: #E2EBFA;\n",
              "      box-shadow: 0px 1px 2px rgba(60, 64, 67, 0.3), 0px 1px 3px 1px rgba(60, 64, 67, 0.15);\n",
              "      fill: #174EA6;\n",
              "    }\n",
              "\n",
              "    .colab-df-buttons div {\n",
              "      margin-bottom: 4px;\n",
              "    }\n",
              "\n",
              "    [theme=dark] .colab-df-convert {\n",
              "      background-color: #3B4455;\n",
              "      fill: #D2E3FC;\n",
              "    }\n",
              "\n",
              "    [theme=dark] .colab-df-convert:hover {\n",
              "      background-color: #434B5C;\n",
              "      box-shadow: 0px 1px 3px 1px rgba(0, 0, 0, 0.15);\n",
              "      filter: drop-shadow(0px 1px 2px rgba(0, 0, 0, 0.3));\n",
              "      fill: #FFFFFF;\n",
              "    }\n",
              "  </style>\n",
              "\n",
              "    <script>\n",
              "      const buttonEl =\n",
              "        document.querySelector('#df-cfc45618-94bd-467b-914d-c8fd0709b638 button.colab-df-convert');\n",
              "      buttonEl.style.display =\n",
              "        google.colab.kernel.accessAllowed ? 'block' : 'none';\n",
              "\n",
              "      async function convertToInteractive(key) {\n",
              "        const element = document.querySelector('#df-cfc45618-94bd-467b-914d-c8fd0709b638');\n",
              "        const dataTable =\n",
              "          await google.colab.kernel.invokeFunction('convertToInteractive',\n",
              "                                                    [key], {});\n",
              "        if (!dataTable) return;\n",
              "\n",
              "        const docLinkHtml = 'Like what you see? Visit the ' +\n",
              "          '<a target=\"_blank\" href=https://colab.research.google.com/notebooks/data_table.ipynb>data table notebook</a>'\n",
              "          + ' to learn more about interactive tables.';\n",
              "        element.innerHTML = '';\n",
              "        dataTable['output_type'] = 'display_data';\n",
              "        await google.colab.output.renderOutput(dataTable, element);\n",
              "        const docLink = document.createElement('div');\n",
              "        docLink.innerHTML = docLinkHtml;\n",
              "        element.appendChild(docLink);\n",
              "      }\n",
              "    </script>\n",
              "  </div>\n",
              "\n",
              "\n",
              "<div id=\"df-e3aa2660-7ca8-4e6f-88d8-41342b1c316d\">\n",
              "  <button class=\"colab-df-quickchart\" onclick=\"quickchart('df-e3aa2660-7ca8-4e6f-88d8-41342b1c316d')\"\n",
              "            title=\"Suggest charts\"\n",
              "            style=\"display:none;\">\n",
              "\n",
              "<svg xmlns=\"http://www.w3.org/2000/svg\" height=\"24px\"viewBox=\"0 0 24 24\"\n",
              "     width=\"24px\">\n",
              "    <g>\n",
              "        <path d=\"M19 3H5c-1.1 0-2 .9-2 2v14c0 1.1.9 2 2 2h14c1.1 0 2-.9 2-2V5c0-1.1-.9-2-2-2zM9 17H7v-7h2v7zm4 0h-2V7h2v10zm4 0h-2v-4h2v4z\"/>\n",
              "    </g>\n",
              "</svg>\n",
              "  </button>\n",
              "\n",
              "<style>\n",
              "  .colab-df-quickchart {\n",
              "      --bg-color: #E8F0FE;\n",
              "      --fill-color: #1967D2;\n",
              "      --hover-bg-color: #E2EBFA;\n",
              "      --hover-fill-color: #174EA6;\n",
              "      --disabled-fill-color: #AAA;\n",
              "      --disabled-bg-color: #DDD;\n",
              "  }\n",
              "\n",
              "  [theme=dark] .colab-df-quickchart {\n",
              "      --bg-color: #3B4455;\n",
              "      --fill-color: #D2E3FC;\n",
              "      --hover-bg-color: #434B5C;\n",
              "      --hover-fill-color: #FFFFFF;\n",
              "      --disabled-bg-color: #3B4455;\n",
              "      --disabled-fill-color: #666;\n",
              "  }\n",
              "\n",
              "  .colab-df-quickchart {\n",
              "    background-color: var(--bg-color);\n",
              "    border: none;\n",
              "    border-radius: 50%;\n",
              "    cursor: pointer;\n",
              "    display: none;\n",
              "    fill: var(--fill-color);\n",
              "    height: 32px;\n",
              "    padding: 0;\n",
              "    width: 32px;\n",
              "  }\n",
              "\n",
              "  .colab-df-quickchart:hover {\n",
              "    background-color: var(--hover-bg-color);\n",
              "    box-shadow: 0 1px 2px rgba(60, 64, 67, 0.3), 0 1px 3px 1px rgba(60, 64, 67, 0.15);\n",
              "    fill: var(--button-hover-fill-color);\n",
              "  }\n",
              "\n",
              "  .colab-df-quickchart-complete:disabled,\n",
              "  .colab-df-quickchart-complete:disabled:hover {\n",
              "    background-color: var(--disabled-bg-color);\n",
              "    fill: var(--disabled-fill-color);\n",
              "    box-shadow: none;\n",
              "  }\n",
              "\n",
              "  .colab-df-spinner {\n",
              "    border: 2px solid var(--fill-color);\n",
              "    border-color: transparent;\n",
              "    border-bottom-color: var(--fill-color);\n",
              "    animation:\n",
              "      spin 1s steps(1) infinite;\n",
              "  }\n",
              "\n",
              "  @keyframes spin {\n",
              "    0% {\n",
              "      border-color: transparent;\n",
              "      border-bottom-color: var(--fill-color);\n",
              "      border-left-color: var(--fill-color);\n",
              "    }\n",
              "    20% {\n",
              "      border-color: transparent;\n",
              "      border-left-color: var(--fill-color);\n",
              "      border-top-color: var(--fill-color);\n",
              "    }\n",
              "    30% {\n",
              "      border-color: transparent;\n",
              "      border-left-color: var(--fill-color);\n",
              "      border-top-color: var(--fill-color);\n",
              "      border-right-color: var(--fill-color);\n",
              "    }\n",
              "    40% {\n",
              "      border-color: transparent;\n",
              "      border-right-color: var(--fill-color);\n",
              "      border-top-color: var(--fill-color);\n",
              "    }\n",
              "    60% {\n",
              "      border-color: transparent;\n",
              "      border-right-color: var(--fill-color);\n",
              "    }\n",
              "    80% {\n",
              "      border-color: transparent;\n",
              "      border-right-color: var(--fill-color);\n",
              "      border-bottom-color: var(--fill-color);\n",
              "    }\n",
              "    90% {\n",
              "      border-color: transparent;\n",
              "      border-bottom-color: var(--fill-color);\n",
              "    }\n",
              "  }\n",
              "</style>\n",
              "\n",
              "  <script>\n",
              "    async function quickchart(key) {\n",
              "      const quickchartButtonEl =\n",
              "        document.querySelector('#' + key + ' button');\n",
              "      quickchartButtonEl.disabled = true;  // To prevent multiple clicks.\n",
              "      quickchartButtonEl.classList.add('colab-df-spinner');\n",
              "      try {\n",
              "        const charts = await google.colab.kernel.invokeFunction(\n",
              "            'suggestCharts', [key], {});\n",
              "      } catch (error) {\n",
              "        console.error('Error during call to suggestCharts:', error);\n",
              "      }\n",
              "      quickchartButtonEl.classList.remove('colab-df-spinner');\n",
              "      quickchartButtonEl.classList.add('colab-df-quickchart-complete');\n",
              "    }\n",
              "    (() => {\n",
              "      let quickchartButtonEl =\n",
              "        document.querySelector('#df-e3aa2660-7ca8-4e6f-88d8-41342b1c316d button');\n",
              "      quickchartButtonEl.style.display =\n",
              "        google.colab.kernel.accessAllowed ? 'block' : 'none';\n",
              "    })();\n",
              "  </script>\n",
              "</div>\n",
              "\n",
              "    </div>\n",
              "  </div>\n"
            ],
            "application/vnd.google.colaboratory.intrinsic+json": {
              "type": "dataframe",
              "variable_name": "dataframe"
            }
          },
          "metadata": {},
          "execution_count": 103
        }
      ]
    },
    {
      "cell_type": "code",
      "source": [
        "target_y =dataframe.iloc[:,1:].sum()\n",
        "proportion_balance_classes(target_y.index, target_y.values)"
      ],
      "metadata": {
        "colab": {
          "base_uri": "https://localhost:8080/",
          "height": 365
        },
        "id": "nZa6_W7urWOz",
        "outputId": "16022646-d04d-4305-f7f8-b2e5f5121af8"
      },
      "execution_count": null,
      "outputs": [
        {
          "output_type": "display_data",
          "data": {
            "text/plain": [
              "<Figure size 1500x400 with 1 Axes>"
            ],
            "image/png": "[encoded data removed]"
          },
          "metadata": {}
        }
      ]
    },
    {
      "cell_type": "markdown",
      "source": [
        "We will now apply undersampling to the dataset to see if it improves performance. For this step, we’ll reduce all comment classes to a maximum of 500 instances and observe how it affects the overall results."
      ],
      "metadata": {
        "id": "-bTvH8JoroIb"
      }
    },
    {
      "cell_type": "code",
      "source": [
        "sample_1 = dataframe[dataframe[\"threat\"] == 1]\n",
        "sample_2 = dataframe[dataframe[\"identity_hate\"] == 1 & (~dataframe.index.isin(sample_1.index))]\n",
        "sample_3 = dataframe[(dataframe[\"severe_toxic\"] == 1) &\n",
        "                     (~dataframe.index.isin(sample_1.index)) &\n",
        "                     (~dataframe.index.isin(sample_2.index))]\n",
        "sample_4 = dataframe[(dataframe[\"insult\"] == 1) &\n",
        "                          (~dataframe.index.isin(sample_1.index)) &\n",
        "                          (~dataframe.index.isin(sample_2.index)) &\n",
        "                          (~dataframe.index.isin(sample_3.index))]\n",
        "sample_5 = dataframe[(dataframe[\"obscene\"] == 1) &\n",
        "                           (~dataframe.index.isin(sample_1.index)) &\n",
        "                           (~dataframe.index.isin(sample_2.index)) &\n",
        "                            (~dataframe.index.isin(sample_4.index)) &\n",
        "                           (~dataframe.index.isin(sample_3.index))]\n",
        "\n",
        "sample_6 = dataframe[(dataframe[\"toxic\"] == 1) &\n",
        "                         (~dataframe.index.isin(sample_1.index)) &\n",
        "                         (~dataframe.index.isin(sample_2.index)) &\n",
        "                        (~dataframe.index.isin(sample_4.index)) &\n",
        "                        (~dataframe.index.isin(sample_5.index)) &\n",
        "                         (~dataframe.index.isin(sample_3.index))]\n",
        "\n",
        "sample_non_toxic = dataframe[(dataframe[\"not_toxic\"] == 1) &\n",
        "                         (~dataframe.index.isin(sample_1.index)) &\n",
        "                         (~dataframe.index.isin(sample_2.index)) &\n",
        "                        (~dataframe.index.isin(sample_4.index)) &\n",
        "                        (~dataframe.index.isin(sample_5.index)) &\n",
        "                        (~dataframe.index.isin(sample_6.index)) &\n",
        "                         (~dataframe.index.isin(sample_3.index))]\n",
        "\n",
        "print(\"Sample 1 (Threat):\", sample_1.shape[0])\n",
        "print(\"Sample 2 (Identity Hate):\", sample_2.shape[0])\n",
        "print(\"Sample 3 (Severe Toxic):\", sample_3.shape[0])\n",
        "print(\"Sample 4 (Insult):\", sample_4.shape[0])\n",
        "print(\"Sample 5 (Obscene):\", sample_5.shape[0])\n",
        "print(\"Sample 6 (Toxic):\", sample_6.shape[0])\n",
        "print(\"Sample Non Toxic:\", sample_non_toxic.shape[0])"
      ],
      "metadata": {
        "colab": {
          "base_uri": "https://localhost:8080/"
        },
        "id": "ZL0AohqRr-Ay",
        "outputId": "e640bba3-c268-485e-8892-e3e34696c2b9"
      },
      "execution_count": null,
      "outputs": [
        {
          "output_type": "stream",
          "name": "stdout",
          "text": [
            "Sample 1 (Threat): 476\n",
            "Sample 2 (Identity Hate): 1673\n",
            "Sample 3 (Severe Toxic): 1197\n",
            "Sample 4 (Insult): 5426\n",
            "Sample 5 (Obscene): 2039\n",
            "Sample 6 (Toxic): 5552\n",
            "Sample Non Toxic: 138417\n"
          ]
        }
      ]
    },
    {
      "cell_type": "markdown",
      "source": [
        "We will now extract the training set, limiting the maximum values to around 1,000. This adjustment aims to enhance the model's performance."
      ],
      "metadata": {
        "id": "LJunkhJmuHlB"
      }
    },
    {
      "cell_type": "code",
      "source": [
        "values_sampling = int(1000)\n",
        "sample_1_sampled = sample_1.sample(n=sample_1.shape[0], random_state=42, replace= False)\n",
        "sample_2_sampled = sample_2.sample(n=values_sampling, random_state=42, replace=False)\n",
        "sample_3_sampled = sample_3.sample(n=values_sampling, random_state=42, replace=False)\n",
        "sample_4_sampled = sample_4.sample(n=values_sampling, random_state=42, replace=False)\n",
        "sample_5_sampled = sample_5.sample(n=values_sampling, random_state=42, replace=False)\n",
        "sample_6_sampled = sample_6.sample(n=values_sampling, random_state=42, replace=False)\n",
        "sample_non_toxic_sampled = sample_non_toxic.sample(n=values_sampling, random_state=42)\n",
        "\n",
        "combined_samples = pd.concat([sample_1_sampled, sample_2_sampled, sample_3_sampled,\n",
        "                               sample_4_sampled, sample_5_sampled, sample_6_sampled,\n",
        "                               sample_non_toxic_sampled], ignore_index=True)\n",
        "\n",
        "# combined_samples = combined_samples.drop(columns=[\"list\"])\n",
        "\n",
        "print(\"Combined Samples Count:\", combined_samples.shape[0])\n",
        "target_y =combined_samples.iloc[:,1:].sum()\n",
        "\n",
        "# extracting the weights\n",
        "weights_list = target_y.tolist()\n",
        "weights = torch.tensor(weights_list, dtype=torch.float32)\n",
        "normalized_weights = weights / weights.sum()\n",
        "print(normalized_weights)\n",
        "\n",
        "proportion_balance_classes(target_y.index, target_y.values)"
      ],
      "metadata": {
        "colab": {
          "base_uri": "https://localhost:8080/",
          "height": 406
        },
        "id": "afwSRy0Zu3_Z",
        "outputId": "bb6e732e-c980-45de-c20e-814a110b68c2"
      },
      "execution_count": null,
      "outputs": [
        {
          "output_type": "stream",
          "name": "stdout",
          "text": [
            "Combined Samples Count: 6476\n",
            "tensor([0.3296, 0.0846, 0.2339, 0.0461, 0.1864, 0.0550, 0.0643])\n"
          ]
        },
        {
          "output_type": "display_data",
          "data": {
            "text/plain": [
              "<Figure size 1500x400 with 1 Axes>"
            ],
            "image/png": "[encoded data removed]"
          },
          "metadata": {}
        }
      ]
    },
    {
      "cell_type": "markdown",
      "source": [
        "We still had not proportional dataset, this because we had some features that can be categorize in several target, so we will try to continue using this dataset and split the data."
      ],
      "metadata": {
        "id": "ckwKl0w0z-1V"
      }
    },
    {
      "cell_type": "code",
      "source": [
        "combined_samples.head(3)"
      ],
      "metadata": {
        "colab": {
          "base_uri": "https://localhost:8080/",
          "height": 143
        },
        "id": "fkpE-4GZzEIt",
        "outputId": "1b94851a-3a81-4267-bdcc-dbfe88f7ef04"
      },
      "execution_count": null,
      "outputs": [
        {
          "output_type": "execute_result",
          "data": {
            "text/plain": [
              "                                        comment_text  toxic  severe_toxic  \\\n",
              "0  if you do not stop, the wikapidea nijas will c...      1             0   \n",
              "1  Fuck you Sarcasticidealist i will kill you wit...      1             1   \n",
              "2  My personal opinion Is that you're a fucking w...      1             0   \n",
              "\n",
              "   obscene  threat  insult  identity_hate  not_toxic  \n",
              "0        0       1       0              0          0  \n",
              "1        1       1       1              0          0  \n",
              "2        1       1       1              0          0  "
            ],
            "text/html": [
              "\n",
              "  <div id=\"df-1c3a1423-5667-43ed-b1f0-ad6b52e40834\" class=\"colab-df-container\">\n",
              "    <div>\n",
              "<style scoped>\n",
              "    .dataframe tbody tr th:only-of-type {\n",
              "        vertical-align: middle;\n",
              "    }\n",
              "\n",
              "    .dataframe tbody tr th {\n",
              "        vertical-align: top;\n",
              "    }\n",
              "\n",
              "    .dataframe thead th {\n",
              "        text-align: right;\n",
              "    }\n",
              "</style>\n",
              "<table border=\"1\" class=\"dataframe\">\n",
              "  <thead>\n",
              "    <tr style=\"text-align: right;\">\n",
              "      <th></th>\n",
              "      <th>comment_text</th>\n",
              "      <th>toxic</th>\n",
              "      <th>severe_toxic</th>\n",
              "      <th>obscene</th>\n",
              "      <th>threat</th>\n",
              "      <th>insult</th>\n",
              "      <th>identity_hate</th>\n",
              "      <th>not_toxic</th>\n",
              "    </tr>\n",
              "  </thead>\n",
              "  <tbody>\n",
              "    <tr>\n",
              "      <th>0</th>\n",
              "      <td>if you do not stop, the wikapidea nijas will c...</td>\n",
              "      <td>1</td>\n",
              "      <td>0</td>\n",
              "      <td>0</td>\n",
              "      <td>1</td>\n",
              "      <td>0</td>\n",
              "      <td>0</td>\n",
              "      <td>0</td>\n",
              "    </tr>\n",
              "    <tr>\n",
              "      <th>1</th>\n",
              "      <td>Fuck you Sarcasticidealist i will kill you wit...</td>\n",
              "      <td>1</td>\n",
              "      <td>1</td>\n",
              "      <td>1</td>\n",
              "      <td>1</td>\n",
              "      <td>1</td>\n",
              "      <td>0</td>\n",
              "      <td>0</td>\n",
              "    </tr>\n",
              "    <tr>\n",
              "      <th>2</th>\n",
              "      <td>My personal opinion Is that you're a fucking w...</td>\n",
              "      <td>1</td>\n",
              "      <td>0</td>\n",
              "      <td>1</td>\n",
              "      <td>1</td>\n",
              "      <td>1</td>\n",
              "      <td>0</td>\n",
              "      <td>0</td>\n",
              "    </tr>\n",
              "  </tbody>\n",
              "</table>\n",
              "</div>\n",
              "    <div class=\"colab-df-buttons\">\n",
              "\n",
              "  <div class=\"colab-df-container\">\n",
              "    <button class=\"colab-df-convert\" onclick=\"convertToInteractive('df-1c3a1423-5667-43ed-b1f0-ad6b52e40834')\"\n",
              "            title=\"Convert this dataframe to an interactive table.\"\n",
              "            style=\"display:none;\">\n",
              "\n",
              "  <svg xmlns=\"http://www.w3.org/2000/svg\" height=\"24px\" viewBox=\"0 -960 960 960\">\n",
              "    <path d=\"M120-120v-720h720v720H120Zm60-500h600v-160H180v160Zm220 220h160v-160H400v160Zm0 220h160v-160H400v160ZM180-400h160v-160H180v160Zm440 0h160v-160H620v160ZM180-180h160v-160H180v160Zm440 0h160v-160H620v160Z\"/>\n",
              "  </svg>\n",
              "    </button>\n",
              "\n",
              "  <style>\n",
              "    .colab-df-container {\n",
              "      display:flex;\n",
              "      gap: 12px;\n",
              "    }\n",
              "\n",
              "    .colab-df-convert {\n",
              "      background-color: #E8F0FE;\n",
              "      border: none;\n",
              "      border-radius: 50%;\n",
              "      cursor: pointer;\n",
              "      display: none;\n",
              "      fill: #1967D2;\n",
              "      height: 32px;\n",
              "      padding: 0 0 0 0;\n",
              "      width: 32px;\n",
              "    }\n",
              "\n",
              "    .colab-df-convert:hover {\n",
              "      background-color: #E2EBFA;\n",
              "      box-shadow: 0px 1px 2px rgba(60, 64, 67, 0.3), 0px 1px 3px 1px rgba(60, 64, 67, 0.15);\n",
              "      fill: #174EA6;\n",
              "    }\n",
              "\n",
              "    .colab-df-buttons div {\n",
              "      margin-bottom: 4px;\n",
              "    }\n",
              "\n",
              "    [theme=dark] .colab-df-convert {\n",
              "      background-color: #3B4455;\n",
              "      fill: #D2E3FC;\n",
              "    }\n",
              "\n",
              "    [theme=dark] .colab-df-convert:hover {\n",
              "      background-color: #434B5C;\n",
              "      box-shadow: 0px 1px 3px 1px rgba(0, 0, 0, 0.15);\n",
              "      filter: drop-shadow(0px 1px 2px rgba(0, 0, 0, 0.3));\n",
              "      fill: #FFFFFF;\n",
              "    }\n",
              "  </style>\n",
              "\n",
              "    <script>\n",
              "      const buttonEl =\n",
              "        document.querySelector('#df-1c3a1423-5667-43ed-b1f0-ad6b52e40834 button.colab-df-convert');\n",
              "      buttonEl.style.display =\n",
              "        google.colab.kernel.accessAllowed ? 'block' : 'none';\n",
              "\n",
              "      async function convertToInteractive(key) {\n",
              "        const element = document.querySelector('#df-1c3a1423-5667-43ed-b1f0-ad6b52e40834');\n",
              "        const dataTable =\n",
              "          await google.colab.kernel.invokeFunction('convertToInteractive',\n",
              "                                                    [key], {});\n",
              "        if (!dataTable) return;\n",
              "\n",
              "        const docLinkHtml = 'Like what you see? Visit the ' +\n",
              "          '<a target=\"_blank\" href=https://colab.research.google.com/notebooks/data_table.ipynb>data table notebook</a>'\n",
              "          + ' to learn more about interactive tables.';\n",
              "        element.innerHTML = '';\n",
              "        dataTable['output_type'] = 'display_data';\n",
              "        await google.colab.output.renderOutput(dataTable, element);\n",
              "        const docLink = document.createElement('div');\n",
              "        docLink.innerHTML = docLinkHtml;\n",
              "        element.appendChild(docLink);\n",
              "      }\n",
              "    </script>\n",
              "  </div>\n",
              "\n",
              "\n",
              "<div id=\"df-a284476f-8236-4178-8a7f-ceea50218074\">\n",
              "  <button class=\"colab-df-quickchart\" onclick=\"quickchart('df-a284476f-8236-4178-8a7f-ceea50218074')\"\n",
              "            title=\"Suggest charts\"\n",
              "            style=\"display:none;\">\n",
              "\n",
              "<svg xmlns=\"http://www.w3.org/2000/svg\" height=\"24px\"viewBox=\"0 0 24 24\"\n",
              "     width=\"24px\">\n",
              "    <g>\n",
              "        <path d=\"M19 3H5c-1.1 0-2 .9-2 2v14c0 1.1.9 2 2 2h14c1.1 0 2-.9 2-2V5c0-1.1-.9-2-2-2zM9 17H7v-7h2v7zm4 0h-2V7h2v10zm4 0h-2v-4h2v4z\"/>\n",
              "    </g>\n",
              "</svg>\n",
              "  </button>\n",
              "\n",
              "<style>\n",
              "  .colab-df-quickchart {\n",
              "      --bg-color: #E8F0FE;\n",
              "      --fill-color: #1967D2;\n",
              "      --hover-bg-color: #E2EBFA;\n",
              "      --hover-fill-color: #174EA6;\n",
              "      --disabled-fill-color: #AAA;\n",
              "      --disabled-bg-color: #DDD;\n",
              "  }\n",
              "\n",
              "  [theme=dark] .colab-df-quickchart {\n",
              "      --bg-color: #3B4455;\n",
              "      --fill-color: #D2E3FC;\n",
              "      --hover-bg-color: #434B5C;\n",
              "      --hover-fill-color: #FFFFFF;\n",
              "      --disabled-bg-color: #3B4455;\n",
              "      --disabled-fill-color: #666;\n",
              "  }\n",
              "\n",
              "  .colab-df-quickchart {\n",
              "    background-color: var(--bg-color);\n",
              "    border: none;\n",
              "    border-radius: 50%;\n",
              "    cursor: pointer;\n",
              "    display: none;\n",
              "    fill: var(--fill-color);\n",
              "    height: 32px;\n",
              "    padding: 0;\n",
              "    width: 32px;\n",
              "  }\n",
              "\n",
              "  .colab-df-quickchart:hover {\n",
              "    background-color: var(--hover-bg-color);\n",
              "    box-shadow: 0 1px 2px rgba(60, 64, 67, 0.3), 0 1px 3px 1px rgba(60, 64, 67, 0.15);\n",
              "    fill: var(--button-hover-fill-color);\n",
              "  }\n",
              "\n",
              "  .colab-df-quickchart-complete:disabled,\n",
              "  .colab-df-quickchart-complete:disabled:hover {\n",
              "    background-color: var(--disabled-bg-color);\n",
              "    fill: var(--disabled-fill-color);\n",
              "    box-shadow: none;\n",
              "  }\n",
              "\n",
              "  .colab-df-spinner {\n",
              "    border: 2px solid var(--fill-color);\n",
              "    border-color: transparent;\n",
              "    border-bottom-color: var(--fill-color);\n",
              "    animation:\n",
              "      spin 1s steps(1) infinite;\n",
              "  }\n",
              "\n",
              "  @keyframes spin {\n",
              "    0% {\n",
              "      border-color: transparent;\n",
              "      border-bottom-color: var(--fill-color);\n",
              "      border-left-color: var(--fill-color);\n",
              "    }\n",
              "    20% {\n",
              "      border-color: transparent;\n",
              "      border-left-color: var(--fill-color);\n",
              "      border-top-color: var(--fill-color);\n",
              "    }\n",
              "    30% {\n",
              "      border-color: transparent;\n",
              "      border-left-color: var(--fill-color);\n",
              "      border-top-color: var(--fill-color);\n",
              "      border-right-color: var(--fill-color);\n",
              "    }\n",
              "    40% {\n",
              "      border-color: transparent;\n",
              "      border-right-color: var(--fill-color);\n",
              "      border-top-color: var(--fill-color);\n",
              "    }\n",
              "    60% {\n",
              "      border-color: transparent;\n",
              "      border-right-color: var(--fill-color);\n",
              "    }\n",
              "    80% {\n",
              "      border-color: transparent;\n",
              "      border-right-color: var(--fill-color);\n",
              "      border-bottom-color: var(--fill-color);\n",
              "    }\n",
              "    90% {\n",
              "      border-color: transparent;\n",
              "      border-bottom-color: var(--fill-color);\n",
              "    }\n",
              "  }\n",
              "</style>\n",
              "\n",
              "  <script>\n",
              "    async function quickchart(key) {\n",
              "      const quickchartButtonEl =\n",
              "        document.querySelector('#' + key + ' button');\n",
              "      quickchartButtonEl.disabled = true;  // To prevent multiple clicks.\n",
              "      quickchartButtonEl.classList.add('colab-df-spinner');\n",
              "      try {\n",
              "        const charts = await google.colab.kernel.invokeFunction(\n",
              "            'suggestCharts', [key], {});\n",
              "      } catch (error) {\n",
              "        console.error('Error during call to suggestCharts:', error);\n",
              "      }\n",
              "      quickchartButtonEl.classList.remove('colab-df-spinner');\n",
              "      quickchartButtonEl.classList.add('colab-df-quickchart-complete');\n",
              "    }\n",
              "    (() => {\n",
              "      let quickchartButtonEl =\n",
              "        document.querySelector('#df-a284476f-8236-4178-8a7f-ceea50218074 button');\n",
              "      quickchartButtonEl.style.display =\n",
              "        google.colab.kernel.accessAllowed ? 'block' : 'none';\n",
              "    })();\n",
              "  </script>\n",
              "</div>\n",
              "\n",
              "    </div>\n",
              "  </div>\n"
            ],
            "application/vnd.google.colaboratory.intrinsic+json": {
              "type": "dataframe",
              "variable_name": "combined_samples",
              "summary": "{\n  \"name\": \"combined_samples\",\n  \"rows\": 6476,\n  \"fields\": [\n    {\n      \"column\": \"comment_text\",\n      \"properties\": {\n        \"dtype\": \"string\",\n        \"num_unique_values\": 6234,\n        \"samples\": [\n          \"Don't even start with me Mr. Confused Gender. You and your criminal friends started this war, and right now, you are loosing. You, Matthew, and your punk friends picked this fight when SORBS blocked my address without reason, then started slanderous material about me after you blocked me. Thats why SORBS.us went up, to fight SORBS, AHBL, SPEWS, and MAPS and your criminal activity. So don't you even think you will try to turn this around and make it look like I started it. This is a free country that protects 1st amendment rights from little commies like you. You are a sorry, pathetic, foul little queer creature who has no existance in today's world. What makes you think you are even worthy to stand in the same place as Steve Linford with your pathetic little pro-spam RBL?As for your extortionist friend Matthew Sullivan, he will be arrested on sight should he ever come to the U.S. You and your extortionist, spammer friends are treading on very thin ice in the legal system right now. SORBS has blocked numerous valid systems,  as well as being kicked from XO for AUP violations, but you don't want that known. You prefer that people stay in the dark, and not have access to accurate information. If I had the time, I would list every valid system that SORBS has blocked, and refused to remove, as well as list your criminal record on AHBL's wiki.You have attempted to halt the flow of new information on Wikipedia, and have tried numerous censorship schemes, not only to myself, but many others as well, and it is going to stop. Your Nazi dictatorship attitude won't get you far in this life little man. Everyone has the right to edit wikipedia with accurate information, If you have a problem with that, take it up with Wikipedia. - User:OryHaraSo edit this post. Censor it. I know you will because you love censorship, and hate the 1st amendment. You will try to censor everyone that opposes you and your ideas. I supposed you hate net neutrality as well.\",\n          \"John WagnerA special thank you to John Wagner. Without the background information he tirelessly assembled for his internet page on Lori Martin, this article would not have been possible. Thanks John. 7g7em7ini (10.9.06)\",\n          \"\\\" Intro needs urgent fixing The last two sentences in the intro need rewording/or a strong citation:\\\"\\\"The situation surrounding his assasination continues to be murky, while he reportedly was assasinated by Nation of Islam officials, he also had many enemies in the United States government. It is widely believed that the government also had a role in the assasination.\\\"\\\"I am no expert on the man but I have checked several reliable sources (E.g. \\\"\\\"Malcolm X\\\"\\\"  Encyclopedia Britannica.  1990 Ed.) and they don't say anything about a government role. I am not saying that the viewpoint is untenable, but I don't think 'widely believed' is correct.If someone more knowledgeable on the subject doesn't do it in the next day or so then I will (I am hesitant to leap in as I imagine that this article can be controversial).Also, it's spelt Assassination (unless us Aussies are out of step with the rest of the world on that one \\u2013 happens occasionally.) \\\"\"\n        ],\n        \"semantic_type\": \"\",\n        \"description\": \"\"\n      }\n    },\n    {\n      \"column\": \"toxic\",\n      \"properties\": {\n        \"dtype\": \"number\",\n        \"std\": 0,\n        \"min\": 0,\n        \"max\": 1,\n        \"num_unique_values\": 2,\n        \"samples\": [\n          0,\n          1\n        ],\n        \"semantic_type\": \"\",\n        \"description\": \"\"\n      }\n    },\n    {\n      \"column\": \"severe_toxic\",\n      \"properties\": {\n        \"dtype\": \"number\",\n        \"std\": 0,\n        \"min\": 0,\n        \"max\": 1,\n        \"num_unique_values\": 2,\n        \"samples\": [\n          1,\n          0\n        ],\n        \"semantic_type\": \"\",\n        \"description\": \"\"\n      }\n    },\n    {\n      \"column\": \"obscene\",\n      \"properties\": {\n        \"dtype\": \"number\",\n        \"std\": 0,\n        \"min\": 0,\n        \"max\": 1,\n        \"num_unique_values\": 2,\n        \"samples\": [\n          1,\n          0\n        ],\n        \"semantic_type\": \"\",\n        \"description\": \"\"\n      }\n    },\n    {\n      \"column\": \"threat\",\n      \"properties\": {\n        \"dtype\": \"number\",\n        \"std\": 0,\n        \"min\": 0,\n        \"max\": 1,\n        \"num_unique_values\": 2,\n        \"samples\": [\n          0,\n          1\n        ],\n        \"semantic_type\": \"\",\n        \"description\": \"\"\n      }\n    },\n    {\n      \"column\": \"insult\",\n      \"properties\": {\n        \"dtype\": \"number\",\n        \"std\": 0,\n        \"min\": 0,\n        \"max\": 1,\n        \"num_unique_values\": 2,\n        \"samples\": [\n          1,\n          0\n        ],\n        \"semantic_type\": \"\",\n        \"description\": \"\"\n      }\n    },\n    {\n      \"column\": \"identity_hate\",\n      \"properties\": {\n        \"dtype\": \"number\",\n        \"std\": 0,\n        \"min\": 0,\n        \"max\": 1,\n        \"num_unique_values\": 2,\n        \"samples\": [\n          1,\n          0\n        ],\n        \"semantic_type\": \"\",\n        \"description\": \"\"\n      }\n    },\n    {\n      \"column\": \"not_toxic\",\n      \"properties\": {\n        \"dtype\": \"number\",\n        \"std\": 0,\n        \"min\": 0,\n        \"max\": 1,\n        \"num_unique_values\": 2,\n        \"samples\": [\n          1,\n          0\n        ],\n        \"semantic_type\": \"\",\n        \"description\": \"\"\n      }\n    }\n  ]\n}"
            }
          },
          "metadata": {},
          "execution_count": 107
        }
      ]
    },
    {
      "cell_type": "markdown",
      "source": [
        "Now that we had a smaller dataset with all the data around the same balance, we will try to"
      ],
      "metadata": {
        "id": "5Is7RySLwAJe"
      }
    },
    {
      "cell_type": "code",
      "execution_count": null,
      "metadata": {
        "colab": {
          "base_uri": "https://localhost:8080/",
          "height": 206
        },
        "id": "AEWjV_abofg8",
        "outputId": "5bb86502-c9f8-4c01-b748-e06dbbb0c025"
      },
      "outputs": [
        {
          "output_type": "execute_result",
          "data": {
            "text/plain": [
              "                                        comment_text                   list\n",
              "0  if you do not stop, the wikapidea nijas will c...  [1, 0, 0, 1, 0, 0, 0]\n",
              "1  Fuck you Sarcasticidealist i will kill you wit...  [1, 1, 1, 1, 1, 0, 0]\n",
              "2  My personal opinion Is that you're a fucking w...  [1, 0, 1, 1, 1, 0, 0]\n",
              "3                            Graeme Bartlet MUST die  [1, 0, 0, 1, 0, 0, 0]\n",
              "4  \":spade_suit:ΜōōŠε:spade_suit:  u suck loser. ...  [1, 0, 1, 1, 1, 0, 0]"
            ],
            "text/html": [
              "\n",
              "  <div id=\"df-7b7e408f-308f-416c-a219-a0bfa5cb48b3\" class=\"colab-df-container\">\n",
              "    <div>\n",
              "<style scoped>\n",
              "    .dataframe tbody tr th:only-of-type {\n",
              "        vertical-align: middle;\n",
              "    }\n",
              "\n",
              "    .dataframe tbody tr th {\n",
              "        vertical-align: top;\n",
              "    }\n",
              "\n",
              "    .dataframe thead th {\n",
              "        text-align: right;\n",
              "    }\n",
              "</style>\n",
              "<table border=\"1\" class=\"dataframe\">\n",
              "  <thead>\n",
              "    <tr style=\"text-align: right;\">\n",
              "      <th></th>\n",
              "      <th>comment_text</th>\n",
              "      <th>list</th>\n",
              "    </tr>\n",
              "  </thead>\n",
              "  <tbody>\n",
              "    <tr>\n",
              "      <th>0</th>\n",
              "      <td>if you do not stop, the wikapidea nijas will c...</td>\n",
              "      <td>[1, 0, 0, 1, 0, 0, 0]</td>\n",
              "    </tr>\n",
              "    <tr>\n",
              "      <th>1</th>\n",
              "      <td>Fuck you Sarcasticidealist i will kill you wit...</td>\n",
              "      <td>[1, 1, 1, 1, 1, 0, 0]</td>\n",
              "    </tr>\n",
              "    <tr>\n",
              "      <th>2</th>\n",
              "      <td>My personal opinion Is that you're a fucking w...</td>\n",
              "      <td>[1, 0, 1, 1, 1, 0, 0]</td>\n",
              "    </tr>\n",
              "    <tr>\n",
              "      <th>3</th>\n",
              "      <td>Graeme Bartlet MUST die</td>\n",
              "      <td>[1, 0, 0, 1, 0, 0, 0]</td>\n",
              "    </tr>\n",
              "    <tr>\n",
              "      <th>4</th>\n",
              "      <td>\":spade_suit:ΜōōŠε:spade_suit:  u suck loser. ...</td>\n",
              "      <td>[1, 0, 1, 1, 1, 0, 0]</td>\n",
              "    </tr>\n",
              "  </tbody>\n",
              "</table>\n",
              "</div>\n",
              "    <div class=\"colab-df-buttons\">\n",
              "\n",
              "  <div class=\"colab-df-container\">\n",
              "    <button class=\"colab-df-convert\" onclick=\"convertToInteractive('df-7b7e408f-308f-416c-a219-a0bfa5cb48b3')\"\n",
              "            title=\"Convert this dataframe to an interactive table.\"\n",
              "            style=\"display:none;\">\n",
              "\n",
              "  <svg xmlns=\"http://www.w3.org/2000/svg\" height=\"24px\" viewBox=\"0 -960 960 960\">\n",
              "    <path d=\"M120-120v-720h720v720H120Zm60-500h600v-160H180v160Zm220 220h160v-160H400v160Zm0 220h160v-160H400v160ZM180-400h160v-160H180v160Zm440 0h160v-160H620v160ZM180-180h160v-160H180v160Zm440 0h160v-160H620v160Z\"/>\n",
              "  </svg>\n",
              "    </button>\n",
              "\n",
              "  <style>\n",
              "    .colab-df-container {\n",
              "      display:flex;\n",
              "      gap: 12px;\n",
              "    }\n",
              "\n",
              "    .colab-df-convert {\n",
              "      background-color: #E8F0FE;\n",
              "      border: none;\n",
              "      border-radius: 50%;\n",
              "      cursor: pointer;\n",
              "      display: none;\n",
              "      fill: #1967D2;\n",
              "      height: 32px;\n",
              "      padding: 0 0 0 0;\n",
              "      width: 32px;\n",
              "    }\n",
              "\n",
              "    .colab-df-convert:hover {\n",
              "      background-color: #E2EBFA;\n",
              "      box-shadow: 0px 1px 2px rgba(60, 64, 67, 0.3), 0px 1px 3px 1px rgba(60, 64, 67, 0.15);\n",
              "      fill: #174EA6;\n",
              "    }\n",
              "\n",
              "    .colab-df-buttons div {\n",
              "      margin-bottom: 4px;\n",
              "    }\n",
              "\n",
              "    [theme=dark] .colab-df-convert {\n",
              "      background-color: #3B4455;\n",
              "      fill: #D2E3FC;\n",
              "    }\n",
              "\n",
              "    [theme=dark] .colab-df-convert:hover {\n",
              "      background-color: #434B5C;\n",
              "      box-shadow: 0px 1px 3px 1px rgba(0, 0, 0, 0.15);\n",
              "      filter: drop-shadow(0px 1px 2px rgba(0, 0, 0, 0.3));\n",
              "      fill: #FFFFFF;\n",
              "    }\n",
              "  </style>\n",
              "\n",
              "    <script>\n",
              "      const buttonEl =\n",
              "        document.querySelector('#df-7b7e408f-308f-416c-a219-a0bfa5cb48b3 button.colab-df-convert');\n",
              "      buttonEl.style.display =\n",
              "        google.colab.kernel.accessAllowed ? 'block' : 'none';\n",
              "\n",
              "      async function convertToInteractive(key) {\n",
              "        const element = document.querySelector('#df-7b7e408f-308f-416c-a219-a0bfa5cb48b3');\n",
              "        const dataTable =\n",
              "          await google.colab.kernel.invokeFunction('convertToInteractive',\n",
              "                                                    [key], {});\n",
              "        if (!dataTable) return;\n",
              "\n",
              "        const docLinkHtml = 'Like what you see? Visit the ' +\n",
              "          '<a target=\"_blank\" href=https://colab.research.google.com/notebooks/data_table.ipynb>data table notebook</a>'\n",
              "          + ' to learn more about interactive tables.';\n",
              "        element.innerHTML = '';\n",
              "        dataTable['output_type'] = 'display_data';\n",
              "        await google.colab.output.renderOutput(dataTable, element);\n",
              "        const docLink = document.createElement('div');\n",
              "        docLink.innerHTML = docLinkHtml;\n",
              "        element.appendChild(docLink);\n",
              "      }\n",
              "    </script>\n",
              "  </div>\n",
              "\n",
              "\n",
              "<div id=\"df-5c6eb042-b5f7-4842-b084-e0a252e49668\">\n",
              "  <button class=\"colab-df-quickchart\" onclick=\"quickchart('df-5c6eb042-b5f7-4842-b084-e0a252e49668')\"\n",
              "            title=\"Suggest charts\"\n",
              "            style=\"display:none;\">\n",
              "\n",
              "<svg xmlns=\"http://www.w3.org/2000/svg\" height=\"24px\"viewBox=\"0 0 24 24\"\n",
              "     width=\"24px\">\n",
              "    <g>\n",
              "        <path d=\"M19 3H5c-1.1 0-2 .9-2 2v14c0 1.1.9 2 2 2h14c1.1 0 2-.9 2-2V5c0-1.1-.9-2-2-2zM9 17H7v-7h2v7zm4 0h-2V7h2v10zm4 0h-2v-4h2v4z\"/>\n",
              "    </g>\n",
              "</svg>\n",
              "  </button>\n",
              "\n",
              "<style>\n",
              "  .colab-df-quickchart {\n",
              "      --bg-color: #E8F0FE;\n",
              "      --fill-color: #1967D2;\n",
              "      --hover-bg-color: #E2EBFA;\n",
              "      --hover-fill-color: #174EA6;\n",
              "      --disabled-fill-color: #AAA;\n",
              "      --disabled-bg-color: #DDD;\n",
              "  }\n",
              "\n",
              "  [theme=dark] .colab-df-quickchart {\n",
              "      --bg-color: #3B4455;\n",
              "      --fill-color: #D2E3FC;\n",
              "      --hover-bg-color: #434B5C;\n",
              "      --hover-fill-color: #FFFFFF;\n",
              "      --disabled-bg-color: #3B4455;\n",
              "      --disabled-fill-color: #666;\n",
              "  }\n",
              "\n",
              "  .colab-df-quickchart {\n",
              "    background-color: var(--bg-color);\n",
              "    border: none;\n",
              "    border-radius: 50%;\n",
              "    cursor: pointer;\n",
              "    display: none;\n",
              "    fill: var(--fill-color);\n",
              "    height: 32px;\n",
              "    padding: 0;\n",
              "    width: 32px;\n",
              "  }\n",
              "\n",
              "  .colab-df-quickchart:hover {\n",
              "    background-color: var(--hover-bg-color);\n",
              "    box-shadow: 0 1px 2px rgba(60, 64, 67, 0.3), 0 1px 3px 1px rgba(60, 64, 67, 0.15);\n",
              "    fill: var(--button-hover-fill-color);\n",
              "  }\n",
              "\n",
              "  .colab-df-quickchart-complete:disabled,\n",
              "  .colab-df-quickchart-complete:disabled:hover {\n",
              "    background-color: var(--disabled-bg-color);\n",
              "    fill: var(--disabled-fill-color);\n",
              "    box-shadow: none;\n",
              "  }\n",
              "\n",
              "  .colab-df-spinner {\n",
              "    border: 2px solid var(--fill-color);\n",
              "    border-color: transparent;\n",
              "    border-bottom-color: var(--fill-color);\n",
              "    animation:\n",
              "      spin 1s steps(1) infinite;\n",
              "  }\n",
              "\n",
              "  @keyframes spin {\n",
              "    0% {\n",
              "      border-color: transparent;\n",
              "      border-bottom-color: var(--fill-color);\n",
              "      border-left-color: var(--fill-color);\n",
              "    }\n",
              "    20% {\n",
              "      border-color: transparent;\n",
              "      border-left-color: var(--fill-color);\n",
              "      border-top-color: var(--fill-color);\n",
              "    }\n",
              "    30% {\n",
              "      border-color: transparent;\n",
              "      border-left-color: var(--fill-color);\n",
              "      border-top-color: var(--fill-color);\n",
              "      border-right-color: var(--fill-color);\n",
              "    }\n",
              "    40% {\n",
              "      border-color: transparent;\n",
              "      border-right-color: var(--fill-color);\n",
              "      border-top-color: var(--fill-color);\n",
              "    }\n",
              "    60% {\n",
              "      border-color: transparent;\n",
              "      border-right-color: var(--fill-color);\n",
              "    }\n",
              "    80% {\n",
              "      border-color: transparent;\n",
              "      border-right-color: var(--fill-color);\n",
              "      border-bottom-color: var(--fill-color);\n",
              "    }\n",
              "    90% {\n",
              "      border-color: transparent;\n",
              "      border-bottom-color: var(--fill-color);\n",
              "    }\n",
              "  }\n",
              "</style>\n",
              "\n",
              "  <script>\n",
              "    async function quickchart(key) {\n",
              "      const quickchartButtonEl =\n",
              "        document.querySelector('#' + key + ' button');\n",
              "      quickchartButtonEl.disabled = true;  // To prevent multiple clicks.\n",
              "      quickchartButtonEl.classList.add('colab-df-spinner');\n",
              "      try {\n",
              "        const charts = await google.colab.kernel.invokeFunction(\n",
              "            'suggestCharts', [key], {});\n",
              "      } catch (error) {\n",
              "        console.error('Error during call to suggestCharts:', error);\n",
              "      }\n",
              "      quickchartButtonEl.classList.remove('colab-df-spinner');\n",
              "      quickchartButtonEl.classList.add('colab-df-quickchart-complete');\n",
              "    }\n",
              "    (() => {\n",
              "      let quickchartButtonEl =\n",
              "        document.querySelector('#df-5c6eb042-b5f7-4842-b084-e0a252e49668 button');\n",
              "      quickchartButtonEl.style.display =\n",
              "        google.colab.kernel.accessAllowed ? 'block' : 'none';\n",
              "    })();\n",
              "  </script>\n",
              "</div>\n",
              "\n",
              "    </div>\n",
              "  </div>\n"
            ],
            "application/vnd.google.colaboratory.intrinsic+json": {
              "type": "dataframe",
              "variable_name": "dataframe_clean",
              "summary": "{\n  \"name\": \"dataframe_clean\",\n  \"rows\": 6476,\n  \"fields\": [\n    {\n      \"column\": \"comment_text\",\n      \"properties\": {\n        \"dtype\": \"string\",\n        \"num_unique_values\": 6234,\n        \"samples\": [\n          \"Don't even start with me Mr. Confused Gender. You and your criminal friends started this war, and right now, you are loosing. You, Matthew, and your punk friends picked this fight when SORBS blocked my address without reason, then started slanderous material about me after you blocked me. Thats why SORBS.us went up, to fight SORBS, AHBL, SPEWS, and MAPS and your criminal activity. So don't you even think you will try to turn this around and make it look like I started it. This is a free country that protects 1st amendment rights from little commies like you. You are a sorry, pathetic, foul little queer creature who has no existance in today's world. What makes you think you are even worthy to stand in the same place as Steve Linford with your pathetic little pro-spam RBL?As for your extortionist friend Matthew Sullivan, he will be arrested on sight should he ever come to the U.S. You and your extortionist, spammer friends are treading on very thin ice in the legal system right now. SORBS has blocked numerous valid systems,  as well as being kicked from XO for AUP violations, but you don't want that known. You prefer that people stay in the dark, and not have access to accurate information. If I had the time, I would list every valid system that SORBS has blocked, and refused to remove, as well as list your criminal record on AHBL's wiki.You have attempted to halt the flow of new information on Wikipedia, and have tried numerous censorship schemes, not only to myself, but many others as well, and it is going to stop. Your Nazi dictatorship attitude won't get you far in this life little man. Everyone has the right to edit wikipedia with accurate information, If you have a problem with that, take it up with Wikipedia. - User:OryHaraSo edit this post. Censor it. I know you will because you love censorship, and hate the 1st amendment. You will try to censor everyone that opposes you and your ideas. I supposed you hate net neutrality as well.\",\n          \"John WagnerA special thank you to John Wagner. Without the background information he tirelessly assembled for his internet page on Lori Martin, this article would not have been possible. Thanks John. 7g7em7ini (10.9.06)\",\n          \"\\\" Intro needs urgent fixing The last two sentences in the intro need rewording/or a strong citation:\\\"\\\"The situation surrounding his assasination continues to be murky, while he reportedly was assasinated by Nation of Islam officials, he also had many enemies in the United States government. It is widely believed that the government also had a role in the assasination.\\\"\\\"I am no expert on the man but I have checked several reliable sources (E.g. \\\"\\\"Malcolm X\\\"\\\"  Encyclopedia Britannica.  1990 Ed.) and they don't say anything about a government role. I am not saying that the viewpoint is untenable, but I don't think 'widely believed' is correct.If someone more knowledgeable on the subject doesn't do it in the next day or so then I will (I am hesitant to leap in as I imagine that this article can be controversial).Also, it's spelt Assassination (unless us Aussies are out of step with the rest of the world on that one \\u2013 happens occasionally.) \\\"\"\n        ],\n        \"semantic_type\": \"\",\n        \"description\": \"\"\n      }\n    },\n    {\n      \"column\": \"list\",\n      \"properties\": {\n        \"dtype\": \"object\",\n        \"semantic_type\": \"\",\n        \"description\": \"\"\n      }\n    }\n  ]\n}"
            }
          },
          "metadata": {},
          "execution_count": 108
        }
      ],
      "source": [
        "combined_samples['list'] = combined_samples[combined_samples.columns[1:]].values.tolist()\n",
        "dataframe_clean = combined_samples[['comment_text', 'list']].copy()\n",
        "dataframe_clean.head()"
      ]
    },
    {
      "cell_type": "markdown",
      "metadata": {
        "id": "cf6vG_NGqsSP"
      },
      "source": [
        " # Parameters model\n",
        "\n",
        "In this case, we selected 256 as the maximum token length because values above this threshold represent only about 5% of the data, making them statistically insignificant. Removing these outliers helps streamline training and improve efficiency. For this iteration, we will use training and validation batches of 8, with an initial learning rate set at 1e-05. The first model we will be testing is BERT."
      ]
    },
    {
      "cell_type": "code",
      "execution_count": null,
      "metadata": {
        "colab": {
          "base_uri": "https://localhost:8080/"
        },
        "id": "dkr4qGu3qk0G",
        "outputId": "a2cc61a4-82dd-4422-cb3a-30d8624a9e64"
      },
      "outputs": [
        {
          "output_type": "stream",
          "name": "stderr",
          "text": [
            "/usr/local/lib/python3.10/dist-packages/transformers/tokenization_utils_base.py:1601: FutureWarning: `clean_up_tokenization_spaces` was not set. It will be set to `True` by default. This behavior will be depracted in transformers v4.45, and will be then set to `False` by default. For more details check this issue: https://github.com/huggingface/transformers/issues/31884\n",
            "  warnings.warn(\n"
          ]
        }
      ],
      "source": [
        "MAX_LEN = 256\n",
        "TRAIN_BATCH_SIZE = 8\n",
        "VALID_BATCH_SIZE = 8\n",
        "EPOCHS = 200\n",
        "LEARNING_RATE = 1e-05\n",
        "tokenizer = BertTokenizer.from_pretrained('bert-base-uncased')\n",
        "\n",
        "# name of the model to save\n",
        "model_name_to_save = \"002_model_bert\""
      ]
    },
    {
      "cell_type": "code",
      "execution_count": null,
      "metadata": {
        "id": "KccUTKu7qrY-"
      },
      "outputs": [],
      "source": [
        "class CustomDataset(Dataset):\n",
        "    \"\"\"Tokenize the dataset for using it in the model\"\"\"\n",
        "    def __init__(self, dataframe, tokenizer, max_len):\n",
        "        self.tokenizer = tokenizer\n",
        "        self.data = dataframe\n",
        "        self.comment_text = dataframe.comment_text\n",
        "        self.targets = self.data.list\n",
        "        self.max_len = max_len\n",
        "\n",
        "    def __len__(self):\n",
        "        return len(self.comment_text)\n",
        "\n",
        "    def __getitem__(self, index):\n",
        "        comment_text = str(self.comment_text[index])\n",
        "        comment_text = \" \".join(comment_text.split())\n",
        "\n",
        "        inputs = self.tokenizer.encode_plus(\n",
        "            comment_text,\n",
        "            None,\n",
        "            add_special_tokens=True,\n",
        "            max_length=self.max_len,\n",
        "            pad_to_max_length=True,\n",
        "            return_token_type_ids=True\n",
        "        )\n",
        "\n",
        "        ids = inputs['input_ids']\n",
        "        mask = inputs['attention_mask']\n",
        "        token_type_ids = inputs[\"token_type_ids\"]\n",
        "\n",
        "        values_return = {\n",
        "                        'ids': torch.tensor(ids, dtype=torch.int64),\n",
        "                        'mask': torch.tensor(mask, dtype=torch.int64),\n",
        "                        'token_type_ids': torch.tensor(token_type_ids, dtype=torch.int64),\n",
        "                        'targets': torch.tensor(self.targets[index], dtype=torch.float)\n",
        "                         }\n",
        "\n",
        "        return values_return"
      ]
    },
    {
      "cell_type": "markdown",
      "metadata": {
        "id": "moU59XMl7gD8"
      },
      "source": [
        "# split and dataloader"
      ]
    },
    {
      "cell_type": "code",
      "execution_count": null,
      "metadata": {
        "colab": {
          "base_uri": "https://localhost:8080/"
        },
        "id": "H6wam_oyr45X",
        "outputId": "ba86c990-f3c6-4328-ba0b-292e13404542"
      },
      "outputs": [
        {
          "output_type": "stream",
          "name": "stdout",
          "text": [
            "FULL Dataset: (6476, 2)\n",
            "TRAIN Dataset: (5181, 2)\n",
            "TEST Dataset: (1295, 2)\n"
          ]
        }
      ],
      "source": [
        "# split\n",
        "train_size = 0.8\n",
        "train_dataset=dataframe_clean.sample(frac=train_size,random_state=42)\n",
        "test_dataset=dataframe_clean.drop(train_dataset.index).reset_index(drop=True)\n",
        "train_dataset = train_dataset.reset_index(drop=True)\n",
        "\n",
        "print(\"FULL Dataset: {}\".format(dataframe_clean.shape))\n",
        "print(\"TRAIN Dataset: {}\".format(train_dataset.shape))\n",
        "print(\"TEST Dataset: {}\".format(test_dataset.shape))\n",
        "\n",
        "# transforming the dataset\n",
        "training_set = CustomDataset(train_dataset, tokenizer, MAX_LEN)\n",
        "testing_set = CustomDataset(test_dataset, tokenizer, MAX_LEN)\n",
        "\n",
        "# dataloader\n",
        "train_params = {'batch_size': TRAIN_BATCH_SIZE,\n",
        "                'shuffle': True,\n",
        "                'num_workers': 0\n",
        "                }\n",
        "\n",
        "test_params = {'batch_size': VALID_BATCH_SIZE,\n",
        "                'shuffle': True,\n",
        "                'num_workers': 0\n",
        "                }\n",
        "\n",
        "training_loader = DataLoader(training_set, **train_params)\n",
        "testing_loader = DataLoader(testing_set, **test_params)"
      ]
    },
    {
      "cell_type": "markdown",
      "metadata": {
        "id": "4ESe7yXL8VVM"
      },
      "source": [
        "# Fine tune the model"
      ]
    },
    {
      "cell_type": "code",
      "execution_count": null,
      "metadata": {
        "colab": {
          "base_uri": "https://localhost:8080/",
          "height": 466,
          "referenced_widgets": [
            "877abb780b2848518ea7c61907cb3e4b",
            "5505b2b6405d44538ef27ff10f1277e9",
            "b75ca42ec0c94b08867d54bc4854fd43",
            "3d2c2f9116194779b4dae183bdece851",
            "2c44f10bdd38419ba9aeda65e1447fbc",
            "68ad1dbf10864d7091b37d915ba18564",
            "28a46bdec37049f5960e6668319edc0e",
            "b5c6b61c7b544ddda3ffd3357d02b863",
            "0d141344bfa846f29a9bc2414b936abb",
            "367b8d3ee6784967ae011ed6ef457138",
            "fe737c1c93794c1ab7f9d82d318ff079"
          ]
        },
        "id": "oqvb0eSq8bKC",
        "outputId": "498c4b8d-5258-4c7a-b8a7-2d3ef2ad9af2"
      },
      "outputs": [
        {
          "output_type": "display_data",
          "data": {
            "text/plain": [
              "model.safetensors:   0%|          | 0.00/440M [00:00<?, ?B/s]"
            ],
            "application/vnd.jupyter.widget-view+json": {
              "version_major": 2,
              "version_minor": 0,
              "model_id": "877abb780b2848518ea7c61907cb3e4b"
            }
          },
          "metadata": {}
        },
        {
          "output_type": "execute_result",
          "data": {
            "text/plain": [
              "================================================================================\n",
              "Layer (type:depth-idx)                                  Param #\n",
              "================================================================================\n",
              "BertClass                                               --\n",
              "├─BertModel: 1-1                                        --\n",
              "│    └─BertEmbeddings: 2-1                              --\n",
              "│    │    └─Embedding: 3-1                              (23,440,896)\n",
              "│    │    └─Embedding: 3-2                              (393,216)\n",
              "│    │    └─Embedding: 3-3                              (1,536)\n",
              "│    │    └─LayerNorm: 3-4                              (1,536)\n",
              "│    │    └─Dropout: 3-5                                --\n",
              "│    └─BertEncoder: 2-2                                 --\n",
              "│    │    └─ModuleList: 3-6                             85,054,464\n",
              "│    └─BertPooler: 2-3                                  --\n",
              "│    │    └─Linear: 3-7                                 (590,592)\n",
              "│    │    └─Tanh: 3-8                                   --\n",
              "├─Dropout: 1-2                                          --\n",
              "├─Linear: 1-3                                           5,383\n",
              "================================================================================\n",
              "Total params: 109,487,623\n",
              "Trainable params: 7,093,255\n",
              "Non-trainable params: 102,394,368\n",
              "================================================================================"
            ]
          },
          "metadata": {},
          "execution_count": 112
        }
      ],
      "source": [
        "class BertClass(torch.nn.Module):\n",
        "    def __init__(self):\n",
        "        super(BertClass, self).__init__()\n",
        "        self.l1 = BertModel.from_pretrained('bert-base-uncased')\n",
        "        self.l2 = torch.nn.Dropout(0.3)\n",
        "        # because we are trying to predict 7 classes\n",
        "        self.l3 = torch.nn.Linear(768, 7)\n",
        "\n",
        "        # freeze the layers\n",
        "        for param in self.l1.parameters():\n",
        "            param.requires_grad = False\n",
        "        for param in self.l1.encoder.layer[-1].parameters():\n",
        "            param.requires_grad = True\n",
        "\n",
        "    def forward(self, ids, mask, token_type_ids):\n",
        "\n",
        "        assert isinstance(ids, torch.Tensor), f\"Expected tensor, got {type(ids)} for ids\"\n",
        "        assert isinstance(mask, torch.Tensor), f\"Expected tensor, got {type(mask)} for mask\"\n",
        "        assert isinstance(token_type_ids, torch.Tensor), f\"Expected tensor, got {type(token_type_ids)} for token_type_ids\"\n",
        "\n",
        "        # _, output_1= self.l1(ids, attention_mask = mask, token_type_ids = token_type_ids)\n",
        "        output_1 = self.l1(ids, attention_mask=mask, token_type_ids=token_type_ids)\n",
        "\n",
        "\n",
        "        # print(f\"Type of outputs: {type(output_1)}\")\n",
        "        output_1 = output_1[1]\n",
        "\n",
        "        output_2 = self.l2(output_1)\n",
        "        output = self.l3(output_2)\n",
        "        return output\n",
        "\n",
        "model_bert = BertClass()\n",
        "model_bert.to(device)\n",
        "\n",
        "summary(model_bert)"
      ]
    },
    {
      "cell_type": "markdown",
      "metadata": {
        "id": "jlqTV4ZKb1q9"
      },
      "source": [
        "# train the model"
      ]
    },
    {
      "cell_type": "code",
      "execution_count": null,
      "metadata": {
        "id": "WGfr9UhXUmpR"
      },
      "outputs": [],
      "source": [
        "# loss function\n",
        "loss_fun_object = torch.nn.BCEWithLogitsLoss(pos_weight=normalized_weights)\n",
        "def loss_fn(outputs, targets):\n",
        "    return loss_fun_object(outputs, targets)\n",
        "\n",
        "# optimizer\n",
        "param_groups = [\n",
        "    {'params': model_bert.l1.parameters(), 'lr': LEARNING_RATE * 0.1},\n",
        "    {'params': model_bert.l3.parameters(), 'lr': LEARNING_RATE},\n",
        "]\n",
        "\n",
        "# Create the optimizer using AdamW with parameter groups\n",
        "optimizer = torch.optim.AdamW(param_groups, weight_decay=0.001)\n",
        "\n",
        "# store loss s can accuracy and calculated\n",
        "def calculate_accuracy(outputs, targets):\n",
        "    preds = torch.sigmoid(outputs)  # Apply sigmoid to get probabilities\n",
        "    preds = preds.round()  # Round to get binary predictions\n",
        "    return (preds == targets).float().mean()  # Calculate accuracy\n",
        "\n",
        "loss_history = []\n",
        "accuracy_history = []\n",
        "\n",
        "# training and epochs\n",
        "def train(epoch, model, dataset_loader, device, enable_code = False):\n",
        "    \"\"\" Train the model\"\"\"\n",
        "    model.train()\n",
        "\n",
        "    running_loss = 0.0\n",
        "    running_accuracy = 0.0\n",
        "    total_samples = 0\n",
        "\n",
        "    # run each sample on the model\n",
        "    for _,data in tqdm(enumerate(dataset_loader, 0)):\n",
        "        ids =  data['ids'].to(device, dtype = torch.int64)\n",
        "        mask = data['mask'].to(device, dtype = torch.int8 )\n",
        "        token_type_ids = data['token_type_ids'].to(device, dtype = torch.int64)\n",
        "        targets = data['targets'].to(device, dtype=torch.float64)\n",
        "\n",
        "        outputs = model(ids, mask, token_type_ids)\n",
        "\n",
        "        # calculate the gradient\n",
        "        optimizer.zero_grad()\n",
        "        loss = loss_fn(outputs, targets)\n",
        "\n",
        "        optimizer.zero_grad()\n",
        "        loss.backward()\n",
        "        optimizer.step()\n",
        "\n",
        "        # Update running loss and accuracy\n",
        "        running_loss += loss.item()\n",
        "        running_accuracy += calculate_accuracy(outputs, targets).item() * ids.size(0)\n",
        "        total_samples += ids.size(0)\n",
        "\n",
        "\n",
        "        if _ % 5000 == 0:\n",
        "            accuracy = calculate_accuracy(outputs, targets).item()  # Calculate accuracy for current batch\n",
        "            print(f'Epoch: {epoch}, Loss: {loss.item()}, Accuracy: {accuracy}')\n",
        "\n",
        "        # plot the accuracy and the loss\n",
        "        epoch_loss = running_loss / len(dataset_loader)\n",
        "        epoch_accuracy = running_accuracy / total_samples\n",
        "        loss_history.append(epoch_loss)\n",
        "        accuracy_history.append(epoch_accuracy)\n",
        "\n",
        "        return model, loss_history, accuracy_history\n"
      ]
    },
    {
      "cell_type": "markdown",
      "source": [
        "After seeing the model traing for 200 epochs we could see that the accuracy of its for 80% so we will need to validate it to see how it handle its."
      ],
      "metadata": {
        "id": "cpsyvuaZQuUm"
      }
    },
    {
      "cell_type": "markdown",
      "metadata": {
        "id": "9bTlNQqkiUTh"
      },
      "source": [
        "# Validation set"
      ]
    },
    {
      "cell_type": "code",
      "source": [
        "import torch\n",
        "from sklearn.metrics import accuracy_score\n",
        "from tqdm import tqdm\n",
        "loss_values = []\n",
        "accuracy_values = []\n",
        "\n",
        "def validation(epoch, model, dataloader, device, loss_fun):\n",
        "    model.eval()  # Set model to evaluation mode\n",
        "    fin_targets = []\n",
        "    fin_outputs = []\n",
        "    total_loss = 0\n",
        "\n",
        "    with torch.no_grad():\n",
        "        for _, data in tqdm(enumerate(dataloader, 0)):\n",
        "            ids = data['ids'].to(device, dtype=torch.long)\n",
        "            mask = data['mask'].to(device, dtype=torch.long)\n",
        "            token_type_ids = data['token_type_ids'].to(device, dtype=torch.long)\n",
        "            targets = data['targets'].to(device, dtype=torch.float)\n",
        "\n",
        "            outputs = model(ids, mask, token_type_ids)\n",
        "            loss = loss_fn(outputs, targets)  # Calculate the loss for the current batch\n",
        "            total_loss += loss.item()  # Accumulate the loss\n",
        "\n",
        "            fin_targets.extend(targets.cpu().detach().numpy().tolist())\n",
        "            fin_outputs.extend(torch.sigmoid(outputs).cpu().detach().numpy().tolist())\n",
        "\n",
        "    # Calculate average loss over the entire validation set\n",
        "    avg_loss = total_loss / len(dataloader)\n",
        "\n",
        "    # Convert outputs and targets to numpy arrays for accuracy calculation\n",
        "    fin_outputs = (np.array(fin_outputs) > 0.5).astype(int)  # Thresholding the outputs\n",
        "    fin_targets = np.array(fin_targets)\n",
        "\n",
        "    # Calculate accuracy\n",
        "    accuracy = accuracy_score(fin_targets, fin_outputs)\n",
        "    print(f\"Epoch: {epoch}, Validation Loss: {avg_loss:.4f}, Accuracy: {accuracy:.4f}\")\n",
        "    loss_values.append(avg_loss)\n",
        "    accuracy_values.append(accuracy)\n",
        "\n",
        "    return fin_outputs, fin_targets, loss_values, accuracy_values\n"
      ],
      "metadata": {
        "id": "aMvv1QKA8s7O"
      },
      "execution_count": null,
      "outputs": []
    },
    {
      "cell_type": "code",
      "source": [
        "for epoch in range(EPOCHS):\n",
        "\n",
        "    print(\"==Training===\")\n",
        "    start_time = time.time()\n",
        "    print(f'The training_loader: {training_loader}')\n",
        "    model_bert, loss_history_train, accuracy_history_train = train(epoch, model_bert, training_loader, device)\n",
        "    end_time = time.time()\n",
        "    epoch_duration = end_time - start_time\n",
        "    print(f'Epoch {epoch + 1}/{EPOCHS} completed in {epoch_duration:.2f} seconds.')\n",
        "    print(\"Loss History:\", loss_history_train)\n",
        "    print(\"Accuracy History:\", accuracy_history_train)\n",
        "\n",
        "    print(\"==Testing===\")\n",
        "    print(f'The testing_loader: {testing_loader}')\n",
        "    outputs, targets, loss_history_valid ,accuracy_history_valid  = validation(epoch, model_bert, testing_loader, device, loss_fun_object)\n",
        "    print(\"Loss History:\", loss_history_valid)\n",
        "    print(\"Accuracy History:\", accuracy_history_valid)\n",
        "\n",
        "    end_time = time.time()\n",
        "    epoch_duration = start_time - end_time\n",
        "    print(f'Epoch {epoch + 1}/{EPOCHS} completed in {epoch_duration:.2f} seconds.')"
      ],
      "metadata": {
        "colab": {
          "base_uri": "https://localhost:8080/"
        },
        "id": "Xwg4aeNvXpYZ",
        "outputId": "1c4a3bdf-4d3b-4f01-bb47-d81a572db260"
      },
      "execution_count": null,
      "outputs": [
        {
          "output_type": "stream",
          "name": "stdout",
          "text": [
            "==Training===\n"
          ]
        },
        {
          "output_type": "stream",
          "name": "stderr",
          "text": [
            "\r0it [00:00, ?it/s]/usr/local/lib/python3.10/dist-packages/transformers/tokenization_utils_base.py:2870: FutureWarning: The `pad_to_max_length` argument is deprecated and will be removed in a future version, use `padding=True` or `padding='longest'` to pad to the longest sequence in the batch, or use `padding='max_length'` to pad to a max length. In this case, you can give a specific length with `max_length` (e.g. `max_length=45`) or leave max_length to None to pad to the maximal input size of the model (e.g. 512 for Bert).\n",
            "  warnings.warn(\n",
            "0it [00:00, ?it/s]\n"
          ]
        },
        {
          "output_type": "stream",
          "name": "stdout",
          "text": [
            "Epoch: 0, Loss: 0.4599760236285095, Accuracy: 0.4464285671710968\n",
            "Epoch 1/20 completed in 0.36 seconds.\n",
            "Loss History: [0.0007799953137889071, 0.0008500815069219147, 0.0007921441988810088, 0.0008154780353662579, 0.0007524292346712603, 0.0007214013957176226, 0.0007098395426365887]\n",
            "Accuracy History: [0.6071428656578064, 0.4107142984867096, 0.4107142984867096, 0.5357142686843872, 0.3928571343421936, 0.4464285671710968, 0.4464285671710968]\n",
            "==Testing===\n"
          ]
        },
        {
          "output_type": "stream",
          "name": "stderr",
          "text": [
            "162it [00:37,  4.33it/s]\n"
          ]
        },
        {
          "output_type": "stream",
          "name": "stdout",
          "text": [
            "Epoch: 0, Validation Loss: 0.5182, Accuracy: 0.0000\n",
            "Loss History: [0.5205812781681249, 0.5194220007569702, 0.5182449696240602]\n",
            "Accuracy History: [0.0, 0.0, 0.0]\n",
            "Epoch 1/20 completed in -37.78 seconds.\n",
            "==Training===\n"
          ]
        },
        {
          "output_type": "stream",
          "name": "stderr",
          "text": [
            "\r0it [00:00, ?it/s]/usr/local/lib/python3.10/dist-packages/transformers/tokenization_utils_base.py:2870: FutureWarning: The `pad_to_max_length` argument is deprecated and will be removed in a future version, use `padding=True` or `padding='longest'` to pad to the longest sequence in the batch, or use `padding='max_length'` to pad to a max length. In this case, you can give a specific length with `max_length` (e.g. `max_length=45`) or leave max_length to None to pad to the maximal input size of the model (e.g. 512 for Bert).\n",
            "  warnings.warn(\n",
            "0it [00:00, ?it/s]\n"
          ]
        },
        {
          "output_type": "stream",
          "name": "stdout",
          "text": [
            "Epoch: 1, Loss: 0.5061030296741852, Accuracy: 0.4642857015132904\n",
            "Epoch 2/20 completed in 0.33 seconds.\n",
            "Loss History: [0.0007799953137889071, 0.0008500815069219147, 0.0007921441988810088, 0.0008154780353662579, 0.0007524292346712603, 0.0007214013957176226, 0.0007098395426365887, 0.0007810231939416438]\n",
            "Accuracy History: [0.6071428656578064, 0.4107142984867096, 0.4107142984867096, 0.5357142686843872, 0.3928571343421936, 0.4464285671710968, 0.4464285671710968, 0.4642857015132904]\n",
            "==Testing===\n"
          ]
        },
        {
          "output_type": "stream",
          "name": "stderr",
          "text": [
            "162it [00:38,  4.18it/s]\n"
          ]
        },
        {
          "output_type": "stream",
          "name": "stdout",
          "text": [
            "Epoch: 1, Validation Loss: 0.5170, Accuracy: 0.0000\n",
            "Loss History: [0.5205812781681249, 0.5194220007569702, 0.5182449696240602, 0.5170358502202563]\n",
            "Accuracy History: [0.0, 0.0, 0.0, 0.0]\n",
            "Epoch 2/20 completed in -39.09 seconds.\n",
            "==Training===\n"
          ]
        },
        {
          "output_type": "stream",
          "name": "stderr",
          "text": [
            "\r0it [00:00, ?it/s]/usr/local/lib/python3.10/dist-packages/transformers/tokenization_utils_base.py:2870: FutureWarning: The `pad_to_max_length` argument is deprecated and will be removed in a future version, use `padding=True` or `padding='longest'` to pad to the longest sequence in the batch, or use `padding='max_length'` to pad to a max length. In this case, you can give a specific length with `max_length` (e.g. `max_length=45`) or leave max_length to None to pad to the maximal input size of the model (e.g. 512 for Bert).\n",
            "  warnings.warn(\n",
            "0it [00:00, ?it/s]\n"
          ]
        },
        {
          "output_type": "stream",
          "name": "stdout",
          "text": [
            "Epoch: 2, Loss: 0.47227927267418374, Accuracy: 0.5714285969734192\n",
            "Epoch 3/20 completed in 0.37 seconds.\n",
            "Loss History: [0.0007799953137889071, 0.0008500815069219147, 0.0007921441988810088, 0.0008154780353662579, 0.0007524292346712603, 0.0007214013957176226, 0.0007098395426365887, 0.0007810231939416438, 0.000728826038077444]\n",
            "Accuracy History: [0.6071428656578064, 0.4107142984867096, 0.4107142984867096, 0.5357142686843872, 0.3928571343421936, 0.4464285671710968, 0.4464285671710968, 0.4642857015132904, 0.5714285969734192]\n",
            "==Testing===\n"
          ]
        },
        {
          "output_type": "stream",
          "name": "stderr",
          "text": [
            "162it [00:40,  3.98it/s]\n"
          ]
        },
        {
          "output_type": "stream",
          "name": "stdout",
          "text": [
            "Epoch: 2, Validation Loss: 0.5159, Accuracy: 0.0000\n",
            "Loss History: [0.5205812781681249, 0.5194220007569702, 0.5182449696240602, 0.5170358502202563, 0.5159159148180926]\n",
            "Accuracy History: [0.0, 0.0, 0.0, 0.0, 0.0]\n",
            "Epoch 3/20 completed in -41.06 seconds.\n",
            "==Training===\n"
          ]
        },
        {
          "output_type": "stream",
          "name": "stderr",
          "text": [
            "\r0it [00:00, ?it/s]/usr/local/lib/python3.10/dist-packages/transformers/tokenization_utils_base.py:2870: FutureWarning: The `pad_to_max_length` argument is deprecated and will be removed in a future version, use `padding=True` or `padding='longest'` to pad to the longest sequence in the batch, or use `padding='max_length'` to pad to a max length. In this case, you can give a specific length with `max_length` (e.g. `max_length=45`) or leave max_length to None to pad to the maximal input size of the model (e.g. 512 for Bert).\n",
            "  warnings.warn(\n",
            "0it [00:00, ?it/s]\n"
          ]
        },
        {
          "output_type": "stream",
          "name": "stdout",
          "text": [
            "Epoch: 3, Loss: 0.5312885524305914, Accuracy: 0.4285714328289032\n",
            "Epoch 4/20 completed in 0.36 seconds.\n",
            "Loss History: [0.0007799953137889071, 0.0008500815069219147, 0.0007921441988810088, 0.0008154780353662579, 0.0007524292346712603, 0.0007214013957176226, 0.0007098395426365887, 0.0007810231939416438, 0.000728826038077444, 0.0008198897414052336]\n",
            "Accuracy History: [0.6071428656578064, 0.4107142984867096, 0.4107142984867096, 0.5357142686843872, 0.3928571343421936, 0.4464285671710968, 0.4464285671710968, 0.4642857015132904, 0.5714285969734192, 0.4285714328289032]\n",
            "==Testing===\n"
          ]
        },
        {
          "output_type": "stream",
          "name": "stderr",
          "text": [
            "162it [00:37,  4.30it/s]\n"
          ]
        },
        {
          "output_type": "stream",
          "name": "stdout",
          "text": [
            "Epoch: 3, Validation Loss: 0.5148, Accuracy: 0.0000\n",
            "Loss History: [0.5205812781681249, 0.5194220007569702, 0.5182449696240602, 0.5170358502202563, 0.5159159148180926, 0.5147530659113402]\n",
            "Accuracy History: [0.0, 0.0, 0.0, 0.0, 0.0, 0.0]\n",
            "Epoch 4/20 completed in -38.05 seconds.\n",
            "==Training===\n"
          ]
        },
        {
          "output_type": "stream",
          "name": "stderr",
          "text": [
            "\r0it [00:00, ?it/s]/usr/local/lib/python3.10/dist-packages/transformers/tokenization_utils_base.py:2870: FutureWarning: The `pad_to_max_length` argument is deprecated and will be removed in a future version, use `padding=True` or `padding='longest'` to pad to the longest sequence in the batch, or use `padding='max_length'` to pad to a max length. In this case, you can give a specific length with `max_length` (e.g. `max_length=45`) or leave max_length to None to pad to the maximal input size of the model (e.g. 512 for Bert).\n",
            "  warnings.warn(\n",
            "0it [00:00, ?it/s]\n"
          ]
        },
        {
          "output_type": "stream",
          "name": "stdout",
          "text": [
            "Epoch: 4, Loss: 0.529873830598912, Accuracy: 0.5178571343421936\n",
            "Epoch 5/20 completed in 0.38 seconds.\n",
            "Loss History: [0.0007799953137889071, 0.0008500815069219147, 0.0007921441988810088, 0.0008154780353662579, 0.0007524292346712603, 0.0007214013957176226, 0.0007098395426365887, 0.0007810231939416438, 0.000728826038077444, 0.0008198897414052336, 0.0008177065287020247]\n",
            "Accuracy History: [0.6071428656578064, 0.4107142984867096, 0.4107142984867096, 0.5357142686843872, 0.3928571343421936, 0.4464285671710968, 0.4464285671710968, 0.4642857015132904, 0.5714285969734192, 0.4285714328289032, 0.5178571343421936]\n",
            "==Testing===\n"
          ]
        },
        {
          "output_type": "stream",
          "name": "stderr",
          "text": [
            "162it [00:40,  3.96it/s]\n"
          ]
        },
        {
          "output_type": "stream",
          "name": "stdout",
          "text": [
            "Epoch: 4, Validation Loss: 0.5135, Accuracy: 0.0000\n",
            "Loss History: [0.5205812781681249, 0.5194220007569702, 0.5182449696240602, 0.5170358502202563, 0.5159159148180926, 0.5147530659113402, 0.5135381111392269]\n",
            "Accuracy History: [0.0, 0.0, 0.0, 0.0, 0.0, 0.0, 0.0]\n",
            "Epoch 5/20 completed in -41.32 seconds.\n",
            "==Training===\n"
          ]
        },
        {
          "output_type": "stream",
          "name": "stderr",
          "text": [
            "\r0it [00:00, ?it/s]/usr/local/lib/python3.10/dist-packages/transformers/tokenization_utils_base.py:2870: FutureWarning: The `pad_to_max_length` argument is deprecated and will be removed in a future version, use `padding=True` or `padding='longest'` to pad to the longest sequence in the batch, or use `padding='max_length'` to pad to a max length. In this case, you can give a specific length with `max_length` (e.g. `max_length=45`) or leave max_length to None to pad to the maximal input size of the model (e.g. 512 for Bert).\n",
            "  warnings.warn(\n",
            "0it [00:00, ?it/s]\n"
          ]
        },
        {
          "output_type": "stream",
          "name": "stdout",
          "text": [
            "Epoch: 5, Loss: 0.5129989434166679, Accuracy: 0.5535714030265808\n",
            "Epoch 6/20 completed in 0.34 seconds.\n",
            "Loss History: [0.0007799953137889071, 0.0008500815069219147, 0.0007921441988810088, 0.0008154780353662579, 0.0007524292346712603, 0.0007214013957176226, 0.0007098395426365887, 0.0007810231939416438, 0.000728826038077444, 0.0008198897414052336, 0.0008177065287020247, 0.0007916650361368331]\n",
            "Accuracy History: [0.6071428656578064, 0.4107142984867096, 0.4107142984867096, 0.5357142686843872, 0.3928571343421936, 0.4464285671710968, 0.4464285671710968, 0.4642857015132904, 0.5714285969734192, 0.4285714328289032, 0.5178571343421936, 0.5535714030265808]\n",
            "==Testing===\n"
          ]
        },
        {
          "output_type": "stream",
          "name": "stderr",
          "text": [
            "162it [00:34,  4.65it/s]\n"
          ]
        },
        {
          "output_type": "stream",
          "name": "stdout",
          "text": [
            "Epoch: 5, Validation Loss: 0.5124, Accuracy: 0.0000\n",
            "Loss History: [0.5205812781681249, 0.5194220007569702, 0.5182449696240602, 0.5170358502202563, 0.5159159148180926, 0.5147530659113402, 0.5135381111392269, 0.512389126567193]\n",
            "Accuracy History: [0.0, 0.0, 0.0, 0.0, 0.0, 0.0, 0.0, 0.0]\n",
            "Epoch 6/20 completed in -35.23 seconds.\n",
            "==Training===\n"
          ]
        },
        {
          "output_type": "stream",
          "name": "stderr",
          "text": [
            "\r0it [00:00, ?it/s]/usr/local/lib/python3.10/dist-packages/transformers/tokenization_utils_base.py:2870: FutureWarning: The `pad_to_max_length` argument is deprecated and will be removed in a future version, use `padding=True` or `padding='longest'` to pad to the longest sequence in the batch, or use `padding='max_length'` to pad to a max length. In this case, you can give a specific length with `max_length` (e.g. `max_length=45`) or leave max_length to None to pad to the maximal input size of the model (e.g. 512 for Bert).\n",
            "  warnings.warn(\n",
            "0it [00:00, ?it/s]\n"
          ]
        },
        {
          "output_type": "stream",
          "name": "stdout",
          "text": [
            "Epoch: 6, Loss: 0.5727957441205425, Accuracy: 0.4285714328289032\n",
            "Epoch 7/20 completed in 0.30 seconds.\n",
            "Loss History: [0.0007799953137889071, 0.0008500815069219147, 0.0007921441988810088, 0.0008154780353662579, 0.0007524292346712603, 0.0007214013957176226, 0.0007098395426365887, 0.0007810231939416438, 0.000728826038077444, 0.0008198897414052336, 0.0008177065287020247, 0.0007916650361368331, 0.0008839440495687383]\n",
            "Accuracy History: [0.6071428656578064, 0.4107142984867096, 0.4107142984867096, 0.5357142686843872, 0.3928571343421936, 0.4464285671710968, 0.4464285671710968, 0.4642857015132904, 0.5714285969734192, 0.4285714328289032, 0.5178571343421936, 0.5535714030265808, 0.4285714328289032]\n",
            "==Testing===\n"
          ]
        },
        {
          "output_type": "stream",
          "name": "stderr",
          "text": [
            "162it [00:35,  4.60it/s]\n"
          ]
        },
        {
          "output_type": "stream",
          "name": "stdout",
          "text": [
            "Epoch: 6, Validation Loss: 0.5112, Accuracy: 0.0000\n",
            "Loss History: [0.5205812781681249, 0.5194220007569702, 0.5182449696240602, 0.5170358502202563, 0.5159159148180926, 0.5147530659113402, 0.5135381111392269, 0.512389126567193, 0.5111790590080214]\n",
            "Accuracy History: [0.0, 0.0, 0.0, 0.0, 0.0, 0.0, 0.0, 0.0, 0.0]\n",
            "Epoch 7/20 completed in -35.56 seconds.\n",
            "==Training===\n"
          ]
        },
        {
          "output_type": "stream",
          "name": "stderr",
          "text": [
            "\r0it [00:00, ?it/s]/usr/local/lib/python3.10/dist-packages/transformers/tokenization_utils_base.py:2870: FutureWarning: The `pad_to_max_length` argument is deprecated and will be removed in a future version, use `padding=True` or `padding='longest'` to pad to the longest sequence in the batch, or use `padding='max_length'` to pad to a max length. In this case, you can give a specific length with `max_length` (e.g. `max_length=45`) or leave max_length to None to pad to the maximal input size of the model (e.g. 512 for Bert).\n",
            "  warnings.warn(\n",
            "0it [00:00, ?it/s]\n"
          ]
        },
        {
          "output_type": "stream",
          "name": "stdout",
          "text": [
            "Epoch: 7, Loss: 0.5447450481754329, Accuracy: 0.4642857015132904\n",
            "Epoch 8/20 completed in 0.48 seconds.\n",
            "Loss History: [0.0007799953137889071, 0.0008500815069219147, 0.0007921441988810088, 0.0008154780353662579, 0.0007524292346712603, 0.0007214013957176226, 0.0007098395426365887, 0.0007810231939416438, 0.000728826038077444, 0.0008198897414052336, 0.0008177065287020247, 0.0007916650361368331, 0.0008839440495687383, 0.0008406559385423347]\n",
            "Accuracy History: [0.6071428656578064, 0.4107142984867096, 0.4107142984867096, 0.5357142686843872, 0.3928571343421936, 0.4464285671710968, 0.4464285671710968, 0.4642857015132904, 0.5714285969734192, 0.4285714328289032, 0.5178571343421936, 0.5535714030265808, 0.4285714328289032, 0.4642857015132904]\n",
            "==Testing===\n"
          ]
        },
        {
          "output_type": "stream",
          "name": "stderr",
          "text": [
            "162it [00:40,  3.98it/s]\n"
          ]
        },
        {
          "output_type": "stream",
          "name": "stdout",
          "text": [
            "Epoch: 7, Validation Loss: 0.5100, Accuracy: 0.0000\n",
            "Loss History: [0.5205812781681249, 0.5194220007569702, 0.5182449696240602, 0.5170358502202563, 0.5159159148180926, 0.5147530659113402, 0.5135381111392269, 0.512389126567193, 0.5111790590080214, 0.5100242490017856]\n",
            "Accuracy History: [0.0, 0.0, 0.0, 0.0, 0.0, 0.0, 0.0, 0.0, 0.0, 0.0]\n",
            "Epoch 8/20 completed in -41.24 seconds.\n",
            "==Training===\n"
          ]
        },
        {
          "output_type": "stream",
          "name": "stderr",
          "text": [
            "\r0it [00:00, ?it/s]/usr/local/lib/python3.10/dist-packages/transformers/tokenization_utils_base.py:2870: FutureWarning: The `pad_to_max_length` argument is deprecated and will be removed in a future version, use `padding=True` or `padding='longest'` to pad to the longest sequence in the batch, or use `padding='max_length'` to pad to a max length. In this case, you can give a specific length with `max_length` (e.g. `max_length=45`) or leave max_length to None to pad to the maximal input size of the model (e.g. 512 for Bert).\n",
            "  warnings.warn(\n",
            "0it [00:00, ?it/s]\n"
          ]
        },
        {
          "output_type": "stream",
          "name": "stdout",
          "text": [
            "Epoch: 8, Loss: 0.531166887476242, Accuracy: 0.5178571343421936\n",
            "Epoch 9/20 completed in 0.35 seconds.\n",
            "Loss History: [0.0007799953137889071, 0.0008500815069219147, 0.0007921441988810088, 0.0008154780353662579, 0.0007524292346712603, 0.0007214013957176226, 0.0007098395426365887, 0.0007810231939416438, 0.000728826038077444, 0.0008198897414052336, 0.0008177065287020247, 0.0007916650361368331, 0.0008839440495687383, 0.0008406559385423347, 0.0008197019868460524]\n",
            "Accuracy History: [0.6071428656578064, 0.4107142984867096, 0.4107142984867096, 0.5357142686843872, 0.3928571343421936, 0.4464285671710968, 0.4464285671710968, 0.4642857015132904, 0.5714285969734192, 0.4285714328289032, 0.5178571343421936, 0.5535714030265808, 0.4285714328289032, 0.4642857015132904, 0.5178571343421936]\n",
            "==Testing===\n"
          ]
        },
        {
          "output_type": "stream",
          "name": "stderr",
          "text": [
            "162it [00:39,  4.14it/s]\n"
          ]
        },
        {
          "output_type": "stream",
          "name": "stdout",
          "text": [
            "Epoch: 8, Validation Loss: 0.5088, Accuracy: 0.0000\n",
            "Loss History: [0.5205812781681249, 0.5194220007569702, 0.5182449696240602, 0.5170358502202563, 0.5159159148180926, 0.5147530659113402, 0.5135381111392269, 0.512389126567193, 0.5111790590080214, 0.5100242490017856, 0.508796172009574]\n",
            "Accuracy History: [0.0, 0.0, 0.0, 0.0, 0.0, 0.0, 0.0, 0.0, 0.0, 0.0, 0.0]\n",
            "Epoch 9/20 completed in -39.47 seconds.\n",
            "==Training===\n"
          ]
        },
        {
          "output_type": "stream",
          "name": "stderr",
          "text": [
            "\r0it [00:00, ?it/s]/usr/local/lib/python3.10/dist-packages/transformers/tokenization_utils_base.py:2870: FutureWarning: The `pad_to_max_length` argument is deprecated and will be removed in a future version, use `padding=True` or `padding='longest'` to pad to the longest sequence in the batch, or use `padding='max_length'` to pad to a max length. In this case, you can give a specific length with `max_length` (e.g. `max_length=45`) or leave max_length to None to pad to the maximal input size of the model (e.g. 512 for Bert).\n",
            "  warnings.warn(\n",
            "0it [00:00, ?it/s]\n"
          ]
        },
        {
          "output_type": "stream",
          "name": "stdout",
          "text": [
            "Epoch: 9, Loss: 0.517377315887383, Accuracy: 0.5357142686843872\n",
            "Epoch 10/20 completed in 0.51 seconds.\n",
            "Loss History: [0.0007799953137889071, 0.0008500815069219147, 0.0007921441988810088, 0.0008154780353662579, 0.0007524292346712603, 0.0007214013957176226, 0.0007098395426365887, 0.0007810231939416438, 0.000728826038077444, 0.0008198897414052336, 0.0008177065287020247, 0.0007916650361368331, 0.0008839440495687383, 0.0008406559385423347, 0.0008197019868460524, 0.0007984217837768257]\n",
            "Accuracy History: [0.6071428656578064, 0.4107142984867096, 0.4107142984867096, 0.5357142686843872, 0.3928571343421936, 0.4464285671710968, 0.4464285671710968, 0.4642857015132904, 0.5714285969734192, 0.4285714328289032, 0.5178571343421936, 0.5535714030265808, 0.4285714328289032, 0.4642857015132904, 0.5178571343421936, 0.5357142686843872]\n",
            "==Testing===\n"
          ]
        },
        {
          "output_type": "stream",
          "name": "stderr",
          "text": [
            "162it [00:37,  4.34it/s]\n"
          ]
        },
        {
          "output_type": "stream",
          "name": "stdout",
          "text": [
            "Epoch: 9, Validation Loss: 0.5077, Accuracy: 0.0015\n",
            "Loss History: [0.5205812781681249, 0.5194220007569702, 0.5182449696240602, 0.5170358502202563, 0.5159159148180926, 0.5147530659113402, 0.5135381111392269, 0.512389126567193, 0.5111790590080214, 0.5100242490017856, 0.508796172009574, 0.5076549560935409]\n",
            "Accuracy History: [0.0, 0.0, 0.0, 0.0, 0.0, 0.0, 0.0, 0.0, 0.0, 0.0, 0.0, 0.0015444015444015444]\n",
            "Epoch 10/20 completed in -37.85 seconds.\n",
            "==Training===\n"
          ]
        },
        {
          "output_type": "stream",
          "name": "stderr",
          "text": [
            "\r0it [00:00, ?it/s]/usr/local/lib/python3.10/dist-packages/transformers/tokenization_utils_base.py:2870: FutureWarning: The `pad_to_max_length` argument is deprecated and will be removed in a future version, use `padding=True` or `padding='longest'` to pad to the longest sequence in the batch, or use `padding='max_length'` to pad to a max length. In this case, you can give a specific length with `max_length` (e.g. `max_length=45`) or leave max_length to None to pad to the maximal input size of the model (e.g. 512 for Bert).\n",
            "  warnings.warn(\n",
            "0it [00:00, ?it/s]\n"
          ]
        },
        {
          "output_type": "stream",
          "name": "stdout",
          "text": [
            "Epoch: 10, Loss: 0.5058310014594879, Accuracy: 0.4821428656578064\n",
            "Epoch 11/20 completed in 0.34 seconds.\n",
            "Loss History: [0.0007799953137889071, 0.0008500815069219147, 0.0007921441988810088, 0.0008154780353662579, 0.0007524292346712603, 0.0007214013957176226, 0.0007098395426365887, 0.0007810231939416438, 0.000728826038077444, 0.0008198897414052336, 0.0008177065287020247, 0.0007916650361368331, 0.0008839440495687383, 0.0008406559385423347, 0.0008197019868460524, 0.0007984217837768257, 0.0007806033973140245]\n",
            "Accuracy History: [0.6071428656578064, 0.4107142984867096, 0.4107142984867096, 0.5357142686843872, 0.3928571343421936, 0.4464285671710968, 0.4464285671710968, 0.4642857015132904, 0.5714285969734192, 0.4285714328289032, 0.5178571343421936, 0.5535714030265808, 0.4285714328289032, 0.4642857015132904, 0.5178571343421936, 0.5357142686843872, 0.4821428656578064]\n",
            "==Testing===\n"
          ]
        },
        {
          "output_type": "stream",
          "name": "stderr",
          "text": [
            "162it [00:37,  4.30it/s]\n"
          ]
        },
        {
          "output_type": "stream",
          "name": "stdout",
          "text": [
            "Epoch: 10, Validation Loss: 0.5064, Accuracy: 0.0015\n",
            "Loss History: [0.5205812781681249, 0.5194220007569702, 0.5182449696240602, 0.5170358502202563, 0.5159159148180926, 0.5147530659113402, 0.5135381111392269, 0.512389126567193, 0.5111790590080214, 0.5100242490017856, 0.508796172009574, 0.5076549560935409, 0.5063869914522877]\n",
            "Accuracy History: [0.0, 0.0, 0.0, 0.0, 0.0, 0.0, 0.0, 0.0, 0.0, 0.0, 0.0, 0.0015444015444015444, 0.0015444015444015444]\n",
            "Epoch 11/20 completed in -37.98 seconds.\n",
            "==Training===\n"
          ]
        },
        {
          "output_type": "stream",
          "name": "stderr",
          "text": [
            "\r0it [00:00, ?it/s]/usr/local/lib/python3.10/dist-packages/transformers/tokenization_utils_base.py:2870: FutureWarning: The `pad_to_max_length` argument is deprecated and will be removed in a future version, use `padding=True` or `padding='longest'` to pad to the longest sequence in the batch, or use `padding='max_length'` to pad to a max length. In this case, you can give a specific length with `max_length` (e.g. `max_length=45`) or leave max_length to None to pad to the maximal input size of the model (e.g. 512 for Bert).\n",
            "  warnings.warn(\n",
            "0it [00:00, ?it/s]\n"
          ]
        },
        {
          "output_type": "stream",
          "name": "stdout",
          "text": [
            "Epoch: 11, Loss: 0.4466901528316417, Accuracy: 0.5178571343421936\n",
            "Epoch 12/20 completed in 0.38 seconds.\n",
            "Loss History: [0.0007799953137889071, 0.0008500815069219147, 0.0007921441988810088, 0.0008154780353662579, 0.0007524292346712603, 0.0007214013957176226, 0.0007098395426365887, 0.0007810231939416438, 0.000728826038077444, 0.0008198897414052336, 0.0008177065287020247, 0.0007916650361368331, 0.0008839440495687383, 0.0008406559385423347, 0.0008197019868460524, 0.0007984217837768257, 0.0007806033973140245, 0.0006893366556043854]\n",
            "Accuracy History: [0.6071428656578064, 0.4107142984867096, 0.4107142984867096, 0.5357142686843872, 0.3928571343421936, 0.4464285671710968, 0.4464285671710968, 0.4642857015132904, 0.5714285969734192, 0.4285714328289032, 0.5178571343421936, 0.5535714030265808, 0.4285714328289032, 0.4642857015132904, 0.5178571343421936, 0.5357142686843872, 0.4821428656578064, 0.5178571343421936]\n",
            "==Testing===\n"
          ]
        },
        {
          "output_type": "stream",
          "name": "stderr",
          "text": [
            "162it [00:36,  4.41it/s]\n"
          ]
        },
        {
          "output_type": "stream",
          "name": "stdout",
          "text": [
            "Epoch: 11, Validation Loss: 0.5053, Accuracy: 0.0015\n",
            "Loss History: [0.5205812781681249, 0.5194220007569702, 0.5182449696240602, 0.5170358502202563, 0.5159159148180926, 0.5147530659113402, 0.5135381111392269, 0.512389126567193, 0.5111790590080214, 0.5100242490017856, 0.508796172009574, 0.5076549560935409, 0.5063869914522877, 0.5052914264393441]\n",
            "Accuracy History: [0.0, 0.0, 0.0, 0.0, 0.0, 0.0, 0.0, 0.0, 0.0, 0.0, 0.0, 0.0015444015444015444, 0.0015444015444015444, 0.0015444015444015444]\n",
            "Epoch 12/20 completed in -37.14 seconds.\n",
            "==Training===\n"
          ]
        },
        {
          "output_type": "stream",
          "name": "stderr",
          "text": [
            "\r0it [00:00, ?it/s]/usr/local/lib/python3.10/dist-packages/transformers/tokenization_utils_base.py:2870: FutureWarning: The `pad_to_max_length` argument is deprecated and will be removed in a future version, use `padding=True` or `padding='longest'` to pad to the longest sequence in the batch, or use `padding='max_length'` to pad to a max length. In this case, you can give a specific length with `max_length` (e.g. `max_length=45`) or leave max_length to None to pad to the maximal input size of the model (e.g. 512 for Bert).\n",
            "  warnings.warn(\n",
            "0it [00:00, ?it/s]\n"
          ]
        },
        {
          "output_type": "stream",
          "name": "stdout",
          "text": [
            "Epoch: 12, Loss: 0.49308308450106, Accuracy: 0.4285714328289032\n",
            "Epoch 13/20 completed in 0.38 seconds.\n",
            "Loss History: [0.0007799953137889071, 0.0008500815069219147, 0.0007921441988810088, 0.0008154780353662579, 0.0007524292346712603, 0.0007214013957176226, 0.0007098395426365887, 0.0007810231939416438, 0.000728826038077444, 0.0008198897414052336, 0.0008177065287020247, 0.0007916650361368331, 0.0008839440495687383, 0.0008406559385423347, 0.0008197019868460524, 0.0007984217837768257, 0.0007806033973140245, 0.0006893366556043854, 0.0007609306859584259]\n",
            "Accuracy History: [0.6071428656578064, 0.4107142984867096, 0.4107142984867096, 0.5357142686843872, 0.3928571343421936, 0.4464285671710968, 0.4464285671710968, 0.4642857015132904, 0.5714285969734192, 0.4285714328289032, 0.5178571343421936, 0.5535714030265808, 0.4285714328289032, 0.4642857015132904, 0.5178571343421936, 0.5357142686843872, 0.4821428656578064, 0.5178571343421936, 0.4285714328289032]\n",
            "==Testing===\n"
          ]
        },
        {
          "output_type": "stream",
          "name": "stderr",
          "text": [
            "162it [00:35,  4.59it/s]\n"
          ]
        },
        {
          "output_type": "stream",
          "name": "stdout",
          "text": [
            "Epoch: 12, Validation Loss: 0.5041, Accuracy: 0.0023\n",
            "Loss History: [0.5205812781681249, 0.5194220007569702, 0.5182449696240602, 0.5170358502202563, 0.5159159148180926, 0.5147530659113402, 0.5135381111392269, 0.512389126567193, 0.5111790590080214, 0.5100242490017856, 0.508796172009574, 0.5076549560935409, 0.5063869914522877, 0.5052914264393441, 0.5041187486530821]\n",
            "Accuracy History: [0.0, 0.0, 0.0, 0.0, 0.0, 0.0, 0.0, 0.0, 0.0, 0.0, 0.0, 0.0015444015444015444, 0.0015444015444015444, 0.0015444015444015444, 0.0023166023166023165]\n",
            "Epoch 13/20 completed in -35.70 seconds.\n",
            "==Training===\n"
          ]
        },
        {
          "output_type": "stream",
          "name": "stderr",
          "text": [
            "\r0it [00:00, ?it/s]/usr/local/lib/python3.10/dist-packages/transformers/tokenization_utils_base.py:2870: FutureWarning: The `pad_to_max_length` argument is deprecated and will be removed in a future version, use `padding=True` or `padding='longest'` to pad to the longest sequence in the batch, or use `padding='max_length'` to pad to a max length. In this case, you can give a specific length with `max_length` (e.g. `max_length=45`) or leave max_length to None to pad to the maximal input size of the model (e.g. 512 for Bert).\n",
            "  warnings.warn(\n",
            "0it [00:00, ?it/s]\n"
          ]
        },
        {
          "output_type": "stream",
          "name": "stdout",
          "text": [
            "Epoch: 13, Loss: 0.5121632025776697, Accuracy: 0.5714285969734192\n",
            "Epoch 14/20 completed in 0.46 seconds.\n",
            "Loss History: [0.0007799953137889071, 0.0008500815069219147, 0.0007921441988810088, 0.0008154780353662579, 0.0007524292346712603, 0.0007214013957176226, 0.0007098395426365887, 0.0007810231939416438, 0.000728826038077444, 0.0008198897414052336, 0.0008177065287020247, 0.0007916650361368331, 0.0008839440495687383, 0.0008406559385423347, 0.0008197019868460524, 0.0007984217837768257, 0.0007806033973140245, 0.0006893366556043854, 0.0007609306859584259, 0.0007903753126198606]\n",
            "Accuracy History: [0.6071428656578064, 0.4107142984867096, 0.4107142984867096, 0.5357142686843872, 0.3928571343421936, 0.4464285671710968, 0.4464285671710968, 0.4642857015132904, 0.5714285969734192, 0.4285714328289032, 0.5178571343421936, 0.5535714030265808, 0.4285714328289032, 0.4642857015132904, 0.5178571343421936, 0.5357142686843872, 0.4821428656578064, 0.5178571343421936, 0.4285714328289032, 0.5714285969734192]\n",
            "==Testing===\n"
          ]
        },
        {
          "output_type": "stream",
          "name": "stderr",
          "text": [
            "162it [00:38,  4.18it/s]\n"
          ]
        },
        {
          "output_type": "stream",
          "name": "stdout",
          "text": [
            "Epoch: 13, Validation Loss: 0.5029, Accuracy: 0.0023\n",
            "Loss History: [0.5205812781681249, 0.5194220007569702, 0.5182449696240602, 0.5170358502202563, 0.5159159148180926, 0.5147530659113402, 0.5135381111392269, 0.512389126567193, 0.5111790590080214, 0.5100242490017856, 0.508796172009574, 0.5076549560935409, 0.5063869914522877, 0.5052914264393441, 0.5041187486530821, 0.5029233305910488]\n",
            "Accuracy History: [0.0, 0.0, 0.0, 0.0, 0.0, 0.0, 0.0, 0.0, 0.0, 0.0, 0.0, 0.0015444015444015444, 0.0015444015444015444, 0.0015444015444015444, 0.0023166023166023165, 0.0023166023166023165]\n",
            "Epoch 14/20 completed in -39.26 seconds.\n",
            "==Training===\n"
          ]
        },
        {
          "output_type": "stream",
          "name": "stderr",
          "text": [
            "\r0it [00:00, ?it/s]/usr/local/lib/python3.10/dist-packages/transformers/tokenization_utils_base.py:2870: FutureWarning: The `pad_to_max_length` argument is deprecated and will be removed in a future version, use `padding=True` or `padding='longest'` to pad to the longest sequence in the batch, or use `padding='max_length'` to pad to a max length. In this case, you can give a specific length with `max_length` (e.g. `max_length=45`) or leave max_length to None to pad to the maximal input size of the model (e.g. 512 for Bert).\n",
            "  warnings.warn(\n",
            "0it [00:00, ?it/s]\n"
          ]
        },
        {
          "output_type": "stream",
          "name": "stdout",
          "text": [
            "Epoch: 14, Loss: 0.493338112719357, Accuracy: 0.5178571343421936\n",
            "Epoch 15/20 completed in 0.40 seconds.\n",
            "Loss History: [0.0007799953137889071, 0.0008500815069219147, 0.0007921441988810088, 0.0008154780353662579, 0.0007524292346712603, 0.0007214013957176226, 0.0007098395426365887, 0.0007810231939416438, 0.000728826038077444, 0.0008198897414052336, 0.0008177065287020247, 0.0007916650361368331, 0.0008839440495687383, 0.0008406559385423347, 0.0008197019868460524, 0.0007984217837768257, 0.0007806033973140245, 0.0006893366556043854, 0.0007609306859584259, 0.0007903753126198606, 0.0007613242480236991]\n",
            "Accuracy History: [0.6071428656578064, 0.4107142984867096, 0.4107142984867096, 0.5357142686843872, 0.3928571343421936, 0.4464285671710968, 0.4464285671710968, 0.4642857015132904, 0.5714285969734192, 0.4285714328289032, 0.5178571343421936, 0.5535714030265808, 0.4285714328289032, 0.4642857015132904, 0.5178571343421936, 0.5357142686843872, 0.4821428656578064, 0.5178571343421936, 0.4285714328289032, 0.5714285969734192, 0.5178571343421936]\n",
            "==Testing===\n"
          ]
        },
        {
          "output_type": "stream",
          "name": "stderr",
          "text": [
            "162it [00:35,  4.50it/s]\n"
          ]
        },
        {
          "output_type": "stream",
          "name": "stdout",
          "text": [
            "Epoch: 14, Validation Loss: 0.5018, Accuracy: 0.0023\n",
            "Loss History: [0.5205812781681249, 0.5194220007569702, 0.5182449696240602, 0.5170358502202563, 0.5159159148180926, 0.5147530659113402, 0.5135381111392269, 0.512389126567193, 0.5111790590080214, 0.5100242490017856, 0.508796172009574, 0.5076549560935409, 0.5063869914522877, 0.5052914264393441, 0.5041187486530821, 0.5029233305910488, 0.501812360536905]\n",
            "Accuracy History: [0.0, 0.0, 0.0, 0.0, 0.0, 0.0, 0.0, 0.0, 0.0, 0.0, 0.0, 0.0015444015444015444, 0.0015444015444015444, 0.0015444015444015444, 0.0023166023166023165, 0.0023166023166023165, 0.0023166023166023165]\n",
            "Epoch 15/20 completed in -36.40 seconds.\n",
            "==Training===\n"
          ]
        },
        {
          "output_type": "stream",
          "name": "stderr",
          "text": [
            "\r0it [00:00, ?it/s]/usr/local/lib/python3.10/dist-packages/transformers/tokenization_utils_base.py:2870: FutureWarning: The `pad_to_max_length` argument is deprecated and will be removed in a future version, use `padding=True` or `padding='longest'` to pad to the longest sequence in the batch, or use `padding='max_length'` to pad to a max length. In this case, you can give a specific length with `max_length` (e.g. `max_length=45`) or leave max_length to None to pad to the maximal input size of the model (e.g. 512 for Bert).\n",
            "  warnings.warn(\n",
            "0it [00:00, ?it/s]\n"
          ]
        },
        {
          "output_type": "stream",
          "name": "stdout",
          "text": [
            "Epoch: 15, Loss: 0.4332166691643319, Accuracy: 0.5178571343421936\n",
            "Epoch 16/20 completed in 0.51 seconds.\n",
            "Loss History: [0.0007799953137889071, 0.0008500815069219147, 0.0007921441988810088, 0.0008154780353662579, 0.0007524292346712603, 0.0007214013957176226, 0.0007098395426365887, 0.0007810231939416438, 0.000728826038077444, 0.0008198897414052336, 0.0008177065287020247, 0.0007916650361368331, 0.0008839440495687383, 0.0008406559385423347, 0.0008197019868460524, 0.0007984217837768257, 0.0007806033973140245, 0.0006893366556043854, 0.0007609306859584259, 0.0007903753126198606, 0.0007613242480236991, 0.0006685442425375492]\n",
            "Accuracy History: [0.6071428656578064, 0.4107142984867096, 0.4107142984867096, 0.5357142686843872, 0.3928571343421936, 0.4464285671710968, 0.4464285671710968, 0.4642857015132904, 0.5714285969734192, 0.4285714328289032, 0.5178571343421936, 0.5535714030265808, 0.4285714328289032, 0.4642857015132904, 0.5178571343421936, 0.5357142686843872, 0.4821428656578064, 0.5178571343421936, 0.4285714328289032, 0.5714285969734192, 0.5178571343421936, 0.5178571343421936]\n",
            "==Testing===\n"
          ]
        },
        {
          "output_type": "stream",
          "name": "stderr",
          "text": [
            "162it [00:35,  4.57it/s]\n"
          ]
        },
        {
          "output_type": "stream",
          "name": "stdout",
          "text": [
            "Epoch: 15, Validation Loss: 0.5007, Accuracy: 0.0023\n",
            "Loss History: [0.5205812781681249, 0.5194220007569702, 0.5182449696240602, 0.5170358502202563, 0.5159159148180926, 0.5147530659113402, 0.5135381111392269, 0.512389126567193, 0.5111790590080214, 0.5100242490017856, 0.508796172009574, 0.5076549560935409, 0.5063869914522877, 0.5052914264393441, 0.5041187486530821, 0.5029233305910488, 0.501812360536905, 0.5007010010289558]\n",
            "Accuracy History: [0.0, 0.0, 0.0, 0.0, 0.0, 0.0, 0.0, 0.0, 0.0, 0.0, 0.0, 0.0015444015444015444, 0.0015444015444015444, 0.0015444015444015444, 0.0023166023166023165, 0.0023166023166023165, 0.0023166023166023165, 0.0023166023166023165]\n",
            "Epoch 16/20 completed in -36.00 seconds.\n",
            "==Training===\n"
          ]
        },
        {
          "output_type": "stream",
          "name": "stderr",
          "text": [
            "\r0it [00:00, ?it/s]/usr/local/lib/python3.10/dist-packages/transformers/tokenization_utils_base.py:2870: FutureWarning: The `pad_to_max_length` argument is deprecated and will be removed in a future version, use `padding=True` or `padding='longest'` to pad to the longest sequence in the batch, or use `padding='max_length'` to pad to a max length. In this case, you can give a specific length with `max_length` (e.g. `max_length=45`) or leave max_length to None to pad to the maximal input size of the model (e.g. 512 for Bert).\n",
            "  warnings.warn(\n",
            "0it [00:00, ?it/s]\n"
          ]
        },
        {
          "output_type": "stream",
          "name": "stdout",
          "text": [
            "Epoch: 16, Loss: 0.47159811618205694, Accuracy: 0.5714285969734192\n",
            "Epoch 17/20 completed in 0.29 seconds.\n",
            "Loss History: [0.0007799953137889071, 0.0008500815069219147, 0.0007921441988810088, 0.0008154780353662579, 0.0007524292346712603, 0.0007214013957176226, 0.0007098395426365887, 0.0007810231939416438, 0.000728826038077444, 0.0008198897414052336, 0.0008177065287020247, 0.0007916650361368331, 0.0008839440495687383, 0.0008406559385423347, 0.0008197019868460524, 0.0007984217837768257, 0.0007806033973140245, 0.0006893366556043854, 0.0007609306859584259, 0.0007903753126198606, 0.0007613242480236991, 0.0006685442425375492, 0.0007277748706513225]\n",
            "Accuracy History: [0.6071428656578064, 0.4107142984867096, 0.4107142984867096, 0.5357142686843872, 0.3928571343421936, 0.4464285671710968, 0.4464285671710968, 0.4642857015132904, 0.5714285969734192, 0.4285714328289032, 0.5178571343421936, 0.5535714030265808, 0.4285714328289032, 0.4642857015132904, 0.5178571343421936, 0.5357142686843872, 0.4821428656578064, 0.5178571343421936, 0.4285714328289032, 0.5714285969734192, 0.5178571343421936, 0.5178571343421936, 0.5714285969734192]\n",
            "==Testing===\n"
          ]
        },
        {
          "output_type": "stream",
          "name": "stderr",
          "text": [
            "162it [00:38,  4.25it/s]\n"
          ]
        },
        {
          "output_type": "stream",
          "name": "stdout",
          "text": [
            "Epoch: 16, Validation Loss: 0.4996, Accuracy: 0.0023\n",
            "Loss History: [0.5205812781681249, 0.5194220007569702, 0.5182449696240602, 0.5170358502202563, 0.5159159148180926, 0.5147530659113402, 0.5135381111392269, 0.512389126567193, 0.5111790590080214, 0.5100242490017856, 0.508796172009574, 0.5076549560935409, 0.5063869914522877, 0.5052914264393441, 0.5041187486530821, 0.5029233305910488, 0.501812360536905, 0.5007010010289558, 0.49961230085219865]\n",
            "Accuracy History: [0.0, 0.0, 0.0, 0.0, 0.0, 0.0, 0.0, 0.0, 0.0, 0.0, 0.0, 0.0015444015444015444, 0.0015444015444015444, 0.0015444015444015444, 0.0023166023166023165, 0.0023166023166023165, 0.0023166023166023165, 0.0023166023166023165, 0.0023166023166023165]\n",
            "Epoch 17/20 completed in -38.43 seconds.\n",
            "==Training===\n"
          ]
        },
        {
          "output_type": "stream",
          "name": "stderr",
          "text": [
            "\r0it [00:00, ?it/s]/usr/local/lib/python3.10/dist-packages/transformers/tokenization_utils_base.py:2870: FutureWarning: The `pad_to_max_length` argument is deprecated and will be removed in a future version, use `padding=True` or `padding='longest'` to pad to the longest sequence in the batch, or use `padding='max_length'` to pad to a max length. In this case, you can give a specific length with `max_length` (e.g. `max_length=45`) or leave max_length to None to pad to the maximal input size of the model (e.g. 512 for Bert).\n",
            "  warnings.warn(\n",
            "0it [00:00, ?it/s]\n"
          ]
        },
        {
          "output_type": "stream",
          "name": "stdout",
          "text": [
            "Epoch: 17, Loss: 0.5201155042408833, Accuracy: 0.4642857015132904\n",
            "Epoch 18/20 completed in 0.42 seconds.\n",
            "Loss History: [0.0007799953137889071, 0.0008500815069219147, 0.0007921441988810088, 0.0008154780353662579, 0.0007524292346712603, 0.0007214013957176226, 0.0007098395426365887, 0.0007810231939416438, 0.000728826038077444, 0.0008198897414052336, 0.0008177065287020247, 0.0007916650361368331, 0.0008839440495687383, 0.0008406559385423347, 0.0008197019868460524, 0.0007984217837768257, 0.0007806033973140245, 0.0006893366556043854, 0.0007609306859584259, 0.0007903753126198606, 0.0007613242480236991, 0.0006685442425375492, 0.0007277748706513225, 0.0008026473830877828]\n",
            "Accuracy History: [0.6071428656578064, 0.4107142984867096, 0.4107142984867096, 0.5357142686843872, 0.3928571343421936, 0.4464285671710968, 0.4464285671710968, 0.4642857015132904, 0.5714285969734192, 0.4285714328289032, 0.5178571343421936, 0.5535714030265808, 0.4285714328289032, 0.4642857015132904, 0.5178571343421936, 0.5357142686843872, 0.4821428656578064, 0.5178571343421936, 0.4285714328289032, 0.5714285969734192, 0.5178571343421936, 0.5178571343421936, 0.5714285969734192, 0.4642857015132904]\n",
            "==Testing===\n"
          ]
        },
        {
          "output_type": "stream",
          "name": "stderr",
          "text": [
            "162it [00:37,  4.37it/s]\n"
          ]
        },
        {
          "output_type": "stream",
          "name": "stdout",
          "text": [
            "Epoch: 17, Validation Loss: 0.4985, Accuracy: 0.0031\n",
            "Loss History: [0.5205812781681249, 0.5194220007569702, 0.5182449696240602, 0.5170358502202563, 0.5159159148180926, 0.5147530659113402, 0.5135381111392269, 0.512389126567193, 0.5111790590080214, 0.5100242490017856, 0.508796172009574, 0.5076549560935409, 0.5063869914522877, 0.5052914264393441, 0.5041187486530821, 0.5029233305910488, 0.501812360536905, 0.5007010010289558, 0.49961230085219865, 0.4985243656017162]\n",
            "Accuracy History: [0.0, 0.0, 0.0, 0.0, 0.0, 0.0, 0.0, 0.0, 0.0, 0.0, 0.0, 0.0015444015444015444, 0.0015444015444015444, 0.0015444015444015444, 0.0023166023166023165, 0.0023166023166023165, 0.0023166023166023165, 0.0023166023166023165, 0.0023166023166023165, 0.003088803088803089]\n",
            "Epoch 18/20 completed in -37.55 seconds.\n",
            "==Training===\n"
          ]
        },
        {
          "output_type": "stream",
          "name": "stderr",
          "text": [
            "\r0it [00:00, ?it/s]/usr/local/lib/python3.10/dist-packages/transformers/tokenization_utils_base.py:2870: FutureWarning: The `pad_to_max_length` argument is deprecated and will be removed in a future version, use `padding=True` or `padding='longest'` to pad to the longest sequence in the batch, or use `padding='max_length'` to pad to a max length. In this case, you can give a specific length with `max_length` (e.g. `max_length=45`) or leave max_length to None to pad to the maximal input size of the model (e.g. 512 for Bert).\n",
            "  warnings.warn(\n",
            "0it [00:00, ?it/s]\n"
          ]
        },
        {
          "output_type": "stream",
          "name": "stdout",
          "text": [
            "Epoch: 18, Loss: 0.5207099663093686, Accuracy: 0.5\n",
            "Epoch 19/20 completed in 0.39 seconds.\n",
            "Loss History: [0.0007799953137889071, 0.0008500815069219147, 0.0007921441988810088, 0.0008154780353662579, 0.0007524292346712603, 0.0007214013957176226, 0.0007098395426365887, 0.0007810231939416438, 0.000728826038077444, 0.0008198897414052336, 0.0008177065287020247, 0.0007916650361368331, 0.0008839440495687383, 0.0008406559385423347, 0.0008197019868460524, 0.0007984217837768257, 0.0007806033973140245, 0.0006893366556043854, 0.0007609306859584259, 0.0007903753126198606, 0.0007613242480236991, 0.0006685442425375492, 0.0007277748706513225, 0.0008026473830877828, 0.0008035647628230997]\n",
            "Accuracy History: [0.6071428656578064, 0.4107142984867096, 0.4107142984867096, 0.5357142686843872, 0.3928571343421936, 0.4464285671710968, 0.4464285671710968, 0.4642857015132904, 0.5714285969734192, 0.4285714328289032, 0.5178571343421936, 0.5535714030265808, 0.4285714328289032, 0.4642857015132904, 0.5178571343421936, 0.5357142686843872, 0.4821428656578064, 0.5178571343421936, 0.4285714328289032, 0.5714285969734192, 0.5178571343421936, 0.5178571343421936, 0.5714285969734192, 0.4642857015132904, 0.5]\n",
            "==Testing===\n"
          ]
        },
        {
          "output_type": "stream",
          "name": "stderr",
          "text": [
            "162it [00:35,  4.52it/s]\n"
          ]
        },
        {
          "output_type": "stream",
          "name": "stdout",
          "text": [
            "Epoch: 18, Validation Loss: 0.4975, Accuracy: 0.0031\n",
            "Loss History: [0.5205812781681249, 0.5194220007569702, 0.5182449696240602, 0.5170358502202563, 0.5159159148180926, 0.5147530659113402, 0.5135381111392269, 0.512389126567193, 0.5111790590080214, 0.5100242490017856, 0.508796172009574, 0.5076549560935409, 0.5063869914522877, 0.5052914264393441, 0.5041187486530821, 0.5029233305910488, 0.501812360536905, 0.5007010010289558, 0.49961230085219865, 0.4985243656017162, 0.4974686529165433]\n",
            "Accuracy History: [0.0, 0.0, 0.0, 0.0, 0.0, 0.0, 0.0, 0.0, 0.0, 0.0, 0.0, 0.0015444015444015444, 0.0015444015444015444, 0.0015444015444015444, 0.0023166023166023165, 0.0023166023166023165, 0.0023166023166023165, 0.0023166023166023165, 0.0023166023166023165, 0.003088803088803089, 0.003088803088803089]\n",
            "Epoch 19/20 completed in -36.23 seconds.\n",
            "==Training===\n"
          ]
        },
        {
          "output_type": "stream",
          "name": "stderr",
          "text": [
            "\r0it [00:00, ?it/s]/usr/local/lib/python3.10/dist-packages/transformers/tokenization_utils_base.py:2870: FutureWarning: The `pad_to_max_length` argument is deprecated and will be removed in a future version, use `padding=True` or `padding='longest'` to pad to the longest sequence in the batch, or use `padding='max_length'` to pad to a max length. In this case, you can give a specific length with `max_length` (e.g. `max_length=45`) or leave max_length to None to pad to the maximal input size of the model (e.g. 512 for Bert).\n",
            "  warnings.warn(\n",
            "0it [00:00, ?it/s]\n"
          ]
        },
        {
          "output_type": "stream",
          "name": "stdout",
          "text": [
            "Epoch: 19, Loss: 0.5250837102731956, Accuracy: 0.6071428656578064\n",
            "Epoch 20/20 completed in 0.41 seconds.\n",
            "Loss History: [0.0007799953137889071, 0.0008500815069219147, 0.0007921441988810088, 0.0008154780353662579, 0.0007524292346712603, 0.0007214013957176226, 0.0007098395426365887, 0.0007810231939416438, 0.000728826038077444, 0.0008198897414052336, 0.0008177065287020247, 0.0007916650361368331, 0.0008839440495687383, 0.0008406559385423347, 0.0008197019868460524, 0.0007984217837768257, 0.0007806033973140245, 0.0006893366556043854, 0.0007609306859584259, 0.0007903753126198606, 0.0007613242480236991, 0.0006685442425375492, 0.0007277748706513225, 0.0008026473830877828, 0.0008035647628230997, 0.0008103143677055486]\n",
            "Accuracy History: [0.6071428656578064, 0.4107142984867096, 0.4107142984867096, 0.5357142686843872, 0.3928571343421936, 0.4464285671710968, 0.4464285671710968, 0.4642857015132904, 0.5714285969734192, 0.4285714328289032, 0.5178571343421936, 0.5535714030265808, 0.4285714328289032, 0.4642857015132904, 0.5178571343421936, 0.5357142686843872, 0.4821428656578064, 0.5178571343421936, 0.4285714328289032, 0.5714285969734192, 0.5178571343421936, 0.5178571343421936, 0.5714285969734192, 0.4642857015132904, 0.5, 0.6071428656578064]\n",
            "==Testing===\n"
          ]
        },
        {
          "output_type": "stream",
          "name": "stderr",
          "text": [
            "162it [00:37,  4.29it/s]"
          ]
        },
        {
          "output_type": "stream",
          "name": "stdout",
          "text": [
            "Epoch: 19, Validation Loss: 0.4964, Accuracy: 0.0031\n",
            "Loss History: [0.5205812781681249, 0.5194220007569702, 0.5182449696240602, 0.5170358502202563, 0.5159159148180926, 0.5147530659113402, 0.5135381111392269, 0.512389126567193, 0.5111790590080214, 0.5100242490017856, 0.508796172009574, 0.5076549560935409, 0.5063869914522877, 0.5052914264393441, 0.5041187486530821, 0.5029233305910488, 0.501812360536905, 0.5007010010289558, 0.49961230085219865, 0.4985243656017162, 0.4974686529165433, 0.4963846410866137]\n",
            "Accuracy History: [0.0, 0.0, 0.0, 0.0, 0.0, 0.0, 0.0, 0.0, 0.0, 0.0, 0.0, 0.0015444015444015444, 0.0015444015444015444, 0.0015444015444015444, 0.0023166023166023165, 0.0023166023166023165, 0.0023166023166023165, 0.0023166023166023165, 0.0023166023166023165, 0.003088803088803089, 0.003088803088803089, 0.003088803088803089]\n",
            "Epoch 20/20 completed in -38.14 seconds.\n"
          ]
        },
        {
          "output_type": "stream",
          "name": "stderr",
          "text": [
            "\n"
          ]
        }
      ]
    },
    {
      "cell_type": "code",
      "source": [
        "# Plotting the loss and accuracy history\n",
        "epochs = range(20)\n",
        "plt.figure(figsize=(14, 6))\n",
        "\n",
        "# Plot Loss\n",
        "plt.subplot(1, 2, 1)\n",
        "plt.plot(epochs, loss_history_train[:20], label=\"Training Loss\")\n",
        "plt.plot(epochs, loss_history_valid[:20], label=\"Validation Loss\")\n",
        "plt.xlabel(\"Epochs\")\n",
        "plt.ylabel(\"Loss\")\n",
        "plt.title(\"Loss vs Epochs\")\n",
        "plt.legend()\n",
        "\n",
        "# Plot Accuracy\n",
        "plt.subplot(1, 2, 2)\n",
        "plt.plot(epochs, accuracy_history_train[:20], label=\"Training Accuracy\")\n",
        "plt.plot(epochs, accuracy_history_valid[:20], label=\"Validation Accuracy\")\n",
        "plt.xlabel(\"Epochs\")\n",
        "plt.ylabel(\"Accuracy\")\n",
        "plt.title(\"Accuracy vs Epochs\")\n",
        "plt.legend()\n",
        "\n",
        "plt.tight_layout()\n",
        "plt.show()"
      ],
      "metadata": {
        "colab": {
          "base_uri": "https://localhost:8080/",
          "height": 489
        },
        "id": "_1s_RXaZCMIV",
        "outputId": "21d53a69-bca5-4c56-bb6a-16018ffe57f8"
      },
      "execution_count": null,
      "outputs": [
        {
          "output_type": "display_data",
          "data": {
            "text/plain": [
              "<Figure size 1400x600 with 2 Axes>"
            ],
            "image/png": "[encoded data removed]"
          },
          "metadata": {}
        }
      ]
    },
    {
      "cell_type": "code",
      "source": [
        "report_df"
      ],
      "metadata": {
        "colab": {
          "base_uri": "https://localhost:8080/",
          "height": 394
        },
        "id": "nIeyrwECIcTV",
        "outputId": "e1979478-d9c6-4bcc-e295-b8154694a565"
      },
      "execution_count": null,
      "outputs": [
        {
          "output_type": "execute_result",
          "data": {
            "text/plain": [
              "               precision    recall  f1-score  support\n",
              "toxic           0.794436  0.503428  0.616307   1021.0\n",
              "severe_toxic    0.113208  0.048193  0.067606    249.0\n",
              "obscene         0.569106  0.096819  0.165485    723.0\n",
              "threat          0.090762  0.973913  0.166049    115.0\n",
              "insult          0.461429  0.547458  0.500775    590.0\n",
              "identity_hate   0.000000  0.000000  0.000000    161.0\n",
              "not_toxic       0.162869  0.910377  0.276306    212.0\n",
              "micro avg       0.306306  0.398567  0.346399   3071.0\n",
              "macro avg       0.313116  0.440027  0.256075   3071.0\n",
              "weighted avg    0.510576  0.398567  0.370843   3071.0\n",
              "samples avg     0.290502  0.484723  0.333637   3071.0"
            ],
            "text/html": [
              "\n",
              "  <div id=\"df-48138365-e893-425c-9f77-96ad8767505b\" class=\"colab-df-container\">\n",
              "    <div>\n",
              "<style scoped>\n",
              "    .dataframe tbody tr th:only-of-type {\n",
              "        vertical-align: middle;\n",
              "    }\n",
              "\n",
              "    .dataframe tbody tr th {\n",
              "        vertical-align: top;\n",
              "    }\n",
              "\n",
              "    .dataframe thead th {\n",
              "        text-align: right;\n",
              "    }\n",
              "</style>\n",
              "<table border=\"1\" class=\"dataframe\">\n",
              "  <thead>\n",
              "    <tr style=\"text-align: right;\">\n",
              "      <th></th>\n",
              "      <th>precision</th>\n",
              "      <th>recall</th>\n",
              "      <th>f1-score</th>\n",
              "      <th>support</th>\n",
              "    </tr>\n",
              "  </thead>\n",
              "  <tbody>\n",
              "    <tr>\n",
              "      <th>toxic</th>\n",
              "      <td>0.794436</td>\n",
              "      <td>0.503428</td>\n",
              "      <td>0.616307</td>\n",
              "      <td>1021.0</td>\n",
              "    </tr>\n",
              "    <tr>\n",
              "      <th>severe_toxic</th>\n",
              "      <td>0.113208</td>\n",
              "      <td>0.048193</td>\n",
              "      <td>0.067606</td>\n",
              "      <td>249.0</td>\n",
              "    </tr>\n",
              "    <tr>\n",
              "      <th>obscene</th>\n",
              "      <td>0.569106</td>\n",
              "      <td>0.096819</td>\n",
              "      <td>0.165485</td>\n",
              "      <td>723.0</td>\n",
              "    </tr>\n",
              "    <tr>\n",
              "      <th>threat</th>\n",
              "      <td>0.090762</td>\n",
              "      <td>0.973913</td>\n",
              "      <td>0.166049</td>\n",
              "      <td>115.0</td>\n",
              "    </tr>\n",
              "    <tr>\n",
              "      <th>insult</th>\n",
              "      <td>0.461429</td>\n",
              "      <td>0.547458</td>\n",
              "      <td>0.500775</td>\n",
              "      <td>590.0</td>\n",
              "    </tr>\n",
              "    <tr>\n",
              "      <th>identity_hate</th>\n",
              "      <td>0.000000</td>\n",
              "      <td>0.000000</td>\n",
              "      <td>0.000000</td>\n",
              "      <td>161.0</td>\n",
              "    </tr>\n",
              "    <tr>\n",
              "      <th>not_toxic</th>\n",
              "      <td>0.162869</td>\n",
              "      <td>0.910377</td>\n",
              "      <td>0.276306</td>\n",
              "      <td>212.0</td>\n",
              "    </tr>\n",
              "    <tr>\n",
              "      <th>micro avg</th>\n",
              "      <td>0.306306</td>\n",
              "      <td>0.398567</td>\n",
              "      <td>0.346399</td>\n",
              "      <td>3071.0</td>\n",
              "    </tr>\n",
              "    <tr>\n",
              "      <th>macro avg</th>\n",
              "      <td>0.313116</td>\n",
              "      <td>0.440027</td>\n",
              "      <td>0.256075</td>\n",
              "      <td>3071.0</td>\n",
              "    </tr>\n",
              "    <tr>\n",
              "      <th>weighted avg</th>\n",
              "      <td>0.510576</td>\n",
              "      <td>0.398567</td>\n",
              "      <td>0.370843</td>\n",
              "      <td>3071.0</td>\n",
              "    </tr>\n",
              "    <tr>\n",
              "      <th>samples avg</th>\n",
              "      <td>0.290502</td>\n",
              "      <td>0.484723</td>\n",
              "      <td>0.333637</td>\n",
              "      <td>3071.0</td>\n",
              "    </tr>\n",
              "  </tbody>\n",
              "</table>\n",
              "</div>\n",
              "    <div class=\"colab-df-buttons\">\n",
              "\n",
              "  <div class=\"colab-df-container\">\n",
              "    <button class=\"colab-df-convert\" onclick=\"convertToInteractive('df-48138365-e893-425c-9f77-96ad8767505b')\"\n",
              "            title=\"Convert this dataframe to an interactive table.\"\n",
              "            style=\"display:none;\">\n",
              "\n",
              "  <svg xmlns=\"http://www.w3.org/2000/svg\" height=\"24px\" viewBox=\"0 -960 960 960\">\n",
              "    <path d=\"M120-120v-720h720v720H120Zm60-500h600v-160H180v160Zm220 220h160v-160H400v160Zm0 220h160v-160H400v160ZM180-400h160v-160H180v160Zm440 0h160v-160H620v160ZM180-180h160v-160H180v160Zm440 0h160v-160H620v160Z\"/>\n",
              "  </svg>\n",
              "    </button>\n",
              "\n",
              "  <style>\n",
              "    .colab-df-container {\n",
              "      display:flex;\n",
              "      gap: 12px;\n",
              "    }\n",
              "\n",
              "    .colab-df-convert {\n",
              "      background-color: #E8F0FE;\n",
              "      border: none;\n",
              "      border-radius: 50%;\n",
              "      cursor: pointer;\n",
              "      display: none;\n",
              "      fill: #1967D2;\n",
              "      height: 32px;\n",
              "      padding: 0 0 0 0;\n",
              "      width: 32px;\n",
              "    }\n",
              "\n",
              "    .colab-df-convert:hover {\n",
              "      background-color: #E2EBFA;\n",
              "      box-shadow: 0px 1px 2px rgba(60, 64, 67, 0.3), 0px 1px 3px 1px rgba(60, 64, 67, 0.15);\n",
              "      fill: #174EA6;\n",
              "    }\n",
              "\n",
              "    .colab-df-buttons div {\n",
              "      margin-bottom: 4px;\n",
              "    }\n",
              "\n",
              "    [theme=dark] .colab-df-convert {\n",
              "      background-color: #3B4455;\n",
              "      fill: #D2E3FC;\n",
              "    }\n",
              "\n",
              "    [theme=dark] .colab-df-convert:hover {\n",
              "      background-color: #434B5C;\n",
              "      box-shadow: 0px 1px 3px 1px rgba(0, 0, 0, 0.15);\n",
              "      filter: drop-shadow(0px 1px 2px rgba(0, 0, 0, 0.3));\n",
              "      fill: #FFFFFF;\n",
              "    }\n",
              "  </style>\n",
              "\n",
              "    <script>\n",
              "      const buttonEl =\n",
              "        document.querySelector('#df-48138365-e893-425c-9f77-96ad8767505b button.colab-df-convert');\n",
              "      buttonEl.style.display =\n",
              "        google.colab.kernel.accessAllowed ? 'block' : 'none';\n",
              "\n",
              "      async function convertToInteractive(key) {\n",
              "        const element = document.querySelector('#df-48138365-e893-425c-9f77-96ad8767505b');\n",
              "        const dataTable =\n",
              "          await google.colab.kernel.invokeFunction('convertToInteractive',\n",
              "                                                    [key], {});\n",
              "        if (!dataTable) return;\n",
              "\n",
              "        const docLinkHtml = 'Like what you see? Visit the ' +\n",
              "          '<a target=\"_blank\" href=https://colab.research.google.com/notebooks/data_table.ipynb>data table notebook</a>'\n",
              "          + ' to learn more about interactive tables.';\n",
              "        element.innerHTML = '';\n",
              "        dataTable['output_type'] = 'display_data';\n",
              "        await google.colab.output.renderOutput(dataTable, element);\n",
              "        const docLink = document.createElement('div');\n",
              "        docLink.innerHTML = docLinkHtml;\n",
              "        element.appendChild(docLink);\n",
              "      }\n",
              "    </script>\n",
              "  </div>\n",
              "\n",
              "\n",
              "<div id=\"df-128a9ab6-7e37-4e47-bb66-4f1ca13c2296\">\n",
              "  <button class=\"colab-df-quickchart\" onclick=\"quickchart('df-128a9ab6-7e37-4e47-bb66-4f1ca13c2296')\"\n",
              "            title=\"Suggest charts\"\n",
              "            style=\"display:none;\">\n",
              "\n",
              "<svg xmlns=\"http://www.w3.org/2000/svg\" height=\"24px\"viewBox=\"0 0 24 24\"\n",
              "     width=\"24px\">\n",
              "    <g>\n",
              "        <path d=\"M19 3H5c-1.1 0-2 .9-2 2v14c0 1.1.9 2 2 2h14c1.1 0 2-.9 2-2V5c0-1.1-.9-2-2-2zM9 17H7v-7h2v7zm4 0h-2V7h2v10zm4 0h-2v-4h2v4z\"/>\n",
              "    </g>\n",
              "</svg>\n",
              "  </button>\n",
              "\n",
              "<style>\n",
              "  .colab-df-quickchart {\n",
              "      --bg-color: #E8F0FE;\n",
              "      --fill-color: #1967D2;\n",
              "      --hover-bg-color: #E2EBFA;\n",
              "      --hover-fill-color: #174EA6;\n",
              "      --disabled-fill-color: #AAA;\n",
              "      --disabled-bg-color: #DDD;\n",
              "  }\n",
              "\n",
              "  [theme=dark] .colab-df-quickchart {\n",
              "      --bg-color: #3B4455;\n",
              "      --fill-color: #D2E3FC;\n",
              "      --hover-bg-color: #434B5C;\n",
              "      --hover-fill-color: #FFFFFF;\n",
              "      --disabled-bg-color: #3B4455;\n",
              "      --disabled-fill-color: #666;\n",
              "  }\n",
              "\n",
              "  .colab-df-quickchart {\n",
              "    background-color: var(--bg-color);\n",
              "    border: none;\n",
              "    border-radius: 50%;\n",
              "    cursor: pointer;\n",
              "    display: none;\n",
              "    fill: var(--fill-color);\n",
              "    height: 32px;\n",
              "    padding: 0;\n",
              "    width: 32px;\n",
              "  }\n",
              "\n",
              "  .colab-df-quickchart:hover {\n",
              "    background-color: var(--hover-bg-color);\n",
              "    box-shadow: 0 1px 2px rgba(60, 64, 67, 0.3), 0 1px 3px 1px rgba(60, 64, 67, 0.15);\n",
              "    fill: var(--button-hover-fill-color);\n",
              "  }\n",
              "\n",
              "  .colab-df-quickchart-complete:disabled,\n",
              "  .colab-df-quickchart-complete:disabled:hover {\n",
              "    background-color: var(--disabled-bg-color);\n",
              "    fill: var(--disabled-fill-color);\n",
              "    box-shadow: none;\n",
              "  }\n",
              "\n",
              "  .colab-df-spinner {\n",
              "    border: 2px solid var(--fill-color);\n",
              "    border-color: transparent;\n",
              "    border-bottom-color: var(--fill-color);\n",
              "    animation:\n",
              "      spin 1s steps(1) infinite;\n",
              "  }\n",
              "\n",
              "  @keyframes spin {\n",
              "    0% {\n",
              "      border-color: transparent;\n",
              "      border-bottom-color: var(--fill-color);\n",
              "      border-left-color: var(--fill-color);\n",
              "    }\n",
              "    20% {\n",
              "      border-color: transparent;\n",
              "      border-left-color: var(--fill-color);\n",
              "      border-top-color: var(--fill-color);\n",
              "    }\n",
              "    30% {\n",
              "      border-color: transparent;\n",
              "      border-left-color: var(--fill-color);\n",
              "      border-top-color: var(--fill-color);\n",
              "      border-right-color: var(--fill-color);\n",
              "    }\n",
              "    40% {\n",
              "      border-color: transparent;\n",
              "      border-right-color: var(--fill-color);\n",
              "      border-top-color: var(--fill-color);\n",
              "    }\n",
              "    60% {\n",
              "      border-color: transparent;\n",
              "      border-right-color: var(--fill-color);\n",
              "    }\n",
              "    80% {\n",
              "      border-color: transparent;\n",
              "      border-right-color: var(--fill-color);\n",
              "      border-bottom-color: var(--fill-color);\n",
              "    }\n",
              "    90% {\n",
              "      border-color: transparent;\n",
              "      border-bottom-color: var(--fill-color);\n",
              "    }\n",
              "  }\n",
              "</style>\n",
              "\n",
              "  <script>\n",
              "    async function quickchart(key) {\n",
              "      const quickchartButtonEl =\n",
              "        document.querySelector('#' + key + ' button');\n",
              "      quickchartButtonEl.disabled = true;  // To prevent multiple clicks.\n",
              "      quickchartButtonEl.classList.add('colab-df-spinner');\n",
              "      try {\n",
              "        const charts = await google.colab.kernel.invokeFunction(\n",
              "            'suggestCharts', [key], {});\n",
              "      } catch (error) {\n",
              "        console.error('Error during call to suggestCharts:', error);\n",
              "      }\n",
              "      quickchartButtonEl.classList.remove('colab-df-spinner');\n",
              "      quickchartButtonEl.classList.add('colab-df-quickchart-complete');\n",
              "    }\n",
              "    (() => {\n",
              "      let quickchartButtonEl =\n",
              "        document.querySelector('#df-128a9ab6-7e37-4e47-bb66-4f1ca13c2296 button');\n",
              "      quickchartButtonEl.style.display =\n",
              "        google.colab.kernel.accessAllowed ? 'block' : 'none';\n",
              "    })();\n",
              "  </script>\n",
              "</div>\n",
              "\n",
              "  <div id=\"id_0fad4d71-1c0c-4b23-a142-7837081e20d5\">\n",
              "    <style>\n",
              "      .colab-df-generate {\n",
              "        background-color: #E8F0FE;\n",
              "        border: none;\n",
              "        border-radius: 50%;\n",
              "        cursor: pointer;\n",
              "        display: none;\n",
              "        fill: #1967D2;\n",
              "        height: 32px;\n",
              "        padding: 0 0 0 0;\n",
              "        width: 32px;\n",
              "      }\n",
              "\n",
              "      .colab-df-generate:hover {\n",
              "        background-color: #E2EBFA;\n",
              "        box-shadow: 0px 1px 2px rgba(60, 64, 67, 0.3), 0px 1px 3px 1px rgba(60, 64, 67, 0.15);\n",
              "        fill: #174EA6;\n",
              "      }\n",
              "\n",
              "      [theme=dark] .colab-df-generate {\n",
              "        background-color: #3B4455;\n",
              "        fill: #D2E3FC;\n",
              "      }\n",
              "\n",
              "      [theme=dark] .colab-df-generate:hover {\n",
              "        background-color: #434B5C;\n",
              "        box-shadow: 0px 1px 3px 1px rgba(0, 0, 0, 0.15);\n",
              "        filter: drop-shadow(0px 1px 2px rgba(0, 0, 0, 0.3));\n",
              "        fill: #FFFFFF;\n",
              "      }\n",
              "    </style>\n",
              "    <button class=\"colab-df-generate\" onclick=\"generateWithVariable('report_df')\"\n",
              "            title=\"Generate code using this dataframe.\"\n",
              "            style=\"display:none;\">\n",
              "\n",
              "  <svg xmlns=\"http://www.w3.org/2000/svg\" height=\"24px\"viewBox=\"0 0 24 24\"\n",
              "       width=\"24px\">\n",
              "    <path d=\"M7,19H8.4L18.45,9,17,7.55,7,17.6ZM5,21V16.75L18.45,3.32a2,2,0,0,1,2.83,0l1.4,1.43a1.91,1.91,0,0,1,.58,1.4,1.91,1.91,0,0,1-.58,1.4L9.25,21ZM18.45,9,17,7.55Zm-12,3A5.31,5.31,0,0,0,4.9,8.1,5.31,5.31,0,0,0,1,6.5,5.31,5.31,0,0,0,4.9,4.9,5.31,5.31,0,0,0,6.5,1,5.31,5.31,0,0,0,8.1,4.9,5.31,5.31,0,0,0,12,6.5,5.46,5.46,0,0,0,6.5,12Z\"/>\n",
              "  </svg>\n",
              "    </button>\n",
              "    <script>\n",
              "      (() => {\n",
              "      const buttonEl =\n",
              "        document.querySelector('#id_0fad4d71-1c0c-4b23-a142-7837081e20d5 button.colab-df-generate');\n",
              "      buttonEl.style.display =\n",
              "        google.colab.kernel.accessAllowed ? 'block' : 'none';\n",
              "\n",
              "      buttonEl.onclick = () => {\n",
              "        google.colab.notebook.generateWithVariable('report_df');\n",
              "      }\n",
              "      })();\n",
              "    </script>\n",
              "  </div>\n",
              "\n",
              "    </div>\n",
              "  </div>\n"
            ],
            "application/vnd.google.colaboratory.intrinsic+json": {
              "type": "dataframe",
              "variable_name": "report_df",
              "summary": "{\n  \"name\": \"report_df\",\n  \"rows\": 11,\n  \"fields\": [\n    {\n      \"column\": \"precision\",\n      \"properties\": {\n        \"dtype\": \"number\",\n        \"std\": 0.2379491968530084,\n        \"min\": 0.0,\n        \"max\": 0.794435857805255,\n        \"num_unique_values\": 11,\n        \"samples\": [\n          0.0,\n          0.794435857805255,\n          0.5105763051710329\n        ],\n        \"semantic_type\": \"\",\n        \"description\": \"\"\n      }\n    },\n    {\n      \"column\": \"recall\",\n      \"properties\": {\n        \"dtype\": \"number\",\n        \"std\": 0.31497257523178823,\n        \"min\": 0.0,\n        \"max\": 0.9739130434782609,\n        \"num_unique_values\": 10,\n        \"samples\": [\n          0.4400268032052498,\n          0.04819277108433735,\n          0.0\n        ],\n        \"semantic_type\": \"\",\n        \"description\": \"\"\n      }\n    },\n    {\n      \"column\": \"f1-score\",\n      \"properties\": {\n        \"dtype\": \"number\",\n        \"std\": 0.180981680446133,\n        \"min\": 0.0,\n        \"max\": 0.6163069544364509,\n        \"num_unique_values\": 11,\n        \"samples\": [\n          0.0,\n          0.6163069544364509,\n          0.3708428963552231\n        ],\n        \"semantic_type\": \"\",\n        \"description\": \"\"\n      }\n    },\n    {\n      \"column\": \"support\",\n      \"properties\": {\n        \"dtype\": \"number\",\n        \"std\": 1354.5973907065859,\n        \"min\": 115.0,\n        \"max\": 3071.0,\n        \"num_unique_values\": 8,\n        \"samples\": [\n          249.0,\n          161.0,\n          1021.0\n        ],\n        \"semantic_type\": \"\",\n        \"description\": \"\"\n      }\n    }\n  ]\n}"
            }
          },
          "metadata": {},
          "execution_count": 148
        }
      ]
    },
    {
      "cell_type": "code",
      "source": [
        "report = metrics.classification_report(targets, outputs, output_dict=True)\n",
        "report_df = pd.DataFrame(report).transpose()\n",
        "class_names = combined_samples.iloc[:,1:-1].columns.tolist()\n",
        "\n",
        "for i in range(len(class_names)):\n",
        "    report_df.rename(index={str(i): class_names[i]}, inplace=True)\n",
        "\n",
        "# Plot heatmap\n",
        "plt.figure(figsize=(10, 6))\n",
        "sns.heatmap(report_df.iloc[:-1, :-1], annot=True, cmap=\"YlGnBu\", cbar=True, fmt=\".2f\")\n",
        "plt.title(\"Classification Report Heatmap\")\n",
        "plt.show()\n"
      ],
      "metadata": {
        "colab": {
          "base_uri": "https://localhost:8080/",
          "height": 545
        },
        "id": "gM3ykuEzHI1X",
        "outputId": "b35cc91f-300b-4389-e089-4965d776f14a"
      },
      "execution_count": null,
      "outputs": [
        {
          "output_type": "display_data",
          "data": {
            "text/plain": [
              "<Figure size 1000x600 with 2 Axes>"
            ],
            "image/png": "[encoded data removed]"
          },
          "metadata": {}
        }
      ]
    },
    {
      "cell_type": "markdown",
      "source": [
        "The model performs well for certain classes like toxic and insult, with relatively higher precision and recall, but struggles with others, notably identity_hate and severe_toxic, where it achieves low or even zero scores. This suggests the model has difficulty identifying nuances in some categories, potentially due to class imbalance or insufficient feature learning."
      ],
      "metadata": {
        "id": "S-Zh4WOGIx4s"
      }
    },
    {
      "cell_type": "markdown",
      "source": [
        "# Export the model\n",
        "We will be exporting the model"
      ],
      "metadata": {
        "id": "IMC2OGXhklRT"
      }
    },
    {
      "cell_type": "code",
      "source": [
        "torch.save(model_bert, f'{URL_path_save}/{model_name_to_save}.pth')"
      ],
      "metadata": {
        "id": "FsRWF4OLTTm-"
      },
      "execution_count": null,
      "outputs": []
    },
    {
      "cell_type": "markdown",
      "source": [
        "# Load the model"
      ],
      "metadata": {
        "id": "cfL3D7JflXen"
      }
    },
    {
      "cell_type": "code",
      "source": [
        "model_bert_loaded = torch.load(f'{URL_path_save}/{model_name_to_save}.pth')\n",
        "model_bert_loaded"
      ],
      "metadata": {
        "colab": {
          "base_uri": "https://localhost:8080/"
        },
        "id": "nD1WjU3gla1X",
        "outputId": "b0758822-948e-43d4-fb60-2b481255ef20"
      },
      "execution_count": null,
      "outputs": [
        {
          "output_type": "stream",
          "name": "stderr",
          "text": [
            "<ipython-input-166-9cc469be5fb3>:1: FutureWarning: You are using `torch.load` with `weights_only=False` (the current default value), which uses the default pickle module implicitly. It is possible to construct malicious pickle data which will execute arbitrary code during unpickling (See https://github.com/pytorch/pytorch/blob/main/SECURITY.md#untrusted-models for more details). In a future release, the default value for `weights_only` will be flipped to `True`. This limits the functions that could be executed during unpickling. Arbitrary objects will no longer be allowed to be loaded via this mode unless they are explicitly allowlisted by the user via `torch.serialization.add_safe_globals`. We recommend you start setting `weights_only=True` for any use case where you don't have full control of the loaded file. Please open an issue on GitHub for any issues related to this experimental feature.\n",
            "  model_bert_loaded = torch.load(f'{URL_path_save}/{model_name_to_save}.pth')\n"
          ]
        },
        {
          "output_type": "execute_result",
          "data": {
            "text/plain": [
              "BertClass(\n",
              "  (l1): BertModel(\n",
              "    (embeddings): BertEmbeddings(\n",
              "      (word_embeddings): Embedding(30522, 768, padding_idx=0)\n",
              "      (position_embeddings): Embedding(512, 768)\n",
              "      (token_type_embeddings): Embedding(2, 768)\n",
              "      (LayerNorm): LayerNorm((768,), eps=1e-12, elementwise_affine=True)\n",
              "      (dropout): Dropout(p=0.1, inplace=False)\n",
              "    )\n",
              "    (encoder): BertEncoder(\n",
              "      (layer): ModuleList(\n",
              "        (0-11): 12 x BertLayer(\n",
              "          (attention): BertAttention(\n",
              "            (self): BertSelfAttention(\n",
              "              (query): Linear(in_features=768, out_features=768, bias=True)\n",
              "              (key): Linear(in_features=768, out_features=768, bias=True)\n",
              "              (value): Linear(in_features=768, out_features=768, bias=True)\n",
              "              (dropout): Dropout(p=0.1, inplace=False)\n",
              "            )\n",
              "            (output): BertSelfOutput(\n",
              "              (dense): Linear(in_features=768, out_features=768, bias=True)\n",
              "              (LayerNorm): LayerNorm((768,), eps=1e-12, elementwise_affine=True)\n",
              "              (dropout): Dropout(p=0.1, inplace=False)\n",
              "            )\n",
              "          )\n",
              "          (intermediate): BertIntermediate(\n",
              "            (dense): Linear(in_features=768, out_features=3072, bias=True)\n",
              "            (intermediate_act_fn): GELUActivation()\n",
              "          )\n",
              "          (output): BertOutput(\n",
              "            (dense): Linear(in_features=3072, out_features=768, bias=True)\n",
              "            (LayerNorm): LayerNorm((768,), eps=1e-12, elementwise_affine=True)\n",
              "            (dropout): Dropout(p=0.1, inplace=False)\n",
              "          )\n",
              "        )\n",
              "      )\n",
              "    )\n",
              "    (pooler): BertPooler(\n",
              "      (dense): Linear(in_features=768, out_features=768, bias=True)\n",
              "      (activation): Tanh()\n",
              "    )\n",
              "  )\n",
              "  (l2): Dropout(p=0.3, inplace=False)\n",
              "  (l3): Linear(in_features=768, out_features=7, bias=True)\n",
              ")"
            ]
          },
          "metadata": {},
          "execution_count": 166
        }
      ]
    },
    {
      "cell_type": "markdown",
      "source": [
        "# Summary\n",
        "\n",
        "The model's overall performance is not yet optimal, so we should explore other techniques, such as applying class weights or using oversampling, to see if these methods improve its effectiveness."
      ],
      "metadata": {
        "id": "80nkXE0Mm9z3"
      }
    }
  ],
  "metadata": {
    "accelerator": "TPU",
    "colab": {
      "gpuType": "V28",
      "provenance": []
    },
    "kernelspec": {
      "display_name": "Python 3",
      "name": "python3"
    },
    "language_info": {
      "name": "python"
    },
    "widgets": {
      "application/vnd.jupyter.widget-state+json": {
        "877abb780b2848518ea7c61907cb3e4b": {
          "model_module": "@jupyter-widgets/controls",
          "model_name": "HBoxModel",
          "model_module_version": "1.5.0",
          "state": {
            "_dom_classes": [],
            "_model_module": "@jupyter-widgets/controls",
            "_model_module_version": "1.5.0",
            "_model_name": "HBoxModel",
            "_view_count": null,
            "_view_module": "@jupyter-widgets/controls",
            "_view_module_version": "1.5.0",
            "_view_name": "HBoxView",
            "box_style": "",
            "children": [
              "IPY_MODEL_5505b2b6405d44538ef27ff10f1277e9",
              "IPY_MODEL_b75ca42ec0c94b08867d54bc4854fd43",
              "IPY_MODEL_3d2c2f9116194779b4dae183bdece851"
            ],
            "layout": "IPY_MODEL_2c44f10bdd38419ba9aeda65e1447fbc"
          }
        },
        "5505b2b6405d44538ef27ff10f1277e9": {
          "model_module": "@jupyter-widgets/controls",
          "model_name": "HTMLModel",
          "model_module_version": "1.5.0",
          "state": {
            "_dom_classes": [],
            "_model_module": "@jupyter-widgets/controls",
            "_model_module_version": "1.5.0",
            "_model_name": "HTMLModel",
            "_view_count": null,
            "_view_module": "@jupyter-widgets/controls",
            "_view_module_version": "1.5.0",
            "_view_name": "HTMLView",
            "description": "",
            "description_tooltip": null,
            "layout": "IPY_MODEL_68ad1dbf10864d7091b37d915ba18564",
            "placeholder": "​",
            "style": "IPY_MODEL_28a46bdec37049f5960e6668319edc0e",
            "value": "model.safetensors: 100%"
          }
        },
        "b75ca42ec0c94b08867d54bc4854fd43": {
          "model_module": "@jupyter-widgets/controls",
          "model_name": "FloatProgressModel",
          "model_module_version": "1.5.0",
          "state": {
            "_dom_classes": [],
            "_model_module": "@jupyter-widgets/controls",
            "_model_module_version": "1.5.0",
            "_model_name": "FloatProgressModel",
            "_view_count": null,
            "_view_module": "@jupyter-widgets/controls",
            "_view_module_version": "1.5.0",
            "_view_name": "ProgressView",
            "bar_style": "success",
            "description": "",
            "description_tooltip": null,
            "layout": "IPY_MODEL_b5c6b61c7b544ddda3ffd3357d02b863",
            "max": 440449768,
            "min": 0,
            "orientation": "horizontal",
            "style": "IPY_MODEL_0d141344bfa846f29a9bc2414b936abb",
            "value": 440449768
          }
        },
        "3d2c2f9116194779b4dae183bdece851": {
          "model_module": "@jupyter-widgets/controls",
          "model_name": "HTMLModel",
          "model_module_version": "1.5.0",
          "state": {
            "_dom_classes": [],
            "_model_module": "@jupyter-widgets/controls",
            "_model_module_version": "1.5.0",
            "_model_name": "HTMLModel",
            "_view_count": null,
            "_view_module": "@jupyter-widgets/controls",
            "_view_module_version": "1.5.0",
            "_view_name": "HTMLView",
            "description": "",
            "description_tooltip": null,
            "layout": "IPY_MODEL_367b8d3ee6784967ae011ed6ef457138",
            "placeholder": "​",
            "style": "IPY_MODEL_fe737c1c93794c1ab7f9d82d318ff079",
            "value": " 440M/440M [00:02&lt;00:00, 236MB/s]"
          }
        },
        "2c44f10bdd38419ba9aeda65e1447fbc": {
          "model_module": "@jupyter-widgets/base",
          "model_name": "LayoutModel",
          "model_module_version": "1.2.0",
          "state": {
            "_model_module": "@jupyter-widgets/base",
            "_model_module_version": "1.2.0",
            "_model_name": "LayoutModel",
            "_view_count": null,
            "_view_module": "@jupyter-widgets/base",
            "_view_module_version": "1.2.0",
            "_view_name": "LayoutView",
            "align_content": null,
            "align_items": null,
            "align_self": null,
            "border": null,
            "bottom": null,
            "display": null,
            "flex": null,
            "flex_flow": null,
            "grid_area": null,
            "grid_auto_columns": null,
            "grid_auto_flow": null,
            "grid_auto_rows": null,
            "grid_column": null,
            "grid_gap": null,
            "grid_row": null,
            "grid_template_areas": null,
            "grid_template_columns": null,
            "grid_template_rows": null,
            "height": null,
            "justify_content": null,
            "justify_items": null,
            "left": null,
            "margin": null,
            "max_height": null,
            "max_width": null,
            "min_height": null,
            "min_width": null,
            "object_fit": null,
            "object_position": null,
            "order": null,
            "overflow": null,
            "overflow_x": null,
            "overflow_y": null,
            "padding": null,
            "right": null,
            "top": null,
            "visibility": null,
            "width": null
          }
        },
        "68ad1dbf10864d7091b37d915ba18564": {
          "model_module": "@jupyter-widgets/base",
          "model_name": "LayoutModel",
          "model_module_version": "1.2.0",
          "state": {
            "_model_module": "@jupyter-widgets/base",
            "_model_module_version": "1.2.0",
            "_model_name": "LayoutModel",
            "_view_count": null,
            "_view_module": "@jupyter-widgets/base",
            "_view_module_version": "1.2.0",
            "_view_name": "LayoutView",
            "align_content": null,
            "align_items": null,
            "align_self": null,
            "border": null,
            "bottom": null,
            "display": null,
            "flex": null,
            "flex_flow": null,
            "grid_area": null,
            "grid_auto_columns": null,
            "grid_auto_flow": null,
            "grid_auto_rows": null,
            "grid_column": null,
            "grid_gap": null,
            "grid_row": null,
            "grid_template_areas": null,
            "grid_template_columns": null,
            "grid_template_rows": null,
            "height": null,
            "justify_content": null,
            "justify_items": null,
            "left": null,
            "margin": null,
            "max_height": null,
            "max_width": null,
            "min_height": null,
            "min_width": null,
            "object_fit": null,
            "object_position": null,
            "order": null,
            "overflow": null,
            "overflow_x": null,
            "overflow_y": null,
            "padding": null,
            "right": null,
            "top": null,
            "visibility": null,
            "width": null
          }
        },
        "28a46bdec37049f5960e6668319edc0e": {
          "model_module": "@jupyter-widgets/controls",
          "model_name": "DescriptionStyleModel",
          "model_module_version": "1.5.0",
          "state": {
            "_model_module": "@jupyter-widgets/controls",
            "_model_module_version": "1.5.0",
            "_model_name": "DescriptionStyleModel",
            "_view_count": null,
            "_view_module": "@jupyter-widgets/base",
            "_view_module_version": "1.2.0",
            "_view_name": "StyleView",
            "description_width": ""
          }
        },
        "b5c6b61c7b544ddda3ffd3357d02b863": {
          "model_module": "@jupyter-widgets/base",
          "model_name": "LayoutModel",
          "model_module_version": "1.2.0",
          "state": {
            "_model_module": "@jupyter-widgets/base",
            "_model_module_version": "1.2.0",
            "_model_name": "LayoutModel",
            "_view_count": null,
            "_view_module": "@jupyter-widgets/base",
            "_view_module_version": "1.2.0",
            "_view_name": "LayoutView",
            "align_content": null,
            "align_items": null,
            "align_self": null,
            "border": null,
            "bottom": null,
            "display": null,
            "flex": null,
            "flex_flow": null,
            "grid_area": null,
            "grid_auto_columns": null,
            "grid_auto_flow": null,
            "grid_auto_rows": null,
            "grid_column": null,
            "grid_gap": null,
            "grid_row": null,
            "grid_template_areas": null,
            "grid_template_columns": null,
            "grid_template_rows": null,
            "height": null,
            "justify_content": null,
            "justify_items": null,
            "left": null,
            "margin": null,
            "max_height": null,
            "max_width": null,
            "min_height": null,
            "min_width": null,
            "object_fit": null,
            "object_position": null,
            "order": null,
            "overflow": null,
            "overflow_x": null,
            "overflow_y": null,
            "padding": null,
            "right": null,
            "top": null,
            "visibility": null,
            "width": null
          }
        },
        "0d141344bfa846f29a9bc2414b936abb": {
          "model_module": "@jupyter-widgets/controls",
          "model_name": "ProgressStyleModel",
          "model_module_version": "1.5.0",
          "state": {
            "_model_module": "@jupyter-widgets/controls",
            "_model_module_version": "1.5.0",
            "_model_name": "ProgressStyleModel",
            "_view_count": null,
            "_view_module": "@jupyter-widgets/base",
            "_view_module_version": "1.2.0",
            "_view_name": "StyleView",
            "bar_color": null,
            "description_width": ""
          }
        },
        "367b8d3ee6784967ae011ed6ef457138": {
          "model_module": "@jupyter-widgets/base",
          "model_name": "LayoutModel",
          "model_module_version": "1.2.0",
          "state": {
            "_model_module": "@jupyter-widgets/base",
            "_model_module_version": "1.2.0",
            "_model_name": "LayoutModel",
            "_view_count": null,
            "_view_module": "@jupyter-widgets/base",
            "_view_module_version": "1.2.0",
            "_view_name": "LayoutView",
            "align_content": null,
            "align_items": null,
            "align_self": null,
            "border": null,
            "bottom": null,
            "display": null,
            "flex": null,
            "flex_flow": null,
            "grid_area": null,
            "grid_auto_columns": null,
            "grid_auto_flow": null,
            "grid_auto_rows": null,
            "grid_column": null,
            "grid_gap": null,
            "grid_row": null,
            "grid_template_areas": null,
            "grid_template_columns": null,
            "grid_template_rows": null,
            "height": null,
            "justify_content": null,
            "justify_items": null,
            "left": null,
            "margin": null,
            "max_height": null,
            "max_width": null,
            "min_height": null,
            "min_width": null,
            "object_fit": null,
            "object_position": null,
            "order": null,
            "overflow": null,
            "overflow_x": null,
            "overflow_y": null,
            "padding": null,
            "right": null,
            "top": null,
            "visibility": null,
            "width": null
          }
        },
        "fe737c1c93794c1ab7f9d82d318ff079": {
          "model_module": "@jupyter-widgets/controls",
          "model_name": "DescriptionStyleModel",
          "model_module_version": "1.5.0",
          "state": {
            "_model_module": "@jupyter-widgets/controls",
            "_model_module_version": "1.5.0",
            "_model_name": "DescriptionStyleModel",
            "_view_count": null,
            "_view_module": "@jupyter-widgets/base",
            "_view_module_version": "1.2.0",
            "_view_name": "StyleView",
            "description_width": ""
          }
        }
      }
    }
  },
  "nbformat": 4,
  "nbformat_minor": 0
}