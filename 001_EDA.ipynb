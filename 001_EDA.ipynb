{
 "cells": [
  {
   "cell_type": "code",
   "id": "initial_id",
   "metadata": {
    "collapsed": true,
    "ExecuteTime": {
     "end_time": "2024-11-17T14:32:35.397757Z",
     "start_time": "2024-11-17T14:32:33.829557Z"
    }
   },
   "source": [
    "import pandas as pd\n",
    "import numpy as np\n",
    "import matplotlib.pyplot as plt\n",
    "from matplotlib.colors import LinearSegmentedColormap\n",
    "import seaborn as sns\n",
    "from openpyxl.utils import dataframe\n",
    "from scipy import stats\n",
    "\n",
    "# analysis of the words\n",
    "import string\n",
    "from nltk.corpus import stopwords\n",
    "\n",
    "import pandas as pd\n",
    "import numpy as np\n",
    "import re\n",
    "import string\n",
    "from nltk.corpus import stopwords\n",
    "\n",
    "# Download the stopwords if you haven't already (you need to run this once)\n",
    "import nltk\n",
    "nltk.download('stopwords')\n",
    "\n",
    "#  Custom importations\n",
    "from helper.helper import proportion_balance_classes, extractions_text_description, histogram_bins\n",
    "\n",
    "import warnings\n",
    "\n",
    "#enable the block of code\n",
    "enable_code = False\n",
    "\n",
    "%matplotlib inline\n"
   ],
   "outputs": [
    {
     "name": "stderr",
     "output_type": "stream",
     "text": [
      "[nltk_data] Downloading package stopwords to\n",
      "[nltk_data]     C:\\Users\\hanns\\AppData\\Roaming\\nltk_data...\n",
      "[nltk_data]   Package stopwords is already up-to-date!\n",
      "[nltk_data] Downloading package stopwords to\n",
      "[nltk_data]     C:\\Users\\hanns\\AppData\\Roaming\\nltk_data...\n",
      "[nltk_data]   Package stopwords is already up-to-date!\n"
     ]
    }
   ],
   "execution_count": 1
  },
  {
   "metadata": {},
   "cell_type": "markdown",
   "source": "# Importation and preprocessing",
   "id": "f328417647ebd95"
  },
  {
   "metadata": {
    "ExecuteTime": {
     "end_time": "2024-11-17T14:32:37.747101Z",
     "start_time": "2024-11-17T14:32:35.400707Z"
    }
   },
   "cell_type": "code",
   "source": [
    "df_train_full = pd.read_csv(\"datasets/train.csv\")\n",
    "df_test = pd.read_csv(\"datasets/test.csv\")\n",
    "df_train_full.head(3)"
   ],
   "id": "a9cb32ce5c321721",
   "outputs": [
    {
     "data": {
      "text/plain": [
       "                 id                                       comment_text  toxic  \\\n",
       "0  0000997932d777bf  Explanation\\nWhy the edits made under my usern...      0   \n",
       "1  000103f0d9cfb60f  D'aww! He matches this background colour I'm s...      0   \n",
       "2  000113f07ec002fd  Hey man, I'm really not trying to edit war. It...      0   \n",
       "\n",
       "   severe_toxic  obscene  threat  insult  identity_hate  \n",
       "0             0        0       0       0              0  \n",
       "1             0        0       0       0              0  \n",
       "2             0        0       0       0              0  "
      ],
      "text/html": [
       "<div>\n",
       "<style scoped>\n",
       "    .dataframe tbody tr th:only-of-type {\n",
       "        vertical-align: middle;\n",
       "    }\n",
       "\n",
       "    .dataframe tbody tr th {\n",
       "        vertical-align: top;\n",
       "    }\n",
       "\n",
       "    .dataframe thead th {\n",
       "        text-align: right;\n",
       "    }\n",
       "</style>\n",
       "<table border=\"1\" class=\"dataframe\">\n",
       "  <thead>\n",
       "    <tr style=\"text-align: right;\">\n",
       "      <th></th>\n",
       "      <th>id</th>\n",
       "      <th>comment_text</th>\n",
       "      <th>toxic</th>\n",
       "      <th>severe_toxic</th>\n",
       "      <th>obscene</th>\n",
       "      <th>threat</th>\n",
       "      <th>insult</th>\n",
       "      <th>identity_hate</th>\n",
       "    </tr>\n",
       "  </thead>\n",
       "  <tbody>\n",
       "    <tr>\n",
       "      <th>0</th>\n",
       "      <td>0000997932d777bf</td>\n",
       "      <td>Explanation\\nWhy the edits made under my usern...</td>\n",
       "      <td>0</td>\n",
       "      <td>0</td>\n",
       "      <td>0</td>\n",
       "      <td>0</td>\n",
       "      <td>0</td>\n",
       "      <td>0</td>\n",
       "    </tr>\n",
       "    <tr>\n",
       "      <th>1</th>\n",
       "      <td>000103f0d9cfb60f</td>\n",
       "      <td>D'aww! He matches this background colour I'm s...</td>\n",
       "      <td>0</td>\n",
       "      <td>0</td>\n",
       "      <td>0</td>\n",
       "      <td>0</td>\n",
       "      <td>0</td>\n",
       "      <td>0</td>\n",
       "    </tr>\n",
       "    <tr>\n",
       "      <th>2</th>\n",
       "      <td>000113f07ec002fd</td>\n",
       "      <td>Hey man, I'm really not trying to edit war. It...</td>\n",
       "      <td>0</td>\n",
       "      <td>0</td>\n",
       "      <td>0</td>\n",
       "      <td>0</td>\n",
       "      <td>0</td>\n",
       "      <td>0</td>\n",
       "    </tr>\n",
       "  </tbody>\n",
       "</table>\n",
       "</div>"
      ]
     },
     "execution_count": 2,
     "metadata": {},
     "output_type": "execute_result"
    }
   ],
   "execution_count": 2
  },
  {
   "metadata": {},
   "cell_type": "markdown",
   "source": "Verify the types of the columns",
   "id": "e561c2b908fda509"
  },
  {
   "metadata": {
    "ExecuteTime": {
     "end_time": "2024-11-17T14:32:37.763118Z",
     "start_time": "2024-11-17T14:32:37.749098Z"
    }
   },
   "cell_type": "code",
   "source": "df_train_full.dtypes",
   "id": "227a007375d2decd",
   "outputs": [
    {
     "data": {
      "text/plain": [
       "id               object\n",
       "comment_text     object\n",
       "toxic             int64\n",
       "severe_toxic      int64\n",
       "obscene           int64\n",
       "threat            int64\n",
       "insult            int64\n",
       "identity_hate     int64\n",
       "dtype: object"
      ]
     },
     "execution_count": 3,
     "metadata": {},
     "output_type": "execute_result"
    }
   ],
   "execution_count": 3
  },
  {
   "metadata": {},
   "cell_type": "markdown",
   "source": "",
   "id": "2926b3b3eb08cb1"
  },
  {
   "metadata": {},
   "cell_type": "markdown",
   "source": "Seems that we had the correct types on each of the columns and now we will be verifying the duplicated and NA values ",
   "id": "bd3a56244f6a6600"
  },
  {
   "metadata": {
    "ExecuteTime": {
     "end_time": "2024-11-17T14:32:37.794318Z",
     "start_time": "2024-11-17T14:32:37.764121Z"
    }
   },
   "cell_type": "code",
   "source": "df_train_full.isnull().sum()",
   "id": "29edc21b0a00b5a9",
   "outputs": [
    {
     "data": {
      "text/plain": [
       "id               0\n",
       "comment_text     0\n",
       "toxic            0\n",
       "severe_toxic     0\n",
       "obscene          0\n",
       "threat           0\n",
       "insult           0\n",
       "identity_hate    0\n",
       "dtype: int64"
      ]
     },
     "execution_count": 4,
     "metadata": {},
     "output_type": "execute_result"
    }
   ],
   "execution_count": 4
  },
  {
   "metadata": {
    "ExecuteTime": {
     "end_time": "2024-11-17T14:32:37.824729Z",
     "start_time": "2024-11-17T14:32:37.796322Z"
    }
   },
   "cell_type": "code",
   "source": "df_train_full_clean = df_train_full.dropna()",
   "id": "e9ab972339f4a40e",
   "outputs": [],
   "execution_count": 5
  },
  {
   "metadata": {},
   "cell_type": "markdown",
   "source": "no null values then we will be cheking for duplicated values in the id",
   "id": "8ac116b9c63e1d75"
  },
  {
   "metadata": {
    "ExecuteTime": {
     "end_time": "2024-11-17T14:32:37.871906Z",
     "start_time": "2024-11-17T14:32:37.825730Z"
    }
   },
   "cell_type": "code",
   "source": "len(df_train_full_clean[\"id\"].unique()) == df_train_full_clean.shape[0]",
   "id": "caea3583da226a92",
   "outputs": [
    {
     "data": {
      "text/plain": [
       "True"
      ]
     },
     "execution_count": 6,
     "metadata": {},
     "output_type": "execute_result"
    }
   ],
   "execution_count": 6
  },
  {
   "metadata": {
    "ExecuteTime": {
     "end_time": "2024-11-17T14:32:38.136726Z",
     "start_time": "2024-11-17T14:32:37.876935Z"
    }
   },
   "cell_type": "code",
   "source": "df_train_full_clean.duplicated().sum()",
   "id": "41343c895eb43985",
   "outputs": [
    {
     "data": {
      "text/plain": [
       "0"
      ]
     },
     "execution_count": 7,
     "metadata": {},
     "output_type": "execute_result"
    }
   ],
   "execution_count": 7
  },
  {
   "metadata": {},
   "cell_type": "markdown",
   "source": "Seems that we dont find any duplicates in the values",
   "id": "a25db53120d093d5"
  },
  {
   "metadata": {
    "ExecuteTime": {
     "end_time": "2024-11-17T14:32:38.167699Z",
     "start_time": "2024-11-17T14:32:38.138725Z"
    }
   },
   "cell_type": "code",
   "source": "df_train_full_clean = df_train_full_clean.drop(columns=[\"id\"])",
   "id": "2073b31fc763a709",
   "outputs": [],
   "execution_count": 8
  },
  {
   "metadata": {},
   "cell_type": "markdown",
   "source": "",
   "id": "acf750bf57c284d3"
  },
  {
   "metadata": {
    "ExecuteTime": {
     "end_time": "2024-11-17T14:32:38.183801Z",
     "start_time": "2024-11-17T14:32:38.169698Z"
    }
   },
   "cell_type": "code",
   "source": "df_train_full_clean.head(3)",
   "id": "972e82f831a13632",
   "outputs": [
    {
     "data": {
      "text/plain": [
       "                                        comment_text  toxic  severe_toxic  \\\n",
       "0  Explanation\\nWhy the edits made under my usern...      0             0   \n",
       "1  D'aww! He matches this background colour I'm s...      0             0   \n",
       "2  Hey man, I'm really not trying to edit war. It...      0             0   \n",
       "\n",
       "   obscene  threat  insult  identity_hate  \n",
       "0        0       0       0              0  \n",
       "1        0       0       0              0  \n",
       "2        0       0       0              0  "
      ],
      "text/html": [
       "<div>\n",
       "<style scoped>\n",
       "    .dataframe tbody tr th:only-of-type {\n",
       "        vertical-align: middle;\n",
       "    }\n",
       "\n",
       "    .dataframe tbody tr th {\n",
       "        vertical-align: top;\n",
       "    }\n",
       "\n",
       "    .dataframe thead th {\n",
       "        text-align: right;\n",
       "    }\n",
       "</style>\n",
       "<table border=\"1\" class=\"dataframe\">\n",
       "  <thead>\n",
       "    <tr style=\"text-align: right;\">\n",
       "      <th></th>\n",
       "      <th>comment_text</th>\n",
       "      <th>toxic</th>\n",
       "      <th>severe_toxic</th>\n",
       "      <th>obscene</th>\n",
       "      <th>threat</th>\n",
       "      <th>insult</th>\n",
       "      <th>identity_hate</th>\n",
       "    </tr>\n",
       "  </thead>\n",
       "  <tbody>\n",
       "    <tr>\n",
       "      <th>0</th>\n",
       "      <td>Explanation\\nWhy the edits made under my usern...</td>\n",
       "      <td>0</td>\n",
       "      <td>0</td>\n",
       "      <td>0</td>\n",
       "      <td>0</td>\n",
       "      <td>0</td>\n",
       "      <td>0</td>\n",
       "    </tr>\n",
       "    <tr>\n",
       "      <th>1</th>\n",
       "      <td>D'aww! He matches this background colour I'm s...</td>\n",
       "      <td>0</td>\n",
       "      <td>0</td>\n",
       "      <td>0</td>\n",
       "      <td>0</td>\n",
       "      <td>0</td>\n",
       "      <td>0</td>\n",
       "    </tr>\n",
       "    <tr>\n",
       "      <th>2</th>\n",
       "      <td>Hey man, I'm really not trying to edit war. It...</td>\n",
       "      <td>0</td>\n",
       "      <td>0</td>\n",
       "      <td>0</td>\n",
       "      <td>0</td>\n",
       "      <td>0</td>\n",
       "      <td>0</td>\n",
       "    </tr>\n",
       "  </tbody>\n",
       "</table>\n",
       "</div>"
      ]
     },
     "execution_count": 9,
     "metadata": {},
     "output_type": "execute_result"
    }
   ],
   "execution_count": 9
  },
  {
   "metadata": {},
   "cell_type": "markdown",
   "source": "we will be cheking the distribution and proportion of the datasets",
   "id": "5e3eab416a8fb186"
  },
  {
   "metadata": {
    "ExecuteTime": {
     "end_time": "2024-11-17T14:32:38.199246Z",
     "start_time": "2024-11-17T14:32:38.185728Z"
    }
   },
   "cell_type": "code",
   "source": [
    "nrow_train = df_train_full_clean.shape[0]\n",
    "nrow_test = df_test.shape[0]\n",
    "sum_rows = nrow_train + nrow_test\n",
    "\n",
    "data_proportions = {\n",
    "    'Type': ['Train', 'Test'],\n",
    "    'Rows': [nrow_train, nrow_test],\n",
    "    'Percentage': [round(nrow_train * 100 / sum_rows), round(nrow_test * 100 / sum_rows)]\n",
    "}\n",
    "\n",
    "# Converting to pandas DataFrame\n",
    "df_summary = pd.DataFrame(data_proportions)\n",
    "df_summary"
   ],
   "id": "2b102d2ca70adad3",
   "outputs": [
    {
     "data": {
      "text/plain": [
       "    Type    Rows  Percentage\n",
       "0  Train  159571          51\n",
       "1   Test  153164          49"
      ],
      "text/html": [
       "<div>\n",
       "<style scoped>\n",
       "    .dataframe tbody tr th:only-of-type {\n",
       "        vertical-align: middle;\n",
       "    }\n",
       "\n",
       "    .dataframe tbody tr th {\n",
       "        vertical-align: top;\n",
       "    }\n",
       "\n",
       "    .dataframe thead th {\n",
       "        text-align: right;\n",
       "    }\n",
       "</style>\n",
       "<table border=\"1\" class=\"dataframe\">\n",
       "  <thead>\n",
       "    <tr style=\"text-align: right;\">\n",
       "      <th></th>\n",
       "      <th>Type</th>\n",
       "      <th>Rows</th>\n",
       "      <th>Percentage</th>\n",
       "    </tr>\n",
       "  </thead>\n",
       "  <tbody>\n",
       "    <tr>\n",
       "      <th>0</th>\n",
       "      <td>Train</td>\n",
       "      <td>159571</td>\n",
       "      <td>51</td>\n",
       "    </tr>\n",
       "    <tr>\n",
       "      <th>1</th>\n",
       "      <td>Test</td>\n",
       "      <td>153164</td>\n",
       "      <td>49</td>\n",
       "    </tr>\n",
       "  </tbody>\n",
       "</table>\n",
       "</div>"
      ]
     },
     "execution_count": 10,
     "metadata": {},
     "output_type": "execute_result"
    }
   ],
   "execution_count": 10
  },
  {
   "metadata": {},
   "cell_type": "markdown",
   "source": [
    "Mostly the same quantity of values that we had,\n",
    "now the next step would be to try to undestand the imbalance of the data, to define what strategy we need to manage"
   ],
   "id": "a461ffc2b57a9403"
  },
  {
   "metadata": {
    "ExecuteTime": {
     "end_time": "2024-11-17T14:32:38.605190Z",
     "start_time": "2024-11-17T14:32:38.201246Z"
    }
   },
   "cell_type": "code",
   "source": [
    "target_y =df_train_full_clean.iloc[:,1:].sum()\n",
    "proportion_balance_classes(target_y.index, target_y.values)"
   ],
   "id": "de528c36d06815f0",
   "outputs": [
    {
     "data": {
      "text/plain": [
       "<Figure size 1500x400 with 1 Axes>"
      ],
      "image/png": "[encoded data removed]"
     },
     "metadata": {},
     "output_type": "display_data"
    }
   ],
   "execution_count": 11
  },
  {
   "metadata": {},
   "cell_type": "markdown",
   "source": [
    "As we could see the data its complitly imbalance,\n",
    "so probably we could try\n",
    "to manage\n",
    "using any of the technics\n",
    "that we know like SMOTE or undersampling to modify the dataset so we could get a better performance in the results.\n",
    "Also now we will be seeing the proportions of the independent variables."
   ],
   "id": "a309e184c501ce7a"
  },
  {
   "metadata": {
    "ExecuteTime": {
     "end_time": "2024-11-17T14:32:38.852766Z",
     "start_time": "2024-11-17T14:32:38.607193Z"
    }
   },
   "cell_type": "code",
   "source": [
    "total_sum = target_y.sum()\n",
    "proportions = (target_y / total_sum) * 100\n",
    "\n",
    "proportion_balance_classes(proportions.index, proportions.values)"
   ],
   "id": "b82bd03e874e5e42",
   "outputs": [
    {
     "data": {
      "text/plain": [
       "<Figure size 1500x400 with 1 Axes>"
      ],
      "image/png": "[encoded data removed]"
     },
     "metadata": {},
     "output_type": "display_data"
    }
   ],
   "execution_count": 12
  },
  {
   "metadata": {},
   "cell_type": "markdown",
   "source": [
    "We could see\n",
    "that in some classes we had mostly 43% of the cases and in cases lkie sever_toxic or threat we had less cases\n",
    "so this could impact the total cases;\n",
    "Now we will see how much of the total cases we had that are kind of toxic and which cases are not toxic at all, for that we will take into account if at least one of the values had a comment we will be consider this as a problem to out toxic comment."
   ],
   "id": "b4936a0ee279d970"
  },
  {
   "metadata": {
    "ExecuteTime": {
     "end_time": "2024-11-17T14:32:38.883831Z",
     "start_time": "2024-11-17T14:32:38.854791Z"
    }
   },
   "cell_type": "code",
   "source": [
    "df_train_full_clean['is_toxic'] = (df_train_full_clean.iloc[:, 1:].sum(axis=1) > 0).astype(int)\n",
    "toxic_comments = df_train_full_clean['is_toxic'].sum()\n",
    "\n",
    "print(f\"We had {df_train_full_clean.shape[0]} comments but from that we had just {toxic_comments} toxic comments so we could see the next proportions, {toxic_comments / df_train_full_clean.shape[0]} % in total to know the toxic comments\")\n"
   ],
   "id": "367c6e7d7a46c5c4",
   "outputs": [
    {
     "name": "stdout",
     "output_type": "stream",
     "text": [
      "We had 159571 comments but from that we had just 16225 toxic comments so we could see the next proportions, 0.10167887648758234 % in total to know the toxic comments\n"
     ]
    }
   ],
   "execution_count": 13
  },
  {
   "metadata": {},
   "cell_type": "markdown",
   "source": [
    "So we could see that we had just 10% of the total of comments to be toxic,\n",
    "so defintly we will need to apply any kind of balancing to get a better performance in the data.\n",
    "\n",
    "Now we will be seeing\n",
    "how many of those total comments had multiple tags in the comments\n",
    "to understand correctly if we can had several target variables in the same comment "
   ],
   "id": "5c133a23a0921818"
  },
  {
   "metadata": {
    "ExecuteTime": {
     "end_time": "2024-11-17T14:32:39.164766Z",
     "start_time": "2024-11-17T14:32:38.886360Z"
    }
   },
   "cell_type": "code",
   "source": [
    "rowsums = df_train_full_clean.drop(['is_toxic'], axis=1)\n",
    "rowsums= rowsums.iloc[:,1:].sum(axis=1)\n",
    "rowsums_count_values = rowsums.value_counts()\n",
    "rowsums_count_values = rowsums_count_values[rowsums_count_values < rowsums_count_values.max()]\n",
    "\n",
    "proportion_balance_classes(rowsums_count_values.index, rowsums_count_values.values)\n"
   ],
   "id": "e7343ce5ba0575d1",
   "outputs": [
    {
     "data": {
      "text/plain": [
       "<Figure size 1500x400 with 1 Axes>"
      ],
      "image/png": "[encoded data removed]"
     },
     "metadata": {},
     "output_type": "display_data"
    }
   ],
   "execution_count": 14
  },
  {
   "metadata": {},
   "cell_type": "markdown",
   "source": [
    "As we can see we had mostly of the hashtags target with just one comments and the most comment\n",
    "we had  probably the toxic it is,\n",
    "so we will try\n",
    "to see if we could try to plot each of the comment types to see what kind of data we had on the classes we see above.\n",
    "\n",
    "Now we will try to see if we found any association between the target variables."
   ],
   "id": "32498bb05323fb37"
  },
  {
   "metadata": {},
   "cell_type": "markdown",
   "source": [
    "# Does the likelihood of each feature are associated in any form?\n",
    "\n",
    "- **Null Hypothesis (H0):** We have a significant relationship between the both variables\n",
    "        $$p-value > 5%$$\n",
    "- **Alternative Hypothesis (Ha):** There is a difference between the distributions \n",
    "        $$p-value < 5%$$"
   ],
   "id": "970b8d7af10217c"
  },
  {
   "metadata": {
    "ExecuteTime": {
     "end_time": "2024-11-17T14:32:39.490084Z",
     "start_time": "2024-11-17T14:32:39.167787Z"
    }
   },
   "cell_type": "code",
   "source": [
    "verify_association_df = df_train_full_clean.iloc[:,1:].drop(columns=['is_toxic'], axis=1)\n",
    "columns_names = verify_association_df.columns\n",
    "\n",
    "results_list = []\n",
    "\n",
    "for i, col1 in enumerate(columns_names):\n",
    "    for col2 in columns_names[i+1:]:\n",
    "        \n",
    "        proportion = pd.crosstab(verify_association_df[col1], verify_association_df[col2])     \n",
    "        chi2, p, dof, expected = stats.chi2_contingency(proportion)\n",
    "        expected_vals = pd.DataFrame(expected)\n",
    "        \n",
    "        result = {\n",
    "                'Variable 1': col1,\n",
    "                'Variable 2': col2,\n",
    "                'Chi2': chi2,\n",
    "                'p-value': p,\n",
    "                'Degrees of Freedom': dof\n",
    "            }\n",
    "        results_list.append(result)\n",
    "\n",
    "results_df = pd.DataFrame(results_list)\n",
    "results_df"
   ],
   "id": "59c9685bf3a7b8f7",
   "outputs": [
    {
     "data": {
      "text/plain": [
       "      Variable 1     Variable 2          Chi2  p-value  Degrees of Freedom\n",
       "0          toxic   severe_toxic  15187.921990      0.0                   1\n",
       "1          toxic        obscene  73020.900433      0.0                   1\n",
       "2          toxic         threat   3926.436082      0.0                   1\n",
       "3          toxic         insult  66894.731374      0.0                   1\n",
       "4          toxic  identity_hate  11281.731428      0.0                   1\n",
       "5   severe_toxic        obscene  25899.536995      0.0                   1\n",
       "6   severe_toxic         threat   2415.127564      0.0                   1\n",
       "7   severe_toxic         insult  22518.938230      0.0                   1\n",
       "8   severe_toxic  identity_hate   6463.712093      0.0                   1\n",
       "9        obscene         threat   3168.966146      0.0                   1\n",
       "10       obscene         insult  87666.562523      0.0                   1\n",
       "11       obscene  identity_hate  13117.803212      0.0                   1\n",
       "12        threat         insult   3578.759071      0.0                   1\n",
       "13        threat  identity_hate   2092.548632      0.0                   1\n",
       "14        insult  identity_hate  18184.905118      0.0                   1"
      ],
      "text/html": [
       "<div>\n",
       "<style scoped>\n",
       "    .dataframe tbody tr th:only-of-type {\n",
       "        vertical-align: middle;\n",
       "    }\n",
       "\n",
       "    .dataframe tbody tr th {\n",
       "        vertical-align: top;\n",
       "    }\n",
       "\n",
       "    .dataframe thead th {\n",
       "        text-align: right;\n",
       "    }\n",
       "</style>\n",
       "<table border=\"1\" class=\"dataframe\">\n",
       "  <thead>\n",
       "    <tr style=\"text-align: right;\">\n",
       "      <th></th>\n",
       "      <th>Variable 1</th>\n",
       "      <th>Variable 2</th>\n",
       "      <th>Chi2</th>\n",
       "      <th>p-value</th>\n",
       "      <th>Degrees of Freedom</th>\n",
       "    </tr>\n",
       "  </thead>\n",
       "  <tbody>\n",
       "    <tr>\n",
       "      <th>0</th>\n",
       "      <td>toxic</td>\n",
       "      <td>severe_toxic</td>\n",
       "      <td>15187.921990</td>\n",
       "      <td>0.0</td>\n",
       "      <td>1</td>\n",
       "    </tr>\n",
       "    <tr>\n",
       "      <th>1</th>\n",
       "      <td>toxic</td>\n",
       "      <td>obscene</td>\n",
       "      <td>73020.900433</td>\n",
       "      <td>0.0</td>\n",
       "      <td>1</td>\n",
       "    </tr>\n",
       "    <tr>\n",
       "      <th>2</th>\n",
       "      <td>toxic</td>\n",
       "      <td>threat</td>\n",
       "      <td>3926.436082</td>\n",
       "      <td>0.0</td>\n",
       "      <td>1</td>\n",
       "    </tr>\n",
       "    <tr>\n",
       "      <th>3</th>\n",
       "      <td>toxic</td>\n",
       "      <td>insult</td>\n",
       "      <td>66894.731374</td>\n",
       "      <td>0.0</td>\n",
       "      <td>1</td>\n",
       "    </tr>\n",
       "    <tr>\n",
       "      <th>4</th>\n",
       "      <td>toxic</td>\n",
       "      <td>identity_hate</td>\n",
       "      <td>11281.731428</td>\n",
       "      <td>0.0</td>\n",
       "      <td>1</td>\n",
       "    </tr>\n",
       "    <tr>\n",
       "      <th>5</th>\n",
       "      <td>severe_toxic</td>\n",
       "      <td>obscene</td>\n",
       "      <td>25899.536995</td>\n",
       "      <td>0.0</td>\n",
       "      <td>1</td>\n",
       "    </tr>\n",
       "    <tr>\n",
       "      <th>6</th>\n",
       "      <td>severe_toxic</td>\n",
       "      <td>threat</td>\n",
       "      <td>2415.127564</td>\n",
       "      <td>0.0</td>\n",
       "      <td>1</td>\n",
       "    </tr>\n",
       "    <tr>\n",
       "      <th>7</th>\n",
       "      <td>severe_toxic</td>\n",
       "      <td>insult</td>\n",
       "      <td>22518.938230</td>\n",
       "      <td>0.0</td>\n",
       "      <td>1</td>\n",
       "    </tr>\n",
       "    <tr>\n",
       "      <th>8</th>\n",
       "      <td>severe_toxic</td>\n",
       "      <td>identity_hate</td>\n",
       "      <td>6463.712093</td>\n",
       "      <td>0.0</td>\n",
       "      <td>1</td>\n",
       "    </tr>\n",
       "    <tr>\n",
       "      <th>9</th>\n",
       "      <td>obscene</td>\n",
       "      <td>threat</td>\n",
       "      <td>3168.966146</td>\n",
       "      <td>0.0</td>\n",
       "      <td>1</td>\n",
       "    </tr>\n",
       "    <tr>\n",
       "      <th>10</th>\n",
       "      <td>obscene</td>\n",
       "      <td>insult</td>\n",
       "      <td>87666.562523</td>\n",
       "      <td>0.0</td>\n",
       "      <td>1</td>\n",
       "    </tr>\n",
       "    <tr>\n",
       "      <th>11</th>\n",
       "      <td>obscene</td>\n",
       "      <td>identity_hate</td>\n",
       "      <td>13117.803212</td>\n",
       "      <td>0.0</td>\n",
       "      <td>1</td>\n",
       "    </tr>\n",
       "    <tr>\n",
       "      <th>12</th>\n",
       "      <td>threat</td>\n",
       "      <td>insult</td>\n",
       "      <td>3578.759071</td>\n",
       "      <td>0.0</td>\n",
       "      <td>1</td>\n",
       "    </tr>\n",
       "    <tr>\n",
       "      <th>13</th>\n",
       "      <td>threat</td>\n",
       "      <td>identity_hate</td>\n",
       "      <td>2092.548632</td>\n",
       "      <td>0.0</td>\n",
       "      <td>1</td>\n",
       "    </tr>\n",
       "    <tr>\n",
       "      <th>14</th>\n",
       "      <td>insult</td>\n",
       "      <td>identity_hate</td>\n",
       "      <td>18184.905118</td>\n",
       "      <td>0.0</td>\n",
       "      <td>1</td>\n",
       "    </tr>\n",
       "  </tbody>\n",
       "</table>\n",
       "</div>"
      ]
     },
     "execution_count": 15,
     "metadata": {},
     "output_type": "execute_result"
    }
   ],
   "execution_count": 15
  },
  {
   "metadata": {},
   "cell_type": "markdown",
   "source": [
    "We reject the null hypothesis.\n",
    "There is a difference between the distributions;\n",
    "means that the frequency of categories in one variable is not evenly distributed across the categories of the other variable"
   ],
   "id": "a01d7245506c1f1e"
  },
  {
   "metadata": {},
   "cell_type": "markdown",
   "source": [
    "Now we will see some comments that are toxic to understand what we are handling to.\n",
    "After ploting some examples we will be analysing whats happening"
   ],
   "id": "c2c076118ca24d02"
  },
  {
   "metadata": {
    "ExecuteTime": {
     "end_time": "2024-11-17T14:32:39.505855Z",
     "start_time": "2024-11-17T14:32:39.492113Z"
    }
   },
   "cell_type": "code",
   "source": [
    "feature_to_review = \"toxic\"\n",
    "example_comment = df_train_full_clean[df_train_full_clean[feature_to_review] == 1].iloc[0:3, 0]\n",
    "\n",
    "for index, rows in example_comment.items():\n",
    "    print(f\"Example of {feature_to_review} comment: {index}\")\n",
    "    print(rows)\n",
    "    print(\"---------\")\n"
   ],
   "id": "7d2d7c63b5ff231d",
   "outputs": [
    {
     "name": "stdout",
     "output_type": "stream",
     "text": [
      "Example of toxic comment: 6\n",
      "COCKSUCKER BEFORE YOU PISS AROUND ON MY WORK\n",
      "---------\n",
      "Example of toxic comment: 12\n",
      "Hey... what is it..\n",
      "@ | talk .\n",
      "What is it... an exclusive group of some WP TALIBANS...who are good at destroying, self-appointed purist who GANG UP any one who asks them questions abt their ANTI-SOCIAL and DESTRUCTIVE (non)-contribution at WP?\n",
      "\n",
      "Ask Sityush to clean up his behavior than issue me nonsensical warnings...\n",
      "---------\n",
      "Example of toxic comment: 16\n",
      "Bye! \n",
      "\n",
      "Don't look, come or think of comming back! Tosser.\n",
      "---------\n"
     ]
    }
   ],
   "execution_count": 16
  },
  {
   "metadata": {
    "ExecuteTime": {
     "end_time": "2024-11-17T14:32:39.521930Z",
     "start_time": "2024-11-17T14:32:39.507857Z"
    }
   },
   "cell_type": "code",
   "source": [
    "feature_to_review = \"severe_toxic\"\n",
    "example_comment = df_train_full_clean[df_train_full_clean[feature_to_review] == 1].iloc[0:3, 0]\n",
    "\n",
    "for index, rows in example_comment.items():\n",
    "    print(f\"Example of {feature_to_review} comment: {index}\")\n",
    "    print(rows)\n",
    "    print(\"---------\")\n"
   ],
   "id": "40e639a2ecffd065",
   "outputs": [
    {
     "name": "stdout",
     "output_type": "stream",
     "text": [
      "Example of severe_toxic comment: 6\n",
      "COCKSUCKER BEFORE YOU PISS AROUND ON MY WORK\n",
      "---------\n",
      "Example of severe_toxic comment: 55\n",
      "Stupid peace of shit stop deleting my stuff asshole go die and fall in a hole go to hell!\n",
      "---------\n",
      "Example of severe_toxic comment: 181\n",
      "you are a stupid fuck \n",
      "\n",
      "and your mother's cunt stinks\n",
      "---------\n"
     ]
    }
   ],
   "execution_count": 17
  },
  {
   "metadata": {
    "ExecuteTime": {
     "end_time": "2024-11-17T14:32:39.537834Z",
     "start_time": "2024-11-17T14:32:39.523949Z"
    }
   },
   "cell_type": "code",
   "source": [
    "feature_to_review = \"obscene\"\n",
    "example_comment = df_train_full_clean[df_train_full_clean[feature_to_review] == 1].iloc[0:3, 0]\n",
    "\n",
    "for index, rows in example_comment.items():\n",
    "    print(f\"Example of {feature_to_review} comment: {index}\")\n",
    "    print(rows)\n",
    "    print(\"---------\")\n"
   ],
   "id": "c2b69ae96be453e5",
   "outputs": [
    {
     "name": "stdout",
     "output_type": "stream",
     "text": [
      "Example of obscene comment: 6\n",
      "COCKSUCKER BEFORE YOU PISS AROUND ON MY WORK\n",
      "---------\n",
      "Example of obscene comment: 42\n",
      "You are gay or antisemmitian? \n",
      "\n",
      "Archangel WHite Tiger\n",
      "\n",
      "Meow! Greetingshhh!\n",
      "\n",
      "Uh, there are two ways, why you do erased my comment about WW2, that holocaust was brutally slaying of Jews and not gays/Gypsys/Slavs/anyone...\n",
      "\n",
      "1 - If you are anti-semitian, than shave your head bald and go to the skinhead meetings!\n",
      "\n",
      "2 - If you doubt words of the Bible, that homosexuality is a deadly sin, make a pentagram tatoo on your forehead go to the satanistic masses with your gay pals!\n",
      "\n",
      "3 - First and last warning, you fucking gay - I won't appreciate if any more nazi shwain would write in my page! I don't wish to talk to you anymore!\n",
      "\n",
      "Beware of the Dark Side!\n",
      "---------\n",
      "Example of obscene comment: 43\n",
      "FUCK YOUR FILTHY MOTHER IN THE ASS, DRY!\n",
      "---------\n"
     ]
    }
   ],
   "execution_count": 18
  },
  {
   "metadata": {
    "ExecuteTime": {
     "end_time": "2024-11-17T14:32:39.553916Z",
     "start_time": "2024-11-17T14:32:39.539836Z"
    }
   },
   "cell_type": "code",
   "source": [
    "feature_to_review = \"threat\"\n",
    "example_comment = df_train_full_clean[df_train_full_clean[feature_to_review] == 1].iloc[0:3, 0]\n",
    "\n",
    "for index, rows in example_comment.items():\n",
    "    print(f\"Example of {feature_to_review} comment: {index}\")\n",
    "    print(rows)\n",
    "    print(\"---------\")\n"
   ],
   "id": "f1bc05715e4b0b8b",
   "outputs": [
    {
     "name": "stdout",
     "output_type": "stream",
     "text": [
      "Example of threat comment: 79\n",
      "Hi! I am back again!\n",
      "Last warning!\n",
      "Stop undoing my edits or die!\n",
      "---------\n",
      "Example of threat comment: 176\n",
      "I think that your a Fagget get a oife and burn in Hell I hate you 'm sorry we cant have any more sex i'm running out of conndoms\n",
      "---------\n",
      "Example of threat comment: 600\n",
      "I'm also a sock puppet of this account...SUPRISE!!\n",
      "-sincerely,\n",
      "            The man that will track you down from the Internet and kill you\n",
      "---------\n"
     ]
    }
   ],
   "execution_count": 19
  },
  {
   "metadata": {
    "ExecuteTime": {
     "end_time": "2024-11-17T14:32:39.569039Z",
     "start_time": "2024-11-17T14:32:39.555857Z"
    }
   },
   "cell_type": "code",
   "source": [
    "feature_to_review = \"insult\"\n",
    "example_comment = df_train_full_clean[df_train_full_clean[feature_to_review] == 1].iloc[12:15, 0]\n",
    "\n",
    "for index, rows in example_comment.items():\n",
    "    print(f\"Example of {feature_to_review} comment: {index}\")\n",
    "    print(rows)\n",
    "    print(\"---------\")\n"
   ],
   "id": "6c459c179f535f16",
   "outputs": [
    {
     "name": "stdout",
     "output_type": "stream",
     "text": [
      "Example of insult comment: 211\n",
      "Fuck you, block me, you faggot pussy!\n",
      "---------\n",
      "Example of insult comment: 218\n",
      "Kill all niggers. \n",
      "\n",
      "I have hard, that others have said this.. should this be included? That racists sometimes say these.\n",
      "---------\n",
      "Example of insult comment: 231\n",
      "Burn Deck \n",
      "\n",
      "If that'd guy's burn deck is like what I think it is than he is in for a blrude awakening!!! Leviathan motherfucker!!!\n",
      "---------\n"
     ]
    }
   ],
   "execution_count": 20
  },
  {
   "metadata": {
    "ExecuteTime": {
     "end_time": "2024-11-17T14:32:39.584073Z",
     "start_time": "2024-11-17T14:32:39.570044Z"
    }
   },
   "cell_type": "code",
   "source": [
    "feature_to_review = \"identity_hate\"\n",
    "example_comment = df_train_full_clean[df_train_full_clean[feature_to_review] == 1].iloc[5:8, 0]\n",
    "\n",
    "for index, rows in example_comment.items():\n",
    "    print(f\"Example of {feature_to_review} comment: {index}\")\n",
    "    print(rows)\n",
    "    print(\"---------\")\n"
   ],
   "id": "d94033d6eb705afc",
   "outputs": [
    {
     "name": "stdout",
     "output_type": "stream",
     "text": [
      "Example of identity_hate comment: 429\n",
      "Gay \n",
      "\n",
      "The existence of CDVF is further proof that  is a sad twat. He is also very ugly, and has a willy for a face.\n",
      "---------\n",
      "Example of identity_hate comment: 521\n",
      "Dictionaries\n",
      "\n",
      "How dare you call my contribution spam!!! I am a Kurd and I made a lsit of kurdish dictionaries. you bloody turkish nationalist and atoricity commiting bone breaking Nazi. watch out folk this slimy Turk is trying to censor the internet this is not undemocratic Turkey here, no prison cells in wikipedia you stupid Turk! And you buggers want membership to the EEC\n",
      "---------\n",
      "Example of identity_hate comment: 887\n",
      "you gay motherfucker i know where you live,i am going to sand your face off,then i am to going to beat you to a pulp,you chicken shagger.\n",
      "---------\n"
     ]
    }
   ],
   "execution_count": 21
  },
  {
   "metadata": {},
   "cell_type": "markdown",
   "source": [
    "The comments are offensive and contain complex topics, instances of hate speech, and some bad words.\n",
    "\n",
    "To better understand the data, we will extract features such as the length of values, character types, and other relevant metrics. This will help us gain valuable insights and uncover patterns within the data."
   ],
   "id": "494320ca9edbf8da"
  },
  {
   "metadata": {
    "ExecuteTime": {
     "end_time": "2024-11-17T14:32:57.925204Z",
     "start_time": "2024-11-17T14:32:39.588398Z"
    }
   },
   "cell_type": "code",
   "source": [
    "df_add_features = extractions_text_description(df_train_full_clean, \"comment_text\")\n",
    "df_add_features"
   ],
   "id": "5dc52254dd0b0fa5",
   "outputs": [
    {
     "data": {
      "text/plain": [
       "                                             comment_text  toxic  \\\n",
       "0       Explanation\\nWhy the edits made under my usern...      0   \n",
       "1       D'aww! He matches this background colour I'm s...      0   \n",
       "2       Hey man, I'm really not trying to edit war. It...      0   \n",
       "3       \"\\nMore\\nI can't make any real suggestions on ...      0   \n",
       "4       You, sir, are my hero. Any chance you remember...      0   \n",
       "...                                                   ...    ...   \n",
       "159566  \":::::And for the second time of asking, when ...      0   \n",
       "159567  You should be ashamed of yourself \\n\\nThat is ...      0   \n",
       "159568  Spitzer \\n\\nUmm, theres no actual article for ...      0   \n",
       "159569  And it looks like it was actually you who put ...      0   \n",
       "159570  \"\\nAnd ... I really don't think you understand...      0   \n",
       "\n",
       "        severe_toxic  obscene  threat  insult  identity_hate  is_toxic  \\\n",
       "0                  0        0       0       0              0         0   \n",
       "1                  0        0       0       0              0         0   \n",
       "2                  0        0       0       0              0         0   \n",
       "3                  0        0       0       0              0         0   \n",
       "4                  0        0       0       0              0         0   \n",
       "...              ...      ...     ...     ...            ...       ...   \n",
       "159566             0        0       0       0              0         0   \n",
       "159567             0        0       0       0              0         0   \n",
       "159568             0        0       0       0              0         0   \n",
       "159569             0        0       0       0              0         0   \n",
       "159570             0        0       0       0              0         0   \n",
       "\n",
       "        count_each_word  count_unique_word  ...  total_length  new_line  \\\n",
       "0                    43                 41  ...           264         1   \n",
       "1                    17                 17  ...           112         0   \n",
       "2                    42                 39  ...           233         0   \n",
       "3                   113                 82  ...           622         4   \n",
       "4                    13                 13  ...            67         0   \n",
       "...                 ...                ...  ...           ...       ...   \n",
       "159566               47                 44  ...           295         2   \n",
       "159567               18                 18  ...            99         2   \n",
       "159568               12                 12  ...            81         2   \n",
       "159569               25                 23  ...           116         0   \n",
       "159570               36                 32  ...           189         1   \n",
       "\n",
       "        new_small_space  new_medium_space  new_big_space  uppercase_words  \\\n",
       "0                     0                 0              0               17   \n",
       "1                     0                 0              0                8   \n",
       "2                     0                 0              0                4   \n",
       "3                     1                 0              0               11   \n",
       "4                     0                 0              0                2   \n",
       "...                 ...               ...            ...              ...   \n",
       "159566                1                 0              0                2   \n",
       "159567                1                 0              0                2   \n",
       "159568                1                 0              0                4   \n",
       "159569                0                 0              0                2   \n",
       "159570                0                 0              0                4   \n",
       "\n",
       "        question_mark  exclamation_mark  word_unique_percent  \\\n",
       "0                   1                 0            95.348837   \n",
       "1                   0                 1           100.000000   \n",
       "2                   0                 0            92.857143   \n",
       "3                   0                 0            72.566372   \n",
       "4                   1                 0           100.000000   \n",
       "...               ...               ...                  ...   \n",
       "159566              2                 0            93.617021   \n",
       "159567              0                 0           100.000000   \n",
       "159568              0                 0           100.000000   \n",
       "159569              0                 0            92.000000   \n",
       "159570              0                 0            88.888889   \n",
       "\n",
       "        punctuations_percent  \n",
       "0                  23.255814  \n",
       "1                  70.588235  \n",
       "2                  14.285714  \n",
       "3                  18.584071  \n",
       "4                  38.461538  \n",
       "...                      ...  \n",
       "159566             38.297872  \n",
       "159567             22.222222  \n",
       "159568             33.333333  \n",
       "159569              4.000000  \n",
       "159570             38.888889  \n",
       "\n",
       "[159571 rows x 24 columns]"
      ],
      "text/html": [
       "<div>\n",
       "<style scoped>\n",
       "    .dataframe tbody tr th:only-of-type {\n",
       "        vertical-align: middle;\n",
       "    }\n",
       "\n",
       "    .dataframe tbody tr th {\n",
       "        vertical-align: top;\n",
       "    }\n",
       "\n",
       "    .dataframe thead th {\n",
       "        text-align: right;\n",
       "    }\n",
       "</style>\n",
       "<table border=\"1\" class=\"dataframe\">\n",
       "  <thead>\n",
       "    <tr style=\"text-align: right;\">\n",
       "      <th></th>\n",
       "      <th>comment_text</th>\n",
       "      <th>toxic</th>\n",
       "      <th>severe_toxic</th>\n",
       "      <th>obscene</th>\n",
       "      <th>threat</th>\n",
       "      <th>insult</th>\n",
       "      <th>identity_hate</th>\n",
       "      <th>is_toxic</th>\n",
       "      <th>count_each_word</th>\n",
       "      <th>count_unique_word</th>\n",
       "      <th>...</th>\n",
       "      <th>total_length</th>\n",
       "      <th>new_line</th>\n",
       "      <th>new_small_space</th>\n",
       "      <th>new_medium_space</th>\n",
       "      <th>new_big_space</th>\n",
       "      <th>uppercase_words</th>\n",
       "      <th>question_mark</th>\n",
       "      <th>exclamation_mark</th>\n",
       "      <th>word_unique_percent</th>\n",
       "      <th>punctuations_percent</th>\n",
       "    </tr>\n",
       "  </thead>\n",
       "  <tbody>\n",
       "    <tr>\n",
       "      <th>0</th>\n",
       "      <td>Explanation\\nWhy the edits made under my usern...</td>\n",
       "      <td>0</td>\n",
       "      <td>0</td>\n",
       "      <td>0</td>\n",
       "      <td>0</td>\n",
       "      <td>0</td>\n",
       "      <td>0</td>\n",
       "      <td>0</td>\n",
       "      <td>43</td>\n",
       "      <td>41</td>\n",
       "      <td>...</td>\n",
       "      <td>264</td>\n",
       "      <td>1</td>\n",
       "      <td>0</td>\n",
       "      <td>0</td>\n",
       "      <td>0</td>\n",
       "      <td>17</td>\n",
       "      <td>1</td>\n",
       "      <td>0</td>\n",
       "      <td>95.348837</td>\n",
       "      <td>23.255814</td>\n",
       "    </tr>\n",
       "    <tr>\n",
       "      <th>1</th>\n",
       "      <td>D'aww! He matches this background colour I'm s...</td>\n",
       "      <td>0</td>\n",
       "      <td>0</td>\n",
       "      <td>0</td>\n",
       "      <td>0</td>\n",
       "      <td>0</td>\n",
       "      <td>0</td>\n",
       "      <td>0</td>\n",
       "      <td>17</td>\n",
       "      <td>17</td>\n",
       "      <td>...</td>\n",
       "      <td>112</td>\n",
       "      <td>0</td>\n",
       "      <td>0</td>\n",
       "      <td>0</td>\n",
       "      <td>0</td>\n",
       "      <td>8</td>\n",
       "      <td>0</td>\n",
       "      <td>1</td>\n",
       "      <td>100.000000</td>\n",
       "      <td>70.588235</td>\n",
       "    </tr>\n",
       "    <tr>\n",
       "      <th>2</th>\n",
       "      <td>Hey man, I'm really not trying to edit war. It...</td>\n",
       "      <td>0</td>\n",
       "      <td>0</td>\n",
       "      <td>0</td>\n",
       "      <td>0</td>\n",
       "      <td>0</td>\n",
       "      <td>0</td>\n",
       "      <td>0</td>\n",
       "      <td>42</td>\n",
       "      <td>39</td>\n",
       "      <td>...</td>\n",
       "      <td>233</td>\n",
       "      <td>0</td>\n",
       "      <td>0</td>\n",
       "      <td>0</td>\n",
       "      <td>0</td>\n",
       "      <td>4</td>\n",
       "      <td>0</td>\n",
       "      <td>0</td>\n",
       "      <td>92.857143</td>\n",
       "      <td>14.285714</td>\n",
       "    </tr>\n",
       "    <tr>\n",
       "      <th>3</th>\n",
       "      <td>\"\\nMore\\nI can't make any real suggestions on ...</td>\n",
       "      <td>0</td>\n",
       "      <td>0</td>\n",
       "      <td>0</td>\n",
       "      <td>0</td>\n",
       "      <td>0</td>\n",
       "      <td>0</td>\n",
       "      <td>0</td>\n",
       "      <td>113</td>\n",
       "      <td>82</td>\n",
       "      <td>...</td>\n",
       "      <td>622</td>\n",
       "      <td>4</td>\n",
       "      <td>1</td>\n",
       "      <td>0</td>\n",
       "      <td>0</td>\n",
       "      <td>11</td>\n",
       "      <td>0</td>\n",
       "      <td>0</td>\n",
       "      <td>72.566372</td>\n",
       "      <td>18.584071</td>\n",
       "    </tr>\n",
       "    <tr>\n",
       "      <th>4</th>\n",
       "      <td>You, sir, are my hero. Any chance you remember...</td>\n",
       "      <td>0</td>\n",
       "      <td>0</td>\n",
       "      <td>0</td>\n",
       "      <td>0</td>\n",
       "      <td>0</td>\n",
       "      <td>0</td>\n",
       "      <td>0</td>\n",
       "      <td>13</td>\n",
       "      <td>13</td>\n",
       "      <td>...</td>\n",
       "      <td>67</td>\n",
       "      <td>0</td>\n",
       "      <td>0</td>\n",
       "      <td>0</td>\n",
       "      <td>0</td>\n",
       "      <td>2</td>\n",
       "      <td>1</td>\n",
       "      <td>0</td>\n",
       "      <td>100.000000</td>\n",
       "      <td>38.461538</td>\n",
       "    </tr>\n",
       "    <tr>\n",
       "      <th>...</th>\n",
       "      <td>...</td>\n",
       "      <td>...</td>\n",
       "      <td>...</td>\n",
       "      <td>...</td>\n",
       "      <td>...</td>\n",
       "      <td>...</td>\n",
       "      <td>...</td>\n",
       "      <td>...</td>\n",
       "      <td>...</td>\n",
       "      <td>...</td>\n",
       "      <td>...</td>\n",
       "      <td>...</td>\n",
       "      <td>...</td>\n",
       "      <td>...</td>\n",
       "      <td>...</td>\n",
       "      <td>...</td>\n",
       "      <td>...</td>\n",
       "      <td>...</td>\n",
       "      <td>...</td>\n",
       "      <td>...</td>\n",
       "      <td>...</td>\n",
       "    </tr>\n",
       "    <tr>\n",
       "      <th>159566</th>\n",
       "      <td>\":::::And for the second time of asking, when ...</td>\n",
       "      <td>0</td>\n",
       "      <td>0</td>\n",
       "      <td>0</td>\n",
       "      <td>0</td>\n",
       "      <td>0</td>\n",
       "      <td>0</td>\n",
       "      <td>0</td>\n",
       "      <td>47</td>\n",
       "      <td>44</td>\n",
       "      <td>...</td>\n",
       "      <td>295</td>\n",
       "      <td>2</td>\n",
       "      <td>1</td>\n",
       "      <td>0</td>\n",
       "      <td>0</td>\n",
       "      <td>2</td>\n",
       "      <td>2</td>\n",
       "      <td>0</td>\n",
       "      <td>93.617021</td>\n",
       "      <td>38.297872</td>\n",
       "    </tr>\n",
       "    <tr>\n",
       "      <th>159567</th>\n",
       "      <td>You should be ashamed of yourself \\n\\nThat is ...</td>\n",
       "      <td>0</td>\n",
       "      <td>0</td>\n",
       "      <td>0</td>\n",
       "      <td>0</td>\n",
       "      <td>0</td>\n",
       "      <td>0</td>\n",
       "      <td>0</td>\n",
       "      <td>18</td>\n",
       "      <td>18</td>\n",
       "      <td>...</td>\n",
       "      <td>99</td>\n",
       "      <td>2</td>\n",
       "      <td>1</td>\n",
       "      <td>0</td>\n",
       "      <td>0</td>\n",
       "      <td>2</td>\n",
       "      <td>0</td>\n",
       "      <td>0</td>\n",
       "      <td>100.000000</td>\n",
       "      <td>22.222222</td>\n",
       "    </tr>\n",
       "    <tr>\n",
       "      <th>159568</th>\n",
       "      <td>Spitzer \\n\\nUmm, theres no actual article for ...</td>\n",
       "      <td>0</td>\n",
       "      <td>0</td>\n",
       "      <td>0</td>\n",
       "      <td>0</td>\n",
       "      <td>0</td>\n",
       "      <td>0</td>\n",
       "      <td>0</td>\n",
       "      <td>12</td>\n",
       "      <td>12</td>\n",
       "      <td>...</td>\n",
       "      <td>81</td>\n",
       "      <td>2</td>\n",
       "      <td>1</td>\n",
       "      <td>0</td>\n",
       "      <td>0</td>\n",
       "      <td>4</td>\n",
       "      <td>0</td>\n",
       "      <td>0</td>\n",
       "      <td>100.000000</td>\n",
       "      <td>33.333333</td>\n",
       "    </tr>\n",
       "    <tr>\n",
       "      <th>159569</th>\n",
       "      <td>And it looks like it was actually you who put ...</td>\n",
       "      <td>0</td>\n",
       "      <td>0</td>\n",
       "      <td>0</td>\n",
       "      <td>0</td>\n",
       "      <td>0</td>\n",
       "      <td>0</td>\n",
       "      <td>0</td>\n",
       "      <td>25</td>\n",
       "      <td>23</td>\n",
       "      <td>...</td>\n",
       "      <td>116</td>\n",
       "      <td>0</td>\n",
       "      <td>0</td>\n",
       "      <td>0</td>\n",
       "      <td>0</td>\n",
       "      <td>2</td>\n",
       "      <td>0</td>\n",
       "      <td>0</td>\n",
       "      <td>92.000000</td>\n",
       "      <td>4.000000</td>\n",
       "    </tr>\n",
       "    <tr>\n",
       "      <th>159570</th>\n",
       "      <td>\"\\nAnd ... I really don't think you understand...</td>\n",
       "      <td>0</td>\n",
       "      <td>0</td>\n",
       "      <td>0</td>\n",
       "      <td>0</td>\n",
       "      <td>0</td>\n",
       "      <td>0</td>\n",
       "      <td>0</td>\n",
       "      <td>36</td>\n",
       "      <td>32</td>\n",
       "      <td>...</td>\n",
       "      <td>189</td>\n",
       "      <td>1</td>\n",
       "      <td>0</td>\n",
       "      <td>0</td>\n",
       "      <td>0</td>\n",
       "      <td>4</td>\n",
       "      <td>0</td>\n",
       "      <td>0</td>\n",
       "      <td>88.888889</td>\n",
       "      <td>38.888889</td>\n",
       "    </tr>\n",
       "  </tbody>\n",
       "</table>\n",
       "<p>159571 rows × 24 columns</p>\n",
       "</div>"
      ]
     },
     "execution_count": 22,
     "metadata": {},
     "output_type": "execute_result"
    }
   ],
   "execution_count": 22
  },
  {
   "metadata": {},
   "cell_type": "markdown",
   "source": "finally this are all the features that we add to the dataframe",
   "id": "daeb9ae75c42f9cc"
  },
  {
   "metadata": {
    "ExecuteTime": {
     "end_time": "2024-11-17T14:32:57.940225Z",
     "start_time": "2024-11-17T14:32:57.927210Z"
    }
   },
   "cell_type": "code",
   "source": "df_add_features.columns.difference(df_train_full_clean.columns)",
   "id": "341dd29b32a52650",
   "outputs": [
    {
     "data": {
      "text/plain": [
       "Index(['count_each_word', 'count_punctuations', 'count_stopwords',\n",
       "       'count_unique_word', 'count_words_title', 'exclamation_mark',\n",
       "       'mean_word_len', 'new_big_space', 'new_line', 'new_medium_space',\n",
       "       'new_small_space', 'punctuations_percent', 'question_mark',\n",
       "       'total_length', 'uppercase_words', 'word_unique_percent'],\n",
       "      dtype='object')"
      ]
     },
     "execution_count": 23,
     "metadata": {},
     "output_type": "execute_result"
    }
   ],
   "execution_count": 23
  },
  {
   "metadata": {},
   "cell_type": "markdown",
   "source": "The next step is to visualize each of the values to understand how they behave.",
   "id": "e5e04153da39542f"
  },
  {
   "metadata": {
    "ExecuteTime": {
     "end_time": "2024-11-17T14:32:57.956250Z",
     "start_time": "2024-11-17T14:32:57.942230Z"
    }
   },
   "cell_type": "code",
   "source": "np.mean(df_add_features[\"count_each_word\"])",
   "id": "97536a61d92972df",
   "outputs": [
    {
     "data": {
      "text/plain": [
       "67.27352714465661"
      ]
     },
     "execution_count": 24,
     "metadata": {},
     "output_type": "execute_result"
    }
   ],
   "execution_count": 24
  },
  {
   "metadata": {},
   "cell_type": "markdown",
   "source": [
    "We had several possibilities in the quantity of words on each value\n",
    "for that we will try to plot the values in bins to understand the distribution better. "
   ],
   "id": "5a19fa62e548c23b"
  },
  {
   "metadata": {
    "ExecuteTime": {
     "end_time": "2024-11-17T14:32:58.716409Z",
     "start_time": "2024-11-17T14:32:57.958251Z"
    }
   },
   "cell_type": "code",
   "source": [
    "column_select = \"count_each_word\"\n",
    "# we filter it because if not we will see too many outliers\n",
    "filter_data = df_add_features[df_add_features[column_select] <= 200]\n",
    "histogram_bins(filter_data[column_select].index, filter_data[column_select].values,bins= 40, title= f\"Feature called {column_select}\" )"
   ],
   "id": "246faacfe02e8488",
   "outputs": [
    {
     "data": {
      "text/plain": [
       "<Figure size 1500x400 with 1 Axes>"
      ],
      "image/png": "[encoded data removed]"
     },
     "metadata": {},
     "output_type": "display_data"
    }
   ],
   "execution_count": 25
  },
  {
   "metadata": {},
   "cell_type": "markdown",
   "source": [
    "We understand that most of the words  in the dataset are around 5,\n",
    "so we will try to see if we can spot any idea when applying the filter if there is toxic comment"
   ],
   "id": "be7f49dd401ceaa7"
  },
  {
   "metadata": {
    "ExecuteTime": {
     "end_time": "2024-11-17T14:32:59.655091Z",
     "start_time": "2024-11-17T14:32:58.718409Z"
    }
   },
   "cell_type": "code",
   "source": [
    "column_select = \"count_each_word\"\n",
    "# we filter it because if not we will see too many outliers\n",
    "filter_data = df_add_features[(df_add_features[column_select] >= 200) & (df_add_features[\"is_toxic\"] == 1)]\n",
    "histogram_bins(filter_data[column_select].index, filter_data[column_select].values,bins= 40, title= f\"Feature called {column_select}\" )"
   ],
   "id": "da2108e23fad2740",
   "outputs": [
    {
     "data": {
      "text/plain": [
       "<Figure size 1500x400 with 1 Axes>"
      ],
      "image/png": "[encoded data removed]"
     },
     "metadata": {},
     "output_type": "display_data"
    }
   ],
   "execution_count": 26
  },
  {
   "metadata": {},
   "cell_type": "markdown",
   "source": "Seems that they had similar distributions for that we can plot a box plot and see if we could spot any differences",
   "id": "75073a4dffdf4a5f"
  },
  {
   "metadata": {
    "ExecuteTime": {
     "end_time": "2024-11-17T14:32:59.670598Z",
     "start_time": "2024-11-17T14:32:59.657074Z"
    }
   },
   "cell_type": "code",
   "source": [
    "column_select = \"count_punctuations\"\n",
    "df_filter = df_add_features[column_select].value_counts()\n",
    "print(f\"we had around {round(df_filter.head(10).sum() / df_filter.sum(),4)*100} % of the data\")\n",
    "df_filter"
   ],
   "id": "1a7cd4f27588e3dd",
   "outputs": [
    {
     "name": "stdout",
     "output_type": "stream",
     "text": [
      "we had around 55.58 % of the data\n"
     ]
    },
    {
     "data": {
      "text/plain": [
       "count_punctuations\n",
       "3      11463\n",
       "2      10995\n",
       "4      10693\n",
       "5       9962\n",
       "6       9173\n",
       "       ...  \n",
       "449        1\n",
       "417        1\n",
       "685        1\n",
       "439        1\n",
       "714        1\n",
       "Name: count, Length: 381, dtype: int64"
      ]
     },
     "execution_count": 27,
     "metadata": {},
     "output_type": "execute_result"
    }
   ],
   "execution_count": 27
  },
  {
   "metadata": {},
   "cell_type": "markdown",
   "source": "We can just see fewer punctuation on mostly of the data",
   "id": "da3eba5e1ab6a428"
  },
  {
   "metadata": {},
   "cell_type": "markdown",
   "source": "We could not spot any significance on the unique words that the titles could had",
   "id": "17f1db37da8e6378"
  },
  {
   "metadata": {
    "ExecuteTime": {
     "end_time": "2024-11-17T14:32:59.887722Z",
     "start_time": "2024-11-17T14:32:59.671598Z"
    }
   },
   "cell_type": "code",
   "source": "df_add_features.describe()",
   "id": "c7383f1c5d391595",
   "outputs": [
    {
     "data": {
      "text/plain": [
       "               toxic   severe_toxic        obscene         threat  \\\n",
       "count  159571.000000  159571.000000  159571.000000  159571.000000   \n",
       "mean        0.095844       0.009996       0.052948       0.002996   \n",
       "std         0.294379       0.099477       0.223931       0.054650   \n",
       "min         0.000000       0.000000       0.000000       0.000000   \n",
       "25%         0.000000       0.000000       0.000000       0.000000   \n",
       "50%         0.000000       0.000000       0.000000       0.000000   \n",
       "75%         0.000000       0.000000       0.000000       0.000000   \n",
       "max         1.000000       1.000000       1.000000       1.000000   \n",
       "\n",
       "              insult  identity_hate       is_toxic  count_each_word  \\\n",
       "count  159571.000000  159571.000000  159571.000000    159571.000000   \n",
       "mean        0.049364       0.008805       0.101679        67.273527   \n",
       "std         0.216627       0.093420       0.302226        99.230702   \n",
       "min         0.000000       0.000000       0.000000         1.000000   \n",
       "25%         0.000000       0.000000       0.000000        17.000000   \n",
       "50%         0.000000       0.000000       0.000000        36.000000   \n",
       "75%         0.000000       0.000000       0.000000        75.000000   \n",
       "max         1.000000       1.000000       1.000000      1411.000000   \n",
       "\n",
       "       count_unique_word  count_punctuations  ...   total_length  \\\n",
       "count      159571.000000       159571.000000  ...  159571.000000   \n",
       "mean           48.097323           15.885418  ...     394.073221   \n",
       "std            54.436443           36.649770  ...     590.720282   \n",
       "min             1.000000            0.000000  ...       6.000000   \n",
       "25%            16.000000            4.000000  ...      96.000000   \n",
       "50%            31.000000            8.000000  ...     205.000000   \n",
       "75%            59.000000           17.000000  ...     435.000000   \n",
       "max           816.000000         4942.000000  ...    5000.000000   \n",
       "\n",
       "           new_line  new_small_space  new_medium_space  new_big_space  \\\n",
       "count  159571.00000    159571.000000     159571.000000  159571.000000   \n",
       "mean        2.52074         0.900201          0.000846       0.000269   \n",
       "std         5.96225         2.072427          0.034223       0.018898   \n",
       "min         0.00000         0.000000          0.000000       0.000000   \n",
       "25%         0.00000         0.000000          0.000000       0.000000   \n",
       "50%         1.00000         0.000000          0.000000       0.000000   \n",
       "75%         2.00000         1.000000          0.000000       0.000000   \n",
       "max       312.00000       122.000000          4.000000       3.000000   \n",
       "\n",
       "       uppercase_words  question_mark  exclamation_mark  word_unique_percent  \\\n",
       "count    159571.000000   159571.00000     159571.000000        159571.000000   \n",
       "mean         17.159628        0.44928          0.661624            85.501925   \n",
       "std          96.528103        1.58990         25.899553            12.817618   \n",
       "min           0.000000        0.00000          0.000000             0.080000   \n",
       "25%           3.000000        0.00000          0.000000            77.906977   \n",
       "50%           7.000000        0.00000          0.000000            87.500000   \n",
       "75%          15.000000        1.00000          0.000000            95.652174   \n",
       "max        4960.000000      209.00000       4942.000000           100.000000   \n",
       "\n",
       "       punctuations_percent  \n",
       "count         159571.000000  \n",
       "mean              30.130164  \n",
       "std              201.474287  \n",
       "min                0.000000  \n",
       "25%               14.814815  \n",
       "50%               21.739130  \n",
       "75%               33.159258  \n",
       "max            70600.000000  \n",
       "\n",
       "[8 rows x 23 columns]"
      ],
      "text/html": [
       "<div>\n",
       "<style scoped>\n",
       "    .dataframe tbody tr th:only-of-type {\n",
       "        vertical-align: middle;\n",
       "    }\n",
       "\n",
       "    .dataframe tbody tr th {\n",
       "        vertical-align: top;\n",
       "    }\n",
       "\n",
       "    .dataframe thead th {\n",
       "        text-align: right;\n",
       "    }\n",
       "</style>\n",
       "<table border=\"1\" class=\"dataframe\">\n",
       "  <thead>\n",
       "    <tr style=\"text-align: right;\">\n",
       "      <th></th>\n",
       "      <th>toxic</th>\n",
       "      <th>severe_toxic</th>\n",
       "      <th>obscene</th>\n",
       "      <th>threat</th>\n",
       "      <th>insult</th>\n",
       "      <th>identity_hate</th>\n",
       "      <th>is_toxic</th>\n",
       "      <th>count_each_word</th>\n",
       "      <th>count_unique_word</th>\n",
       "      <th>count_punctuations</th>\n",
       "      <th>...</th>\n",
       "      <th>total_length</th>\n",
       "      <th>new_line</th>\n",
       "      <th>new_small_space</th>\n",
       "      <th>new_medium_space</th>\n",
       "      <th>new_big_space</th>\n",
       "      <th>uppercase_words</th>\n",
       "      <th>question_mark</th>\n",
       "      <th>exclamation_mark</th>\n",
       "      <th>word_unique_percent</th>\n",
       "      <th>punctuations_percent</th>\n",
       "    </tr>\n",
       "  </thead>\n",
       "  <tbody>\n",
       "    <tr>\n",
       "      <th>count</th>\n",
       "      <td>159571.000000</td>\n",
       "      <td>159571.000000</td>\n",
       "      <td>159571.000000</td>\n",
       "      <td>159571.000000</td>\n",
       "      <td>159571.000000</td>\n",
       "      <td>159571.000000</td>\n",
       "      <td>159571.000000</td>\n",
       "      <td>159571.000000</td>\n",
       "      <td>159571.000000</td>\n",
       "      <td>159571.000000</td>\n",
       "      <td>...</td>\n",
       "      <td>159571.000000</td>\n",
       "      <td>159571.00000</td>\n",
       "      <td>159571.000000</td>\n",
       "      <td>159571.000000</td>\n",
       "      <td>159571.000000</td>\n",
       "      <td>159571.000000</td>\n",
       "      <td>159571.00000</td>\n",
       "      <td>159571.000000</td>\n",
       "      <td>159571.000000</td>\n",
       "      <td>159571.000000</td>\n",
       "    </tr>\n",
       "    <tr>\n",
       "      <th>mean</th>\n",
       "      <td>0.095844</td>\n",
       "      <td>0.009996</td>\n",
       "      <td>0.052948</td>\n",
       "      <td>0.002996</td>\n",
       "      <td>0.049364</td>\n",
       "      <td>0.008805</td>\n",
       "      <td>0.101679</td>\n",
       "      <td>67.273527</td>\n",
       "      <td>48.097323</td>\n",
       "      <td>15.885418</td>\n",
       "      <td>...</td>\n",
       "      <td>394.073221</td>\n",
       "      <td>2.52074</td>\n",
       "      <td>0.900201</td>\n",
       "      <td>0.000846</td>\n",
       "      <td>0.000269</td>\n",
       "      <td>17.159628</td>\n",
       "      <td>0.44928</td>\n",
       "      <td>0.661624</td>\n",
       "      <td>85.501925</td>\n",
       "      <td>30.130164</td>\n",
       "    </tr>\n",
       "    <tr>\n",
       "      <th>std</th>\n",
       "      <td>0.294379</td>\n",
       "      <td>0.099477</td>\n",
       "      <td>0.223931</td>\n",
       "      <td>0.054650</td>\n",
       "      <td>0.216627</td>\n",
       "      <td>0.093420</td>\n",
       "      <td>0.302226</td>\n",
       "      <td>99.230702</td>\n",
       "      <td>54.436443</td>\n",
       "      <td>36.649770</td>\n",
       "      <td>...</td>\n",
       "      <td>590.720282</td>\n",
       "      <td>5.96225</td>\n",
       "      <td>2.072427</td>\n",
       "      <td>0.034223</td>\n",
       "      <td>0.018898</td>\n",
       "      <td>96.528103</td>\n",
       "      <td>1.58990</td>\n",
       "      <td>25.899553</td>\n",
       "      <td>12.817618</td>\n",
       "      <td>201.474287</td>\n",
       "    </tr>\n",
       "    <tr>\n",
       "      <th>min</th>\n",
       "      <td>0.000000</td>\n",
       "      <td>0.000000</td>\n",
       "      <td>0.000000</td>\n",
       "      <td>0.000000</td>\n",
       "      <td>0.000000</td>\n",
       "      <td>0.000000</td>\n",
       "      <td>0.000000</td>\n",
       "      <td>1.000000</td>\n",
       "      <td>1.000000</td>\n",
       "      <td>0.000000</td>\n",
       "      <td>...</td>\n",
       "      <td>6.000000</td>\n",
       "      <td>0.00000</td>\n",
       "      <td>0.000000</td>\n",
       "      <td>0.000000</td>\n",
       "      <td>0.000000</td>\n",
       "      <td>0.000000</td>\n",
       "      <td>0.00000</td>\n",
       "      <td>0.000000</td>\n",
       "      <td>0.080000</td>\n",
       "      <td>0.000000</td>\n",
       "    </tr>\n",
       "    <tr>\n",
       "      <th>25%</th>\n",
       "      <td>0.000000</td>\n",
       "      <td>0.000000</td>\n",
       "      <td>0.000000</td>\n",
       "      <td>0.000000</td>\n",
       "      <td>0.000000</td>\n",
       "      <td>0.000000</td>\n",
       "      <td>0.000000</td>\n",
       "      <td>17.000000</td>\n",
       "      <td>16.000000</td>\n",
       "      <td>4.000000</td>\n",
       "      <td>...</td>\n",
       "      <td>96.000000</td>\n",
       "      <td>0.00000</td>\n",
       "      <td>0.000000</td>\n",
       "      <td>0.000000</td>\n",
       "      <td>0.000000</td>\n",
       "      <td>3.000000</td>\n",
       "      <td>0.00000</td>\n",
       "      <td>0.000000</td>\n",
       "      <td>77.906977</td>\n",
       "      <td>14.814815</td>\n",
       "    </tr>\n",
       "    <tr>\n",
       "      <th>50%</th>\n",
       "      <td>0.000000</td>\n",
       "      <td>0.000000</td>\n",
       "      <td>0.000000</td>\n",
       "      <td>0.000000</td>\n",
       "      <td>0.000000</td>\n",
       "      <td>0.000000</td>\n",
       "      <td>0.000000</td>\n",
       "      <td>36.000000</td>\n",
       "      <td>31.000000</td>\n",
       "      <td>8.000000</td>\n",
       "      <td>...</td>\n",
       "      <td>205.000000</td>\n",
       "      <td>1.00000</td>\n",
       "      <td>0.000000</td>\n",
       "      <td>0.000000</td>\n",
       "      <td>0.000000</td>\n",
       "      <td>7.000000</td>\n",
       "      <td>0.00000</td>\n",
       "      <td>0.000000</td>\n",
       "      <td>87.500000</td>\n",
       "      <td>21.739130</td>\n",
       "    </tr>\n",
       "    <tr>\n",
       "      <th>75%</th>\n",
       "      <td>0.000000</td>\n",
       "      <td>0.000000</td>\n",
       "      <td>0.000000</td>\n",
       "      <td>0.000000</td>\n",
       "      <td>0.000000</td>\n",
       "      <td>0.000000</td>\n",
       "      <td>0.000000</td>\n",
       "      <td>75.000000</td>\n",
       "      <td>59.000000</td>\n",
       "      <td>17.000000</td>\n",
       "      <td>...</td>\n",
       "      <td>435.000000</td>\n",
       "      <td>2.00000</td>\n",
       "      <td>1.000000</td>\n",
       "      <td>0.000000</td>\n",
       "      <td>0.000000</td>\n",
       "      <td>15.000000</td>\n",
       "      <td>1.00000</td>\n",
       "      <td>0.000000</td>\n",
       "      <td>95.652174</td>\n",
       "      <td>33.159258</td>\n",
       "    </tr>\n",
       "    <tr>\n",
       "      <th>max</th>\n",
       "      <td>1.000000</td>\n",
       "      <td>1.000000</td>\n",
       "      <td>1.000000</td>\n",
       "      <td>1.000000</td>\n",
       "      <td>1.000000</td>\n",
       "      <td>1.000000</td>\n",
       "      <td>1.000000</td>\n",
       "      <td>1411.000000</td>\n",
       "      <td>816.000000</td>\n",
       "      <td>4942.000000</td>\n",
       "      <td>...</td>\n",
       "      <td>5000.000000</td>\n",
       "      <td>312.00000</td>\n",
       "      <td>122.000000</td>\n",
       "      <td>4.000000</td>\n",
       "      <td>3.000000</td>\n",
       "      <td>4960.000000</td>\n",
       "      <td>209.00000</td>\n",
       "      <td>4942.000000</td>\n",
       "      <td>100.000000</td>\n",
       "      <td>70600.000000</td>\n",
       "    </tr>\n",
       "  </tbody>\n",
       "</table>\n",
       "<p>8 rows × 23 columns</p>\n",
       "</div>"
      ]
     },
     "execution_count": 28,
     "metadata": {},
     "output_type": "execute_result"
    }
   ],
   "execution_count": 28
  },
  {
   "metadata": {},
   "cell_type": "markdown",
   "source": [
    "We try to find any pattern that can suggest any idea of whats happening if we use different methods,\n",
    "but overall, i could not detect any clear pattern.\n",
    "\n",
    "Now we will stop the 1st part of the analysis in local, so we will be moving to the cloud."
   ],
   "id": "68a3ced9187296b5"
  },
  {
   "metadata": {},
   "cell_type": "markdown",
   "source": [
    "# Conclusions\n",
    "\n",
    "- We see a really imbalance dataset, so we will need to play with any of the under sampling or oversampling technics to balance the dataset or use weights, but for now\n",
    "- We found that across characters, length or words, there its not an specific patter that it can suggest any predictability from our analysis, so we will move to more complex analysis"
   ],
   "id": "700adf834d870a26"
  }
 ],
 "metadata": {
  "kernelspec": {
   "display_name": "Python 3",
   "language": "python",
   "name": "python3"
  },
  "language_info": {
   "codemirror_mode": {
    "name": "ipython",
    "version": 2
   },
   "file_extension": ".py",
   "mimetype": "text/x-python",
   "name": "python",
   "nbconvert_exporter": "python",
   "pygments_lexer": "ipython2",
   "version": "2.7.6"
  }
 },
 "nbformat": 4,
 "nbformat_minor": 5
}
